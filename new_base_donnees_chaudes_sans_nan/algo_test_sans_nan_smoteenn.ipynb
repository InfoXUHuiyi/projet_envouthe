{
 "cells": [
  {
   "cell_type": "markdown",
   "metadata": {},
   "source": [
    "DONE:\n",
    "- ignorer les valeurs nan dans le churn, car c'est le cas \"l'incertitude totale\"\n",
    "- filtrer l'age entre 20 et 59 ans\n",
    "- matrice de correlation sur les donnees numeriques\n",
    "- utiliser seulement les donnees avec les donnees chaudes non nulles\n",
    "- utiliser tous les champs comme les features\n",
    "- resoudre le probleme de desequilibre (SMOTEENN)"
   ]
  },
  {
   "cell_type": "markdown",
   "metadata": {},
   "source": [
    "# Envouthe Churn Prediction\n",
    "\n",
    "Envouthé souhaite réduire le % de churn et investir les efforts marketing sur les clients à risques (70% de risque de non renouvellement de l’abonnement) afin qu’ils renouvellent leur abonnement.\n",
    "\n",
    "**Context**\n",
    "- Les clients Envouthé peuvent souscrire à des abonnements mensuels, trimestriels, semestriels et annuels.\n",
    "- A l’issue de la date de fin d’abonnement, le client doivent renouveler son abonnement.\n",
    "- Dans le même lapse de temps, l'équipe marketing Envouthé envoie régulièrement un certain nombre d'emails promotionnels et d’emails d’informations.\n",
    "\n",
    "**Objectif**\n",
    "- Prédire le risque de churn pour les clients en fin d’abonnement\n",
    "\n",
    "**Description du use case retenu:**\n",
    "- En fonction du comportement des clients, l’algorithme va déduire un score de 0 à 1 (0 pas d'appétence au renouvellement ; 1 appétence au renouvellement forte)  \n",
    "- si appétence > 0,7; pas d’action particulière\n",
    "- si appétence entre 0,3 et 0,7 , c'est une visiteur tiède, le marketing pourra envoyer des offres marketing afin d’augmenter le % de renouvellement\n",
    "- sinon: envoi d’une enquête satisfaction client\n",
    "\n",
    "**Columns**\n",
    "- id_subscriptionMain: id d'abonnement\n",
    "- id_order: id de commande\n",
    "- client_name: nom de client\n",
    "- email: email de client\n",
    "- box_name: nom de box\n",
    "- subscriptions_type: type d'abonnement. Le numéro signifie que la durée de l’abonnement/la durée des échéances d’abonnement prévues dans le système. \n",
    "- month: la date du mois qui s'est écoulé depuis la date de début\n",
    "- submain_state: le statut d'abonnement.\n",
    "- product_attribute: l'attribut de produit\t\n",
    "- id: id de client\n",
    "- last_name: nom de famille de client\n",
    "- newsletter: si l'utilisateur inscrit le newsletter ou pas\n",
    "- age: age de client\n",
    "- beginning_date: date de debut d'abonnement\n",
    "- ending_date: date de fin d'abonnement\n",
    "- first_name: prenom de client\n",
    "- abonnement_succ: si l'abonnement est active le mois suivant ou pas\n",
    "- total_sub: nombre total d'abonnements\n",
    "- abonnement_consec: la durée de l'abonnement effectif par rapport a la date de début\n",
    "- churn: si l'abonnement va renouveller ou pas\n",
    "- campaign_id: id de campagne.\n",
    "- email_id: id d'email reçu\n",
    "- Timestamp: la date de l'action.\n",
    "- action_open: nbr d'ouverture.\n",
    "- action_click: nbr de click."
   ]
  },
  {
   "cell_type": "code",
   "execution_count": 1,
   "metadata": {},
   "outputs": [
    {
     "name": "stdout",
     "output_type": "stream",
     "text": [
      "1.12.0\n"
     ]
    }
   ],
   "source": [
    "import pandas as pd\n",
    "import matplotlib.pyplot as plt\n",
    "import pylab as pl\n",
    "import copy\n",
    "import seaborn as sns\n",
    "import numpy as np\n",
    "\n",
    "import tensorflow as tf\n",
    "from sklearn.model_selection import train_test_split\n",
    "from sklearn.preprocessing import normalize\n",
    "\n",
    "from sklearn.linear_model import LogisticRegression\n",
    "from sklearn.ensemble import RandomForestClassifier\n",
    "from sklearn.tree import DecisionTreeClassifier\n",
    "from sklearn.svm import SVC\n",
    "\n",
    "from sklearn.metrics import accuracy_score\n",
    "from sklearn.metrics import recall_score\n",
    "from sklearn.model_selection import cross_val_score\n",
    "from sklearn.metrics import confusion_matrix\n",
    "from sklearn.metrics import classification_report\n",
    "from sklearn.model_selection import GridSearchCV\n",
    "\n",
    "\n",
    "print(tf.__version__)"
   ]
  },
  {
   "cell_type": "code",
   "execution_count": 2,
   "metadata": {},
   "outputs": [
    {
     "data": {
      "text/html": [
       "<div>\n",
       "<style scoped>\n",
       "    .dataframe tbody tr th:only-of-type {\n",
       "        vertical-align: middle;\n",
       "    }\n",
       "\n",
       "    .dataframe tbody tr th {\n",
       "        vertical-align: top;\n",
       "    }\n",
       "\n",
       "    .dataframe thead th {\n",
       "        text-align: right;\n",
       "    }\n",
       "</style>\n",
       "<table border=\"1\" class=\"dataframe\">\n",
       "  <thead>\n",
       "    <tr style=\"text-align: right;\">\n",
       "      <th></th>\n",
       "      <th>id_subscriptionMain</th>\n",
       "      <th>id_order</th>\n",
       "      <th>client_name</th>\n",
       "      <th>email</th>\n",
       "      <th>box_name</th>\n",
       "      <th>subscriptions_type</th>\n",
       "      <th>month</th>\n",
       "      <th>submain_state</th>\n",
       "      <th>product_attribute</th>\n",
       "      <th>id</th>\n",
       "      <th>...</th>\n",
       "      <th>total_sub</th>\n",
       "      <th>abonnement_consec</th>\n",
       "      <th>churn</th>\n",
       "      <th>campaign_id</th>\n",
       "      <th>list_id</th>\n",
       "      <th>list_is_active</th>\n",
       "      <th>email_id</th>\n",
       "      <th>Timestamp</th>\n",
       "      <th>action_open</th>\n",
       "      <th>action_click</th>\n",
       "    </tr>\n",
       "  </thead>\n",
       "  <tbody>\n",
       "    <tr>\n",
       "      <th>0</th>\n",
       "      <td>3161</td>\n",
       "      <td>25661</td>\n",
       "      <td>Mélanie Corsin</td>\n",
       "      <td>09claire.ny@gmail.com</td>\n",
       "      <td>Abonnement mensuel</td>\n",
       "      <td>12</td>\n",
       "      <td>01/04/2016</td>\n",
       "      <td>CANCELED</td>\n",
       "      <td>Durée de l'abonnement :illimité, Fréquence d'...</td>\n",
       "      <td>19717</td>\n",
       "      <td>...</td>\n",
       "      <td>1</td>\n",
       "      <td>1</td>\n",
       "      <td>Yes</td>\n",
       "      <td>001fda10d5</td>\n",
       "      <td>e6c6373c83</td>\n",
       "      <td>True</td>\n",
       "      <td>a99f89fb19a6b963e10bc733226ed55b</td>\n",
       "      <td>NaN</td>\n",
       "      <td>NaN</td>\n",
       "      <td>NaN</td>\n",
       "    </tr>\n",
       "    <tr>\n",
       "      <th>1</th>\n",
       "      <td>1621</td>\n",
       "      <td>27750</td>\n",
       "      <td>Mélanie Corsin</td>\n",
       "      <td>09claire.ny@gmail.com</td>\n",
       "      <td>Abonnement mensuel</td>\n",
       "      <td>12</td>\n",
       "      <td>01/10/2016</td>\n",
       "      <td>CANCELED</td>\n",
       "      <td>Durée de l'abonnement :illimité, Fréquence d'...</td>\n",
       "      <td>19717</td>\n",
       "      <td>...</td>\n",
       "      <td>2</td>\n",
       "      <td>1</td>\n",
       "      <td>No</td>\n",
       "      <td>001fda10d5</td>\n",
       "      <td>e6c6373c83</td>\n",
       "      <td>True</td>\n",
       "      <td>a99f89fb19a6b963e10bc733226ed55b</td>\n",
       "      <td>NaN</td>\n",
       "      <td>NaN</td>\n",
       "      <td>NaN</td>\n",
       "    </tr>\n",
       "    <tr>\n",
       "      <th>2</th>\n",
       "      <td>1621</td>\n",
       "      <td>27750</td>\n",
       "      <td>Mélanie Corsin</td>\n",
       "      <td>09claire.ny@gmail.com</td>\n",
       "      <td>Abonnement mensuel</td>\n",
       "      <td>12</td>\n",
       "      <td>01/11/2016</td>\n",
       "      <td>CANCELED</td>\n",
       "      <td>Durée de l'abonnement :illimité, Fréquence d'...</td>\n",
       "      <td>19717</td>\n",
       "      <td>...</td>\n",
       "      <td>3</td>\n",
       "      <td>2</td>\n",
       "      <td>No</td>\n",
       "      <td>001fda10d5</td>\n",
       "      <td>e6c6373c83</td>\n",
       "      <td>True</td>\n",
       "      <td>a99f89fb19a6b963e10bc733226ed55b</td>\n",
       "      <td>NaN</td>\n",
       "      <td>NaN</td>\n",
       "      <td>NaN</td>\n",
       "    </tr>\n",
       "    <tr>\n",
       "      <th>3</th>\n",
       "      <td>1621</td>\n",
       "      <td>27750</td>\n",
       "      <td>Mélanie Corsin</td>\n",
       "      <td>09claire.ny@gmail.com</td>\n",
       "      <td>Abonnement mensuel</td>\n",
       "      <td>12</td>\n",
       "      <td>01/12/2016</td>\n",
       "      <td>CANCELED</td>\n",
       "      <td>Durée de l'abonnement :illimité, Fréquence d'...</td>\n",
       "      <td>19717</td>\n",
       "      <td>...</td>\n",
       "      <td>4</td>\n",
       "      <td>3</td>\n",
       "      <td>Yes</td>\n",
       "      <td>001fda10d5</td>\n",
       "      <td>e6c6373c83</td>\n",
       "      <td>True</td>\n",
       "      <td>a99f89fb19a6b963e10bc733226ed55b</td>\n",
       "      <td>NaN</td>\n",
       "      <td>NaN</td>\n",
       "      <td>NaN</td>\n",
       "    </tr>\n",
       "    <tr>\n",
       "      <th>4</th>\n",
       "      <td>18129</td>\n",
       "      <td>2319</td>\n",
       "      <td>Cheyrou Sandrine</td>\n",
       "      <td>100driiine@reverdailleurs.com</td>\n",
       "      <td>Abonnement mensuel</td>\n",
       "      <td>64</td>\n",
       "      <td>01/12/2012</td>\n",
       "      <td>SUSPENDED</td>\n",
       "      <td>Durée de l'abonnement :illimité, Fréquence d'...</td>\n",
       "      <td>2567</td>\n",
       "      <td>...</td>\n",
       "      <td>1</td>\n",
       "      <td>1</td>\n",
       "      <td>No</td>\n",
       "      <td>001fda10d5</td>\n",
       "      <td>e6c6373c83</td>\n",
       "      <td>True</td>\n",
       "      <td>a5a4e382d254c5dca807536aa5a507cf</td>\n",
       "      <td>NaN</td>\n",
       "      <td>NaN</td>\n",
       "      <td>NaN</td>\n",
       "    </tr>\n",
       "  </tbody>\n",
       "</table>\n",
       "<p>5 rows × 27 columns</p>\n",
       "</div>"
      ],
      "text/plain": [
       "   id_subscriptionMain  id_order       client_name  \\\n",
       "0                 3161     25661    Mélanie Corsin   \n",
       "1                 1621     27750    Mélanie Corsin   \n",
       "2                 1621     27750    Mélanie Corsin   \n",
       "3                 1621     27750    Mélanie Corsin   \n",
       "4                18129      2319  Cheyrou Sandrine   \n",
       "\n",
       "                           email            box_name  subscriptions_type  \\\n",
       "0          09claire.ny@gmail.com  Abonnement mensuel                  12   \n",
       "1          09claire.ny@gmail.com  Abonnement mensuel                  12   \n",
       "2          09claire.ny@gmail.com  Abonnement mensuel                  12   \n",
       "3          09claire.ny@gmail.com  Abonnement mensuel                  12   \n",
       "4  100driiine@reverdailleurs.com  Abonnement mensuel                  64   \n",
       "\n",
       "        month submain_state  \\\n",
       "0  01/04/2016      CANCELED   \n",
       "1  01/10/2016      CANCELED   \n",
       "2  01/11/2016      CANCELED   \n",
       "3  01/12/2016      CANCELED   \n",
       "4  01/12/2012     SUSPENDED   \n",
       "\n",
       "                                   product_attribute     id  ... total_sub  \\\n",
       "0   Durée de l'abonnement :illimité, Fréquence d'...  19717  ...         1   \n",
       "1   Durée de l'abonnement :illimité, Fréquence d'...  19717  ...         2   \n",
       "2   Durée de l'abonnement :illimité, Fréquence d'...  19717  ...         3   \n",
       "3   Durée de l'abonnement :illimité, Fréquence d'...  19717  ...         4   \n",
       "4   Durée de l'abonnement :illimité, Fréquence d'...   2567  ...         1   \n",
       "\n",
       "   abonnement_consec  churn campaign_id     list_id list_is_active  \\\n",
       "0                  1    Yes  001fda10d5  e6c6373c83           True   \n",
       "1                  1     No  001fda10d5  e6c6373c83           True   \n",
       "2                  2     No  001fda10d5  e6c6373c83           True   \n",
       "3                  3    Yes  001fda10d5  e6c6373c83           True   \n",
       "4                  1     No  001fda10d5  e6c6373c83           True   \n",
       "\n",
       "                           email_id  Timestamp  action_open action_click  \n",
       "0  a99f89fb19a6b963e10bc733226ed55b        NaN          NaN          NaN  \n",
       "1  a99f89fb19a6b963e10bc733226ed55b        NaN          NaN          NaN  \n",
       "2  a99f89fb19a6b963e10bc733226ed55b        NaN          NaN          NaN  \n",
       "3  a99f89fb19a6b963e10bc733226ed55b        NaN          NaN          NaN  \n",
       "4  a5a4e382d254c5dca807536aa5a507cf        NaN          NaN          NaN  \n",
       "\n",
       "[5 rows x 27 columns]"
      ]
     },
     "execution_count": 2,
     "metadata": {},
     "output_type": "execute_result"
    }
   ],
   "source": [
    "dataset = pd.read_csv('../../donnees/final_v1.csv')\n",
    "dataset.head()"
   ]
  },
  {
   "cell_type": "code",
   "execution_count": 3,
   "metadata": {},
   "outputs": [
    {
     "name": "stdout",
     "output_type": "stream",
     "text": [
      "<class 'pandas.core.frame.DataFrame'>\n",
      "RangeIndex: 30505 entries, 0 to 30504\n",
      "Data columns (total 27 columns):\n",
      "id_subscriptionMain    30505 non-null int64\n",
      "id_order               30505 non-null int64\n",
      "client_name            30505 non-null object\n",
      "email                  30505 non-null object\n",
      "box_name               30505 non-null object\n",
      "subscriptions_type     30505 non-null int64\n",
      "month                  30505 non-null object\n",
      "submain_state          30505 non-null object\n",
      "product_attribute      30505 non-null object\n",
      "id                     30505 non-null int64\n",
      "last_name              30505 non-null object\n",
      "newsletter             30505 non-null bool\n",
      "age                    9228 non-null float64\n",
      "beginning_date         30505 non-null object\n",
      "ending_date            30505 non-null object\n",
      "first_name             30505 non-null object\n",
      "abonnement_succ        29858 non-null object\n",
      "total_sub              30505 non-null int64\n",
      "abonnement_consec      30505 non-null int64\n",
      "churn                  29858 non-null object\n",
      "campaign_id            30505 non-null object\n",
      "list_id                30505 non-null object\n",
      "list_is_active         30505 non-null bool\n",
      "email_id               30505 non-null object\n",
      "Timestamp              2664 non-null object\n",
      "action_open            2664 non-null float64\n",
      "action_click           2664 non-null float64\n",
      "dtypes: bool(2), float64(3), int64(6), object(16)\n",
      "memory usage: 5.9+ MB\n"
     ]
    }
   ],
   "source": [
    "dataset.info()"
   ]
  },
  {
   "cell_type": "code",
   "execution_count": 4,
   "metadata": {},
   "outputs": [
    {
     "data": {
      "text/plain": [
       "id_subscriptionMain        0\n",
       "id_order                   0\n",
       "client_name                0\n",
       "email                      0\n",
       "box_name                   0\n",
       "subscriptions_type         0\n",
       "month                      0\n",
       "submain_state              0\n",
       "product_attribute          0\n",
       "id                         0\n",
       "last_name                  0\n",
       "newsletter                 0\n",
       "age                    21277\n",
       "beginning_date             0\n",
       "ending_date                0\n",
       "first_name                 0\n",
       "abonnement_succ          647\n",
       "total_sub                  0\n",
       "abonnement_consec          0\n",
       "churn                    647\n",
       "campaign_id                0\n",
       "list_id                    0\n",
       "list_is_active             0\n",
       "email_id                   0\n",
       "Timestamp              27841\n",
       "action_open            27841\n",
       "action_click           27841\n",
       "dtype: int64"
      ]
     },
     "execution_count": 4,
     "metadata": {},
     "output_type": "execute_result"
    }
   ],
   "source": [
    "# vérifier le nombre de valeurs nulles\n",
    "dataset.isnull().sum()"
   ]
  },
  {
   "cell_type": "code",
   "execution_count": 5,
   "metadata": {},
   "outputs": [
    {
     "data": {
      "text/plain": [
       "id_subscriptionMain    3747\n",
       "id_order               3747\n",
       "client_name            2414\n",
       "email                  2418\n",
       "box_name                  2\n",
       "subscriptions_type       40\n",
       "month                    92\n",
       "submain_state             4\n",
       "product_attribute         2\n",
       "id                     2418\n",
       "last_name              1606\n",
       "newsletter                2\n",
       "age                      56\n",
       "beginning_date         1215\n",
       "ending_date              80\n",
       "first_name             2027\n",
       "abonnement_succ           2\n",
       "total_sub                75\n",
       "abonnement_consec        75\n",
       "churn                     2\n",
       "campaign_id               4\n",
       "list_id                   4\n",
       "list_is_active            1\n",
       "email_id               2418\n",
       "Timestamp               179\n",
       "action_open              10\n",
       "action_click              4\n",
       "dtype: int64"
      ]
     },
     "execution_count": 5,
     "metadata": {},
     "output_type": "execute_result"
    }
   ],
   "source": [
    "# vérifier le nombre de classifications sur chaque champ\n",
    "dataset.nunique()"
   ]
  },
  {
   "cell_type": "code",
   "execution_count": 6,
   "metadata": {},
   "outputs": [
    {
     "data": {
      "text/html": [
       "<div>\n",
       "<style scoped>\n",
       "    .dataframe tbody tr th:only-of-type {\n",
       "        vertical-align: middle;\n",
       "    }\n",
       "\n",
       "    .dataframe tbody tr th {\n",
       "        vertical-align: top;\n",
       "    }\n",
       "\n",
       "    .dataframe thead th {\n",
       "        text-align: right;\n",
       "    }\n",
       "</style>\n",
       "<table border=\"1\" class=\"dataframe\">\n",
       "  <thead>\n",
       "    <tr style=\"text-align: right;\">\n",
       "      <th></th>\n",
       "      <th>id_subscriptionMain</th>\n",
       "      <th>id_order</th>\n",
       "      <th>subscriptions_type</th>\n",
       "      <th>id</th>\n",
       "      <th>age</th>\n",
       "      <th>total_sub</th>\n",
       "      <th>abonnement_consec</th>\n",
       "      <th>action_open</th>\n",
       "      <th>action_click</th>\n",
       "    </tr>\n",
       "  </thead>\n",
       "  <tbody>\n",
       "    <tr>\n",
       "      <th>count</th>\n",
       "      <td>30505.000000</td>\n",
       "      <td>30505.000000</td>\n",
       "      <td>30505.000000</td>\n",
       "      <td>30505.000000</td>\n",
       "      <td>9228.000000</td>\n",
       "      <td>30505.000000</td>\n",
       "      <td>30505.000000</td>\n",
       "      <td>2664.000000</td>\n",
       "      <td>2664.000000</td>\n",
       "    </tr>\n",
       "    <tr>\n",
       "      <th>mean</th>\n",
       "      <td>14040.412129</td>\n",
       "      <td>22524.638977</td>\n",
       "      <td>14.504770</td>\n",
       "      <td>14754.023832</td>\n",
       "      <td>35.354031</td>\n",
       "      <td>11.987707</td>\n",
       "      <td>10.448713</td>\n",
       "      <td>1.356607</td>\n",
       "      <td>0.608483</td>\n",
       "    </tr>\n",
       "    <tr>\n",
       "      <th>std</th>\n",
       "      <td>7049.389104</td>\n",
       "      <td>15666.789282</td>\n",
       "      <td>8.655119</td>\n",
       "      <td>11896.452733</td>\n",
       "      <td>11.370212</td>\n",
       "      <td>11.272552</td>\n",
       "      <td>10.384226</td>\n",
       "      <td>1.328678</td>\n",
       "      <td>0.659615</td>\n",
       "    </tr>\n",
       "    <tr>\n",
       "      <th>min</th>\n",
       "      <td>7.000000</td>\n",
       "      <td>2.000000</td>\n",
       "      <td>12.000000</td>\n",
       "      <td>1.000000</td>\n",
       "      <td>1.000000</td>\n",
       "      <td>1.000000</td>\n",
       "      <td>1.000000</td>\n",
       "      <td>0.000000</td>\n",
       "      <td>0.000000</td>\n",
       "    </tr>\n",
       "    <tr>\n",
       "      <th>25%</th>\n",
       "      <td>8566.000000</td>\n",
       "      <td>10119.000000</td>\n",
       "      <td>12.000000</td>\n",
       "      <td>5177.000000</td>\n",
       "      <td>28.000000</td>\n",
       "      <td>4.000000</td>\n",
       "      <td>3.000000</td>\n",
       "      <td>1.000000</td>\n",
       "      <td>0.000000</td>\n",
       "    </tr>\n",
       "    <tr>\n",
       "      <th>50%</th>\n",
       "      <td>14541.000000</td>\n",
       "      <td>19344.000000</td>\n",
       "      <td>12.000000</td>\n",
       "      <td>11568.000000</td>\n",
       "      <td>33.000000</td>\n",
       "      <td>9.000000</td>\n",
       "      <td>7.000000</td>\n",
       "      <td>1.000000</td>\n",
       "      <td>1.000000</td>\n",
       "    </tr>\n",
       "    <tr>\n",
       "      <th>75%</th>\n",
       "      <td>19376.000000</td>\n",
       "      <td>38184.000000</td>\n",
       "      <td>12.000000</td>\n",
       "      <td>22862.000000</td>\n",
       "      <td>41.000000</td>\n",
       "      <td>16.000000</td>\n",
       "      <td>13.000000</td>\n",
       "      <td>1.000000</td>\n",
       "      <td>1.000000</td>\n",
       "    </tr>\n",
       "    <tr>\n",
       "      <th>max</th>\n",
       "      <td>29579.000000</td>\n",
       "      <td>59951.000000</td>\n",
       "      <td>64.000000</td>\n",
       "      <td>46817.000000</td>\n",
       "      <td>76.000000</td>\n",
       "      <td>75.000000</td>\n",
       "      <td>75.000000</td>\n",
       "      <td>15.000000</td>\n",
       "      <td>3.000000</td>\n",
       "    </tr>\n",
       "  </tbody>\n",
       "</table>\n",
       "</div>"
      ],
      "text/plain": [
       "       id_subscriptionMain      id_order  subscriptions_type            id  \\\n",
       "count         30505.000000  30505.000000        30505.000000  30505.000000   \n",
       "mean          14040.412129  22524.638977           14.504770  14754.023832   \n",
       "std            7049.389104  15666.789282            8.655119  11896.452733   \n",
       "min               7.000000      2.000000           12.000000      1.000000   \n",
       "25%            8566.000000  10119.000000           12.000000   5177.000000   \n",
       "50%           14541.000000  19344.000000           12.000000  11568.000000   \n",
       "75%           19376.000000  38184.000000           12.000000  22862.000000   \n",
       "max           29579.000000  59951.000000           64.000000  46817.000000   \n",
       "\n",
       "               age     total_sub  abonnement_consec  action_open  action_click  \n",
       "count  9228.000000  30505.000000       30505.000000  2664.000000   2664.000000  \n",
       "mean     35.354031     11.987707          10.448713     1.356607      0.608483  \n",
       "std      11.370212     11.272552          10.384226     1.328678      0.659615  \n",
       "min       1.000000      1.000000           1.000000     0.000000      0.000000  \n",
       "25%      28.000000      4.000000           3.000000     1.000000      0.000000  \n",
       "50%      33.000000      9.000000           7.000000     1.000000      1.000000  \n",
       "75%      41.000000     16.000000          13.000000     1.000000      1.000000  \n",
       "max      76.000000     75.000000          75.000000    15.000000      3.000000  "
      ]
     },
     "execution_count": 6,
     "metadata": {},
     "output_type": "execute_result"
    }
   ],
   "source": [
    "dataset.describe()"
   ]
  },
  {
   "cell_type": "markdown",
   "metadata": {},
   "source": [
    "## data preprocessing"
   ]
  },
  {
   "cell_type": "code",
   "execution_count": 7,
   "metadata": {},
   "outputs": [
    {
     "data": {
      "text/html": [
       "<div>\n",
       "<style scoped>\n",
       "    .dataframe tbody tr th:only-of-type {\n",
       "        vertical-align: middle;\n",
       "    }\n",
       "\n",
       "    .dataframe tbody tr th {\n",
       "        vertical-align: top;\n",
       "    }\n",
       "\n",
       "    .dataframe thead th {\n",
       "        text-align: right;\n",
       "    }\n",
       "</style>\n",
       "<table border=\"1\" class=\"dataframe\">\n",
       "  <thead>\n",
       "    <tr style=\"text-align: right;\">\n",
       "      <th></th>\n",
       "      <th>id_subscriptionMain</th>\n",
       "      <th>client_name</th>\n",
       "      <th>email</th>\n",
       "      <th>box_name</th>\n",
       "      <th>subscriptions_type</th>\n",
       "      <th>month</th>\n",
       "      <th>submain_state</th>\n",
       "      <th>newsletter</th>\n",
       "      <th>age</th>\n",
       "      <th>beginning_date</th>\n",
       "      <th>ending_date</th>\n",
       "      <th>abonnement_succ</th>\n",
       "      <th>total_sub</th>\n",
       "      <th>abonnement_consec</th>\n",
       "      <th>churn</th>\n",
       "      <th>Timestamp</th>\n",
       "      <th>action_open</th>\n",
       "      <th>action_click</th>\n",
       "    </tr>\n",
       "  </thead>\n",
       "  <tbody>\n",
       "    <tr>\n",
       "      <th>0</th>\n",
       "      <td>3161</td>\n",
       "      <td>Mélanie Corsin</td>\n",
       "      <td>09claire.ny@gmail.com</td>\n",
       "      <td>Abonnement mensuel</td>\n",
       "      <td>12</td>\n",
       "      <td>01/04/2016</td>\n",
       "      <td>CANCELED</td>\n",
       "      <td>False</td>\n",
       "      <td>NaN</td>\n",
       "      <td>16/10/2016</td>\n",
       "      <td>31/12/2016</td>\n",
       "      <td>False</td>\n",
       "      <td>1</td>\n",
       "      <td>1</td>\n",
       "      <td>Yes</td>\n",
       "      <td>NaN</td>\n",
       "      <td>NaN</td>\n",
       "      <td>NaN</td>\n",
       "    </tr>\n",
       "    <tr>\n",
       "      <th>1</th>\n",
       "      <td>1621</td>\n",
       "      <td>Mélanie Corsin</td>\n",
       "      <td>09claire.ny@gmail.com</td>\n",
       "      <td>Abonnement mensuel</td>\n",
       "      <td>12</td>\n",
       "      <td>01/10/2016</td>\n",
       "      <td>CANCELED</td>\n",
       "      <td>False</td>\n",
       "      <td>NaN</td>\n",
       "      <td>16/10/2016</td>\n",
       "      <td>31/12/2016</td>\n",
       "      <td>True</td>\n",
       "      <td>2</td>\n",
       "      <td>1</td>\n",
       "      <td>No</td>\n",
       "      <td>NaN</td>\n",
       "      <td>NaN</td>\n",
       "      <td>NaN</td>\n",
       "    </tr>\n",
       "    <tr>\n",
       "      <th>2</th>\n",
       "      <td>1621</td>\n",
       "      <td>Mélanie Corsin</td>\n",
       "      <td>09claire.ny@gmail.com</td>\n",
       "      <td>Abonnement mensuel</td>\n",
       "      <td>12</td>\n",
       "      <td>01/11/2016</td>\n",
       "      <td>CANCELED</td>\n",
       "      <td>False</td>\n",
       "      <td>NaN</td>\n",
       "      <td>16/10/2016</td>\n",
       "      <td>31/12/2016</td>\n",
       "      <td>True</td>\n",
       "      <td>3</td>\n",
       "      <td>2</td>\n",
       "      <td>No</td>\n",
       "      <td>NaN</td>\n",
       "      <td>NaN</td>\n",
       "      <td>NaN</td>\n",
       "    </tr>\n",
       "    <tr>\n",
       "      <th>3</th>\n",
       "      <td>1621</td>\n",
       "      <td>Mélanie Corsin</td>\n",
       "      <td>09claire.ny@gmail.com</td>\n",
       "      <td>Abonnement mensuel</td>\n",
       "      <td>12</td>\n",
       "      <td>01/12/2016</td>\n",
       "      <td>CANCELED</td>\n",
       "      <td>False</td>\n",
       "      <td>NaN</td>\n",
       "      <td>16/10/2016</td>\n",
       "      <td>31/12/2016</td>\n",
       "      <td>False</td>\n",
       "      <td>4</td>\n",
       "      <td>3</td>\n",
       "      <td>Yes</td>\n",
       "      <td>NaN</td>\n",
       "      <td>NaN</td>\n",
       "      <td>NaN</td>\n",
       "    </tr>\n",
       "    <tr>\n",
       "      <th>4</th>\n",
       "      <td>18129</td>\n",
       "      <td>Cheyrou Sandrine</td>\n",
       "      <td>100driiine@reverdailleurs.com</td>\n",
       "      <td>Abonnement mensuel</td>\n",
       "      <td>64</td>\n",
       "      <td>01/12/2012</td>\n",
       "      <td>SUSPENDED</td>\n",
       "      <td>False</td>\n",
       "      <td>NaN</td>\n",
       "      <td>18/12/2012</td>\n",
       "      <td>30/04/2018</td>\n",
       "      <td>True</td>\n",
       "      <td>1</td>\n",
       "      <td>1</td>\n",
       "      <td>No</td>\n",
       "      <td>NaN</td>\n",
       "      <td>NaN</td>\n",
       "      <td>NaN</td>\n",
       "    </tr>\n",
       "  </tbody>\n",
       "</table>\n",
       "</div>"
      ],
      "text/plain": [
       "   id_subscriptionMain       client_name                          email  \\\n",
       "0                 3161    Mélanie Corsin          09claire.ny@gmail.com   \n",
       "1                 1621    Mélanie Corsin          09claire.ny@gmail.com   \n",
       "2                 1621    Mélanie Corsin          09claire.ny@gmail.com   \n",
       "3                 1621    Mélanie Corsin          09claire.ny@gmail.com   \n",
       "4                18129  Cheyrou Sandrine  100driiine@reverdailleurs.com   \n",
       "\n",
       "             box_name  subscriptions_type       month submain_state  \\\n",
       "0  Abonnement mensuel                  12  01/04/2016      CANCELED   \n",
       "1  Abonnement mensuel                  12  01/10/2016      CANCELED   \n",
       "2  Abonnement mensuel                  12  01/11/2016      CANCELED   \n",
       "3  Abonnement mensuel                  12  01/12/2016      CANCELED   \n",
       "4  Abonnement mensuel                  64  01/12/2012     SUSPENDED   \n",
       "\n",
       "   newsletter  age beginning_date ending_date abonnement_succ  total_sub  \\\n",
       "0       False  NaN     16/10/2016  31/12/2016           False          1   \n",
       "1       False  NaN     16/10/2016  31/12/2016            True          2   \n",
       "2       False  NaN     16/10/2016  31/12/2016            True          3   \n",
       "3       False  NaN     16/10/2016  31/12/2016           False          4   \n",
       "4       False  NaN     18/12/2012  30/04/2018            True          1   \n",
       "\n",
       "   abonnement_consec churn Timestamp  action_open  action_click  \n",
       "0                  1   Yes       NaN          NaN           NaN  \n",
       "1                  1    No       NaN          NaN           NaN  \n",
       "2                  2    No       NaN          NaN           NaN  \n",
       "3                  3   Yes       NaN          NaN           NaN  \n",
       "4                  1    No       NaN          NaN           NaN  "
      ]
     },
     "execution_count": 7,
     "metadata": {},
     "output_type": "execute_result"
    }
   ],
   "source": [
    "df = copy.deepcopy(dataset)\n",
    "\n",
    "# supprimer les champs\n",
    "df = df.drop(columns=['product_attribute', 'id', 'id_order', 'campaign_id', 'email_id', 'list_id', 'list_is_active']) # champ inutile\n",
    "df = df.drop('first_name', axis = 1) # c'est le meme que le champ client_name\n",
    "df = df.drop('last_name', axis = 1) # c'est le meme que le champ client_name\n",
    "\n",
    "# supprimer les duplicates\n",
    "df = df.drop_duplicates(df.columns, keep='last') \n",
    "\n",
    "df.head()"
   ]
  },
  {
   "cell_type": "code",
   "execution_count": 8,
   "metadata": {},
   "outputs": [
    {
     "name": "stdout",
     "output_type": "stream",
     "text": [
      "(30335, 3) (30335, 2) (30335, 6) (30335, 6)\n"
     ]
    }
   ],
   "source": [
    "# definir les donnees numeriques et les donnees categoriques\n",
    "date_col = ['month', 'beginning_date', 'ending_date']\n",
    "bool_col = ['newsletter', 'abonnement_succ']\n",
    "numerique = ['subscriptions_type', 'age', 'abonnement_consec', 'total_sub', 'action_open', 'action_click']\n",
    "categorique = [i for i in df.columns.values.tolist() if i not in ['id_subscriptionMain', 'month', 'beginning_date', 'ending_date', \\\n",
    "                                                                  'newsletter', 'abonnement_succ', 'subscriptions_type', 'age', 'abonnement_consec',\\\n",
    "                                                                  'total_sub', 'action_open', 'action_click']]\n",
    "\n",
    "x_date = df[date_col]\n",
    "x_bool = df[bool_col]\n",
    "x_numerique = df[numerique]\n",
    "x_categorique = df[categorique]\n",
    "\n",
    "print(x_date.shape, x_bool.shape, x_numerique.shape, x_categorique.shape)"
   ]
  },
  {
   "cell_type": "markdown",
   "metadata": {},
   "source": [
    "**preprocessing sur les dates**"
   ]
  },
  {
   "cell_type": "code",
   "execution_count": 9,
   "metadata": {},
   "outputs": [
    {
     "name": "stdout",
     "output_type": "stream",
     "text": [
      "month             0\n",
      "beginning_date    0\n",
      "ending_date       0\n",
      "dtype: int64\n"
     ]
    }
   ],
   "source": [
    "# verifier les valeurs nulles\n",
    "print(x_date.isnull().sum())"
   ]
  },
  {
   "cell_type": "code",
   "execution_count": 10,
   "metadata": {},
   "outputs": [],
   "source": [
    "# extraire le jours et le mois\n",
    "df['month'] = pd.to_datetime(df['month'])\n",
    "df['beginning_date'] = pd.to_datetime(df['beginning_date'])\n",
    "df['ending_date'] = pd.to_datetime(df['ending_date'])\n",
    "\n",
    "# on ignore le jour, car c'est toujours le 1 du mois\n",
    "df['year_pass'] = df['month'].dt.year\n",
    "df['month_pass'] = df['month'].dt.day # extraire le jours ici, car le format du champ month inverse le mois et le jours\n",
    "\n",
    "df['begin_year'] = df['beginning_date'].dt.year\n",
    "df['begin_month'] = df['beginning_date'].dt.month\n",
    "df['begin_day'] = df['beginning_date'].dt.day\n",
    "\n",
    "df['end_year'] = df['ending_date'].dt.year\n",
    "df['end_month'] = df['ending_date'].dt.month\n",
    "df['end_day'] = df['ending_date'].dt.day"
   ]
  },
  {
   "cell_type": "code",
   "execution_count": 11,
   "metadata": {},
   "outputs": [
    {
     "data": {
      "text/html": [
       "<div>\n",
       "<style scoped>\n",
       "    .dataframe tbody tr th:only-of-type {\n",
       "        vertical-align: middle;\n",
       "    }\n",
       "\n",
       "    .dataframe tbody tr th {\n",
       "        vertical-align: top;\n",
       "    }\n",
       "\n",
       "    .dataframe thead th {\n",
       "        text-align: right;\n",
       "    }\n",
       "</style>\n",
       "<table border=\"1\" class=\"dataframe\">\n",
       "  <thead>\n",
       "    <tr style=\"text-align: right;\">\n",
       "      <th></th>\n",
       "      <th>id_subscriptionMain</th>\n",
       "      <th>client_name</th>\n",
       "      <th>email</th>\n",
       "      <th>box_name</th>\n",
       "      <th>subscriptions_type</th>\n",
       "      <th>submain_state</th>\n",
       "      <th>newsletter</th>\n",
       "      <th>age</th>\n",
       "      <th>abonnement_succ</th>\n",
       "      <th>total_sub</th>\n",
       "      <th>...</th>\n",
       "      <th>action_open</th>\n",
       "      <th>action_click</th>\n",
       "      <th>year_pass</th>\n",
       "      <th>month_pass</th>\n",
       "      <th>begin_year</th>\n",
       "      <th>begin_month</th>\n",
       "      <th>begin_day</th>\n",
       "      <th>end_year</th>\n",
       "      <th>end_month</th>\n",
       "      <th>end_day</th>\n",
       "    </tr>\n",
       "  </thead>\n",
       "  <tbody>\n",
       "    <tr>\n",
       "      <th>0</th>\n",
       "      <td>3161</td>\n",
       "      <td>Mélanie Corsin</td>\n",
       "      <td>09claire.ny@gmail.com</td>\n",
       "      <td>Abonnement mensuel</td>\n",
       "      <td>12</td>\n",
       "      <td>CANCELED</td>\n",
       "      <td>False</td>\n",
       "      <td>NaN</td>\n",
       "      <td>False</td>\n",
       "      <td>1</td>\n",
       "      <td>...</td>\n",
       "      <td>NaN</td>\n",
       "      <td>NaN</td>\n",
       "      <td>2016</td>\n",
       "      <td>4</td>\n",
       "      <td>2016</td>\n",
       "      <td>10</td>\n",
       "      <td>16</td>\n",
       "      <td>2016</td>\n",
       "      <td>12</td>\n",
       "      <td>31</td>\n",
       "    </tr>\n",
       "    <tr>\n",
       "      <th>1</th>\n",
       "      <td>1621</td>\n",
       "      <td>Mélanie Corsin</td>\n",
       "      <td>09claire.ny@gmail.com</td>\n",
       "      <td>Abonnement mensuel</td>\n",
       "      <td>12</td>\n",
       "      <td>CANCELED</td>\n",
       "      <td>False</td>\n",
       "      <td>NaN</td>\n",
       "      <td>True</td>\n",
       "      <td>2</td>\n",
       "      <td>...</td>\n",
       "      <td>NaN</td>\n",
       "      <td>NaN</td>\n",
       "      <td>2016</td>\n",
       "      <td>10</td>\n",
       "      <td>2016</td>\n",
       "      <td>10</td>\n",
       "      <td>16</td>\n",
       "      <td>2016</td>\n",
       "      <td>12</td>\n",
       "      <td>31</td>\n",
       "    </tr>\n",
       "    <tr>\n",
       "      <th>2</th>\n",
       "      <td>1621</td>\n",
       "      <td>Mélanie Corsin</td>\n",
       "      <td>09claire.ny@gmail.com</td>\n",
       "      <td>Abonnement mensuel</td>\n",
       "      <td>12</td>\n",
       "      <td>CANCELED</td>\n",
       "      <td>False</td>\n",
       "      <td>NaN</td>\n",
       "      <td>True</td>\n",
       "      <td>3</td>\n",
       "      <td>...</td>\n",
       "      <td>NaN</td>\n",
       "      <td>NaN</td>\n",
       "      <td>2016</td>\n",
       "      <td>11</td>\n",
       "      <td>2016</td>\n",
       "      <td>10</td>\n",
       "      <td>16</td>\n",
       "      <td>2016</td>\n",
       "      <td>12</td>\n",
       "      <td>31</td>\n",
       "    </tr>\n",
       "    <tr>\n",
       "      <th>3</th>\n",
       "      <td>1621</td>\n",
       "      <td>Mélanie Corsin</td>\n",
       "      <td>09claire.ny@gmail.com</td>\n",
       "      <td>Abonnement mensuel</td>\n",
       "      <td>12</td>\n",
       "      <td>CANCELED</td>\n",
       "      <td>False</td>\n",
       "      <td>NaN</td>\n",
       "      <td>False</td>\n",
       "      <td>4</td>\n",
       "      <td>...</td>\n",
       "      <td>NaN</td>\n",
       "      <td>NaN</td>\n",
       "      <td>2016</td>\n",
       "      <td>12</td>\n",
       "      <td>2016</td>\n",
       "      <td>10</td>\n",
       "      <td>16</td>\n",
       "      <td>2016</td>\n",
       "      <td>12</td>\n",
       "      <td>31</td>\n",
       "    </tr>\n",
       "    <tr>\n",
       "      <th>4</th>\n",
       "      <td>18129</td>\n",
       "      <td>Cheyrou Sandrine</td>\n",
       "      <td>100driiine@reverdailleurs.com</td>\n",
       "      <td>Abonnement mensuel</td>\n",
       "      <td>64</td>\n",
       "      <td>SUSPENDED</td>\n",
       "      <td>False</td>\n",
       "      <td>NaN</td>\n",
       "      <td>True</td>\n",
       "      <td>1</td>\n",
       "      <td>...</td>\n",
       "      <td>NaN</td>\n",
       "      <td>NaN</td>\n",
       "      <td>2012</td>\n",
       "      <td>12</td>\n",
       "      <td>2012</td>\n",
       "      <td>12</td>\n",
       "      <td>18</td>\n",
       "      <td>2018</td>\n",
       "      <td>4</td>\n",
       "      <td>30</td>\n",
       "    </tr>\n",
       "  </tbody>\n",
       "</table>\n",
       "<p>5 rows × 23 columns</p>\n",
       "</div>"
      ],
      "text/plain": [
       "   id_subscriptionMain       client_name                          email  \\\n",
       "0                 3161    Mélanie Corsin          09claire.ny@gmail.com   \n",
       "1                 1621    Mélanie Corsin          09claire.ny@gmail.com   \n",
       "2                 1621    Mélanie Corsin          09claire.ny@gmail.com   \n",
       "3                 1621    Mélanie Corsin          09claire.ny@gmail.com   \n",
       "4                18129  Cheyrou Sandrine  100driiine@reverdailleurs.com   \n",
       "\n",
       "             box_name  subscriptions_type submain_state  newsletter  age  \\\n",
       "0  Abonnement mensuel                  12      CANCELED       False  NaN   \n",
       "1  Abonnement mensuel                  12      CANCELED       False  NaN   \n",
       "2  Abonnement mensuel                  12      CANCELED       False  NaN   \n",
       "3  Abonnement mensuel                  12      CANCELED       False  NaN   \n",
       "4  Abonnement mensuel                  64     SUSPENDED       False  NaN   \n",
       "\n",
       "  abonnement_succ  total_sub  ...  action_open action_click year_pass  \\\n",
       "0           False          1  ...          NaN          NaN      2016   \n",
       "1            True          2  ...          NaN          NaN      2016   \n",
       "2            True          3  ...          NaN          NaN      2016   \n",
       "3           False          4  ...          NaN          NaN      2016   \n",
       "4            True          1  ...          NaN          NaN      2012   \n",
       "\n",
       "   month_pass  begin_year  begin_month  begin_day  end_year  end_month  \\\n",
       "0           4        2016           10         16      2016         12   \n",
       "1          10        2016           10         16      2016         12   \n",
       "2          11        2016           10         16      2016         12   \n",
       "3          12        2016           10         16      2016         12   \n",
       "4          12        2012           12         18      2018          4   \n",
       "\n",
       "   end_day  \n",
       "0       31  \n",
       "1       31  \n",
       "2       31  \n",
       "3       31  \n",
       "4       30  \n",
       "\n",
       "[5 rows x 23 columns]"
      ]
     },
     "execution_count": 11,
     "metadata": {},
     "output_type": "execute_result"
    }
   ],
   "source": [
    "#supprimer les champs month et ending_month\n",
    "df = df.drop(columns=['month','beginning_date', 'ending_date'])\n",
    "\n",
    "df.head()"
   ]
  },
  {
   "cell_type": "markdown",
   "metadata": {},
   "source": [
    "**preprocessing sur les champs categoriques**"
   ]
  },
  {
   "cell_type": "code",
   "execution_count": 12,
   "metadata": {},
   "outputs": [],
   "source": [
    "df3 = copy.deepcopy(df)\n",
    "# df = copy.deepcopy(df3)"
   ]
  },
  {
   "cell_type": "code",
   "execution_count": 13,
   "metadata": {},
   "outputs": [
    {
     "name": "stdout",
     "output_type": "stream",
     "text": [
      "client_name          0\n",
      "email                0\n",
      "box_name             0\n",
      "submain_state        0\n",
      "churn              646\n",
      "Timestamp        27671\n",
      "dtype: int64\n"
     ]
    }
   ],
   "source": [
    "# verifier les valeurs nulles\n",
    "x_categorique = df[categorique]\n",
    "print(x_categorique.isnull().sum())"
   ]
  },
  {
   "cell_type": "code",
   "execution_count": 14,
   "metadata": {},
   "outputs": [],
   "source": [
    "# supprimer les champs qui ont trop de categoriques\n",
    "# le champ Timestamp contient les actions de l'ouverture et de click, mais on a deja le champ action_open et action_click, donc, on supprime ce champ\n",
    "df = df.drop(columns=['client_name','email','Timestamp'])"
   ]
  },
  {
   "cell_type": "code",
   "execution_count": 15,
   "metadata": {},
   "outputs": [
    {
     "name": "stdout",
     "output_type": "stream",
     "text": [
      "['Abonnement mensuel' 'Abonnement trimestriel']\n",
      "['CANCELED' 'SUSPENDED' 'ACTIVE' 'WARNING']\n",
      "['Yes' 'No' nan]\n"
     ]
    }
   ],
   "source": [
    "print(df['box_name'].unique())\n",
    "print(df['submain_state'].unique())\n",
    "print(df['churn'].unique())"
   ]
  },
  {
   "cell_type": "code",
   "execution_count": 16,
   "metadata": {},
   "outputs": [
    {
     "data": {
      "text/html": [
       "<div>\n",
       "<style scoped>\n",
       "    .dataframe tbody tr th:only-of-type {\n",
       "        vertical-align: middle;\n",
       "    }\n",
       "\n",
       "    .dataframe tbody tr th {\n",
       "        vertical-align: top;\n",
       "    }\n",
       "\n",
       "    .dataframe thead th {\n",
       "        text-align: right;\n",
       "    }\n",
       "</style>\n",
       "<table border=\"1\" class=\"dataframe\">\n",
       "  <thead>\n",
       "    <tr style=\"text-align: right;\">\n",
       "      <th></th>\n",
       "      <th>id_subscriptionMain</th>\n",
       "      <th>box_name</th>\n",
       "      <th>subscriptions_type</th>\n",
       "      <th>submain_state</th>\n",
       "      <th>newsletter</th>\n",
       "      <th>age</th>\n",
       "      <th>abonnement_succ</th>\n",
       "      <th>total_sub</th>\n",
       "      <th>abonnement_consec</th>\n",
       "      <th>churn</th>\n",
       "      <th>action_open</th>\n",
       "      <th>action_click</th>\n",
       "      <th>year_pass</th>\n",
       "      <th>month_pass</th>\n",
       "      <th>begin_year</th>\n",
       "      <th>begin_month</th>\n",
       "      <th>begin_day</th>\n",
       "      <th>end_year</th>\n",
       "      <th>end_month</th>\n",
       "      <th>end_day</th>\n",
       "    </tr>\n",
       "  </thead>\n",
       "  <tbody>\n",
       "    <tr>\n",
       "      <th>0</th>\n",
       "      <td>3161</td>\n",
       "      <td>0</td>\n",
       "      <td>12</td>\n",
       "      <td>0</td>\n",
       "      <td>False</td>\n",
       "      <td>NaN</td>\n",
       "      <td>False</td>\n",
       "      <td>1</td>\n",
       "      <td>1</td>\n",
       "      <td>1</td>\n",
       "      <td>NaN</td>\n",
       "      <td>NaN</td>\n",
       "      <td>2016</td>\n",
       "      <td>4</td>\n",
       "      <td>2016</td>\n",
       "      <td>10</td>\n",
       "      <td>16</td>\n",
       "      <td>2016</td>\n",
       "      <td>12</td>\n",
       "      <td>31</td>\n",
       "    </tr>\n",
       "    <tr>\n",
       "      <th>1</th>\n",
       "      <td>1621</td>\n",
       "      <td>0</td>\n",
       "      <td>12</td>\n",
       "      <td>0</td>\n",
       "      <td>False</td>\n",
       "      <td>NaN</td>\n",
       "      <td>True</td>\n",
       "      <td>2</td>\n",
       "      <td>1</td>\n",
       "      <td>0</td>\n",
       "      <td>NaN</td>\n",
       "      <td>NaN</td>\n",
       "      <td>2016</td>\n",
       "      <td>10</td>\n",
       "      <td>2016</td>\n",
       "      <td>10</td>\n",
       "      <td>16</td>\n",
       "      <td>2016</td>\n",
       "      <td>12</td>\n",
       "      <td>31</td>\n",
       "    </tr>\n",
       "    <tr>\n",
       "      <th>2</th>\n",
       "      <td>1621</td>\n",
       "      <td>0</td>\n",
       "      <td>12</td>\n",
       "      <td>0</td>\n",
       "      <td>False</td>\n",
       "      <td>NaN</td>\n",
       "      <td>True</td>\n",
       "      <td>3</td>\n",
       "      <td>2</td>\n",
       "      <td>0</td>\n",
       "      <td>NaN</td>\n",
       "      <td>NaN</td>\n",
       "      <td>2016</td>\n",
       "      <td>11</td>\n",
       "      <td>2016</td>\n",
       "      <td>10</td>\n",
       "      <td>16</td>\n",
       "      <td>2016</td>\n",
       "      <td>12</td>\n",
       "      <td>31</td>\n",
       "    </tr>\n",
       "    <tr>\n",
       "      <th>3</th>\n",
       "      <td>1621</td>\n",
       "      <td>0</td>\n",
       "      <td>12</td>\n",
       "      <td>0</td>\n",
       "      <td>False</td>\n",
       "      <td>NaN</td>\n",
       "      <td>False</td>\n",
       "      <td>4</td>\n",
       "      <td>3</td>\n",
       "      <td>1</td>\n",
       "      <td>NaN</td>\n",
       "      <td>NaN</td>\n",
       "      <td>2016</td>\n",
       "      <td>12</td>\n",
       "      <td>2016</td>\n",
       "      <td>10</td>\n",
       "      <td>16</td>\n",
       "      <td>2016</td>\n",
       "      <td>12</td>\n",
       "      <td>31</td>\n",
       "    </tr>\n",
       "    <tr>\n",
       "      <th>4</th>\n",
       "      <td>18129</td>\n",
       "      <td>0</td>\n",
       "      <td>64</td>\n",
       "      <td>1</td>\n",
       "      <td>False</td>\n",
       "      <td>NaN</td>\n",
       "      <td>True</td>\n",
       "      <td>1</td>\n",
       "      <td>1</td>\n",
       "      <td>0</td>\n",
       "      <td>NaN</td>\n",
       "      <td>NaN</td>\n",
       "      <td>2012</td>\n",
       "      <td>12</td>\n",
       "      <td>2012</td>\n",
       "      <td>12</td>\n",
       "      <td>18</td>\n",
       "      <td>2018</td>\n",
       "      <td>4</td>\n",
       "      <td>30</td>\n",
       "    </tr>\n",
       "  </tbody>\n",
       "</table>\n",
       "</div>"
      ],
      "text/plain": [
       "   id_subscriptionMain  box_name  subscriptions_type  submain_state  \\\n",
       "0                 3161         0                  12              0   \n",
       "1                 1621         0                  12              0   \n",
       "2                 1621         0                  12              0   \n",
       "3                 1621         0                  12              0   \n",
       "4                18129         0                  64              1   \n",
       "\n",
       "   newsletter  age abonnement_succ  total_sub  abonnement_consec  churn  \\\n",
       "0       False  NaN           False          1                  1      1   \n",
       "1       False  NaN            True          2                  1      0   \n",
       "2       False  NaN            True          3                  2      0   \n",
       "3       False  NaN           False          4                  3      1   \n",
       "4       False  NaN            True          1                  1      0   \n",
       "\n",
       "   action_open  action_click  year_pass  month_pass  begin_year  begin_month  \\\n",
       "0          NaN           NaN       2016           4        2016           10   \n",
       "1          NaN           NaN       2016          10        2016           10   \n",
       "2          NaN           NaN       2016          11        2016           10   \n",
       "3          NaN           NaN       2016          12        2016           10   \n",
       "4          NaN           NaN       2012          12        2012           12   \n",
       "\n",
       "   begin_day  end_year  end_month  end_day  \n",
       "0         16      2016         12       31  \n",
       "1         16      2016         12       31  \n",
       "2         16      2016         12       31  \n",
       "3         16      2016         12       31  \n",
       "4         18      2018          4       30  "
      ]
     },
     "execution_count": 16,
     "metadata": {},
     "output_type": "execute_result"
    }
   ],
   "source": [
    "# convertir les valeurs categorique en valeurs numeriques\n",
    "\n",
    "# box_name\n",
    "df['box_name'] = df['box_name'].replace(['Abonnement mensuel', 'Abonnement trimestriel'],[0,1])\n",
    "\n",
    "# submain_state\n",
    "df['submain_state'] = df['submain_state'].replace(['CANCELED','SUSPENDED','ACTIVE','WARNING'],[0,1,2,3])\n",
    "\n",
    "# churn\n",
    "df = df.dropna(subset=[\"churn\"]) # l'incertitude totale\n",
    "df['churn'] = df['churn'].replace(['No','Yes'],[0,1]) # cas churn et cas non churn\n",
    "\n",
    "df.head()"
   ]
  },
  {
   "cell_type": "markdown",
   "metadata": {},
   "source": [
    "**preprocessing sur les donnees numeriques**"
   ]
  },
  {
   "cell_type": "code",
   "execution_count": 17,
   "metadata": {},
   "outputs": [],
   "source": [
    "df2 = copy.deepcopy(df)\n",
    "# df = copy.deepcopy(df2)"
   ]
  },
  {
   "cell_type": "code",
   "execution_count": 18,
   "metadata": {},
   "outputs": [
    {
     "name": "stdout",
     "output_type": "stream",
     "text": [
      "subscriptions_type        0\n",
      "age                   20789\n",
      "abonnement_consec         0\n",
      "total_sub                 0\n",
      "action_open           27109\n",
      "action_click          27109\n",
      "dtype: int64\n"
     ]
    }
   ],
   "source": [
    "# verifier les valeurs nulles\n",
    "x_numerique = df[numerique]\n",
    "print(x_numerique.isnull().sum())"
   ]
  },
  {
   "cell_type": "code",
   "execution_count": 19,
   "metadata": {},
   "outputs": [
    {
     "data": {
      "text/plain": [
       "(1.0, 76.0)"
      ]
     },
     "execution_count": 19,
     "metadata": {},
     "output_type": "execute_result"
    }
   ],
   "source": [
    "df.age.min(), df.age.max()"
   ]
  },
  {
   "cell_type": "code",
   "execution_count": 20,
   "metadata": {},
   "outputs": [],
   "source": [
    "# transformer l'age en tranche d'age\n",
    "df.loc[(df.age<10), 'age'] = 0 # age < 10 ans\n",
    "df.loc[(df.age>=10) & (df.age<20), 'age'] = 1 # age entre 10 et 19 ans\n",
    "df.loc[(df.age>=20) & (df.age<30), 'age'] = 2 # age entre 20 et 29 ans\n",
    "df.loc[(df.age>=30) & (df.age<40), 'age'] = 3 # age entre 30 et 39 ans\n",
    "df.loc[(df.age>=40) & (df.age<50), 'age'] = 4 # age entre 40 et 49 ans\n",
    "df.loc[(df.age>=50) & (df.age<60), 'age'] = 5 # age entre 50 et 59 ans\n",
    "df.loc[(df.age>=60) & (df.age<70), 'age'] = 6 # age entre 60 et 69 ans\n",
    "df.loc[(df.age>=70), 'age'] = 7 # age entre 70 et 79 ans\n",
    "df.loc[(df.age.isnull()), 'age'] = 8 # not have age"
   ]
  },
  {
   "cell_type": "code",
   "execution_count": 21,
   "metadata": {},
   "outputs": [
    {
     "data": {
      "image/png": "[encoded data removed]",
      "text/plain": [
       "<Figure size 432x288 with 1 Axes>"
      ]
     },
     "metadata": {
      "needs_background": "light"
     },
     "output_type": "display_data"
    }
   ],
   "source": [
    "fig = plt.figure()\n",
    "\n",
    "df.age.value_counts().plot(kind='bar')\n",
    "plt.show()"
   ]
  },
  {
   "cell_type": "code",
   "execution_count": 22,
   "metadata": {},
   "outputs": [
    {
     "name": "stdout",
     "output_type": "stream",
     "text": [
      "(29689, 20)\n",
      "(29180, 20)\n"
     ]
    }
   ],
   "source": [
    "print(df.shape)\n",
    "# filtrer les clients qui ont l'age entre 20 et 59, et les valuers nulles\n",
    "df = df[((df.age >= 2) & (df.age <= 5)) | (df.age == 8)]\n",
    "print(df.shape)"
   ]
  },
  {
   "cell_type": "code",
   "execution_count": 23,
   "metadata": {},
   "outputs": [],
   "source": [
    "# on peut completer les valeurs nulles par median, mais il y a nombreux valeurs nulles sur le champ age, cela va prendre beaucoup de bruit\n",
    "# sinon on prend en compte les valeurs nulles comme une type\n",
    "# alors, on va transformer le champ age par deux valeurs: have age et not have age\n",
    "\n",
    "df.loc[df.age != 8, 'age'] = 1\n",
    "df.loc[df.age == 8, 'age'] = 0\n",
    "df.age = df.age.astype(int)"
   ]
  },
  {
   "cell_type": "code",
   "execution_count": 24,
   "metadata": {},
   "outputs": [
    {
     "data": {
      "text/plain": [
       "0    20789\n",
       "1     8391\n",
       "Name: age, dtype: int64"
      ]
     },
     "execution_count": 24,
     "metadata": {},
     "output_type": "execute_result"
    }
   ],
   "source": [
    "df.age.value_counts()"
   ]
  },
  {
   "cell_type": "code",
   "execution_count": 25,
   "metadata": {},
   "outputs": [
    {
     "name": "stdout",
     "output_type": "stream",
     "text": [
      "(2532, 20)\n"
     ]
    }
   ],
   "source": [
    "# filtrer les donnees chaudes qui sont non nulles\n",
    "df = df.dropna(subset=['action_open', 'action_click'])\n",
    "print(df.shape)"
   ]
  },
  {
   "cell_type": "markdown",
   "metadata": {},
   "source": [
    "**preprocessing sur les donnees boolean**"
   ]
  },
  {
   "cell_type": "code",
   "execution_count": 26,
   "metadata": {},
   "outputs": [],
   "source": [
    "df1 = copy.deepcopy(df)\n",
    "# df = copy.deepcopy(df1)"
   ]
  },
  {
   "cell_type": "code",
   "execution_count": 27,
   "metadata": {},
   "outputs": [
    {
     "name": "stdout",
     "output_type": "stream",
     "text": [
      "newsletter         0\n",
      "abonnement_succ    0\n",
      "dtype: int64\n"
     ]
    }
   ],
   "source": [
    "# verifier les valeurs nulles\n",
    "x_bool = df[bool_col]\n",
    "print(x_bool.isnull().sum())"
   ]
  },
  {
   "cell_type": "code",
   "execution_count": 28,
   "metadata": {},
   "outputs": [
    {
     "data": {
      "text/html": [
       "<div>\n",
       "<style scoped>\n",
       "    .dataframe tbody tr th:only-of-type {\n",
       "        vertical-align: middle;\n",
       "    }\n",
       "\n",
       "    .dataframe tbody tr th {\n",
       "        vertical-align: top;\n",
       "    }\n",
       "\n",
       "    .dataframe thead th {\n",
       "        text-align: right;\n",
       "    }\n",
       "</style>\n",
       "<table border=\"1\" class=\"dataframe\">\n",
       "  <thead>\n",
       "    <tr style=\"text-align: right;\">\n",
       "      <th></th>\n",
       "      <th>id_subscriptionMain</th>\n",
       "      <th>box_name</th>\n",
       "      <th>subscriptions_type</th>\n",
       "      <th>submain_state</th>\n",
       "      <th>newsletter</th>\n",
       "      <th>age</th>\n",
       "      <th>abonnement_succ</th>\n",
       "      <th>total_sub</th>\n",
       "      <th>abonnement_consec</th>\n",
       "      <th>churn</th>\n",
       "      <th>action_open</th>\n",
       "      <th>action_click</th>\n",
       "      <th>year_pass</th>\n",
       "      <th>month_pass</th>\n",
       "      <th>begin_year</th>\n",
       "      <th>begin_month</th>\n",
       "      <th>begin_day</th>\n",
       "      <th>end_year</th>\n",
       "      <th>end_month</th>\n",
       "      <th>end_day</th>\n",
       "    </tr>\n",
       "  </thead>\n",
       "  <tbody>\n",
       "    <tr>\n",
       "      <th>69</th>\n",
       "      <td>11573</td>\n",
       "      <td>0</td>\n",
       "      <td>12</td>\n",
       "      <td>0</td>\n",
       "      <td>0</td>\n",
       "      <td>1</td>\n",
       "      <td>1</td>\n",
       "      <td>1</td>\n",
       "      <td>1</td>\n",
       "      <td>0</td>\n",
       "      <td>7.0</td>\n",
       "      <td>1.0</td>\n",
       "      <td>2014</td>\n",
       "      <td>3</td>\n",
       "      <td>2019</td>\n",
       "      <td>1</td>\n",
       "      <td>4</td>\n",
       "      <td>2020</td>\n",
       "      <td>3</td>\n",
       "      <td>31</td>\n",
       "    </tr>\n",
       "    <tr>\n",
       "      <th>70</th>\n",
       "      <td>11573</td>\n",
       "      <td>0</td>\n",
       "      <td>12</td>\n",
       "      <td>0</td>\n",
       "      <td>0</td>\n",
       "      <td>1</td>\n",
       "      <td>1</td>\n",
       "      <td>2</td>\n",
       "      <td>2</td>\n",
       "      <td>0</td>\n",
       "      <td>7.0</td>\n",
       "      <td>1.0</td>\n",
       "      <td>2014</td>\n",
       "      <td>4</td>\n",
       "      <td>2019</td>\n",
       "      <td>1</td>\n",
       "      <td>4</td>\n",
       "      <td>2020</td>\n",
       "      <td>3</td>\n",
       "      <td>31</td>\n",
       "    </tr>\n",
       "    <tr>\n",
       "      <th>71</th>\n",
       "      <td>11573</td>\n",
       "      <td>0</td>\n",
       "      <td>12</td>\n",
       "      <td>0</td>\n",
       "      <td>0</td>\n",
       "      <td>1</td>\n",
       "      <td>1</td>\n",
       "      <td>3</td>\n",
       "      <td>3</td>\n",
       "      <td>0</td>\n",
       "      <td>7.0</td>\n",
       "      <td>1.0</td>\n",
       "      <td>2014</td>\n",
       "      <td>5</td>\n",
       "      <td>2019</td>\n",
       "      <td>1</td>\n",
       "      <td>4</td>\n",
       "      <td>2020</td>\n",
       "      <td>3</td>\n",
       "      <td>31</td>\n",
       "    </tr>\n",
       "    <tr>\n",
       "      <th>73</th>\n",
       "      <td>5466</td>\n",
       "      <td>0</td>\n",
       "      <td>12</td>\n",
       "      <td>0</td>\n",
       "      <td>0</td>\n",
       "      <td>1</td>\n",
       "      <td>1</td>\n",
       "      <td>5</td>\n",
       "      <td>1</td>\n",
       "      <td>0</td>\n",
       "      <td>7.0</td>\n",
       "      <td>1.0</td>\n",
       "      <td>2015</td>\n",
       "      <td>11</td>\n",
       "      <td>2019</td>\n",
       "      <td>1</td>\n",
       "      <td>4</td>\n",
       "      <td>2020</td>\n",
       "      <td>3</td>\n",
       "      <td>31</td>\n",
       "    </tr>\n",
       "    <tr>\n",
       "      <th>75</th>\n",
       "      <td>19975</td>\n",
       "      <td>0</td>\n",
       "      <td>12</td>\n",
       "      <td>1</td>\n",
       "      <td>0</td>\n",
       "      <td>1</td>\n",
       "      <td>1</td>\n",
       "      <td>7</td>\n",
       "      <td>1</td>\n",
       "      <td>0</td>\n",
       "      <td>7.0</td>\n",
       "      <td>1.0</td>\n",
       "      <td>2017</td>\n",
       "      <td>4</td>\n",
       "      <td>2019</td>\n",
       "      <td>1</td>\n",
       "      <td>4</td>\n",
       "      <td>2020</td>\n",
       "      <td>3</td>\n",
       "      <td>31</td>\n",
       "    </tr>\n",
       "  </tbody>\n",
       "</table>\n",
       "</div>"
      ],
      "text/plain": [
       "    id_subscriptionMain  box_name  subscriptions_type  submain_state  \\\n",
       "69                11573         0                  12              0   \n",
       "70                11573         0                  12              0   \n",
       "71                11573         0                  12              0   \n",
       "73                 5466         0                  12              0   \n",
       "75                19975         0                  12              1   \n",
       "\n",
       "   newsletter  age  abonnement_succ  total_sub  abonnement_consec  churn  \\\n",
       "69          0    1                1          1                  1      0   \n",
       "70          0    1                1          2                  2      0   \n",
       "71          0    1                1          3                  3      0   \n",
       "73          0    1                1          5                  1      0   \n",
       "75          0    1                1          7                  1      0   \n",
       "\n",
       "    action_open  action_click  year_pass  month_pass  begin_year  begin_month  \\\n",
       "69          7.0           1.0       2014           3        2019            1   \n",
       "70          7.0           1.0       2014           4        2019            1   \n",
       "71          7.0           1.0       2014           5        2019            1   \n",
       "73          7.0           1.0       2015          11        2019            1   \n",
       "75          7.0           1.0       2017           4        2019            1   \n",
       "\n",
       "    begin_day  end_year  end_month  end_day  \n",
       "69          4      2020          3       31  \n",
       "70          4      2020          3       31  \n",
       "71          4      2020          3       31  \n",
       "73          4      2020          3       31  \n",
       "75          4      2020          3       31  "
      ]
     },
     "execution_count": 28,
     "metadata": {},
     "output_type": "execute_result"
    }
   ],
   "source": [
    "df['newsletter'] = df['newsletter'].replace([False,True],[0,1])\n",
    "df['abonnement_succ'] = df['abonnement_succ'].replace([False, True], [0,1])\n",
    "\n",
    "df.head()"
   ]
  },
  {
   "cell_type": "markdown",
   "metadata": {},
   "source": [
    "**heat map pour la correlation**"
   ]
  },
  {
   "cell_type": "code",
   "execution_count": 29,
   "metadata": {},
   "outputs": [],
   "source": [
    "# definir les features et le label\n",
    "ids = ['id_subscriptionMain']\n",
    "label = ['churn']\n",
    "\n",
    "features = [i for i in df.columns.values.tolist() if i not in ['id_subscriptionMain', 'churn']]\n",
    "data = [j for j in df.columns.values.tolist() if j not in ['id_subscriptionMain']]\n",
    "\n",
    "df_id = df[ids] # id_subscriptionMain, id_order et id\n",
    "df_data = df[data] # features + label\n",
    "df_features = df[features] # tous les champs sauf ids et churn\n",
    "df_label = df[label] # churn"
   ]
  },
  {
   "cell_type": "code",
   "execution_count": 30,
   "metadata": {},
   "outputs": [
    {
     "data": {
      "text/plain": [
       "((2532, 1), (2532, 19), (2532, 18), (2532, 1))"
      ]
     },
     "execution_count": 30,
     "metadata": {},
     "output_type": "execute_result"
    }
   ],
   "source": [
    "df_id.shape, df_data.shape, df_features.shape, df_label.shape"
   ]
  },
  {
   "cell_type": "code",
   "execution_count": 31,
   "metadata": {},
   "outputs": [
    {
     "data": {
      "text/html": [
       "<div>\n",
       "<style scoped>\n",
       "    .dataframe tbody tr th:only-of-type {\n",
       "        vertical-align: middle;\n",
       "    }\n",
       "\n",
       "    .dataframe tbody tr th {\n",
       "        vertical-align: top;\n",
       "    }\n",
       "\n",
       "    .dataframe thead th {\n",
       "        text-align: right;\n",
       "    }\n",
       "</style>\n",
       "<table border=\"1\" class=\"dataframe\">\n",
       "  <thead>\n",
       "    <tr style=\"text-align: right;\">\n",
       "      <th></th>\n",
       "      <th>id_subscriptionMain</th>\n",
       "      <th>box_name</th>\n",
       "      <th>subscriptions_type</th>\n",
       "      <th>submain_state</th>\n",
       "      <th>newsletter</th>\n",
       "      <th>age</th>\n",
       "      <th>abonnement_succ</th>\n",
       "      <th>total_sub</th>\n",
       "      <th>abonnement_consec</th>\n",
       "      <th>action_open</th>\n",
       "      <th>action_click</th>\n",
       "      <th>year_pass</th>\n",
       "      <th>month_pass</th>\n",
       "      <th>begin_year</th>\n",
       "      <th>begin_month</th>\n",
       "      <th>begin_day</th>\n",
       "      <th>end_year</th>\n",
       "      <th>end_month</th>\n",
       "      <th>end_day</th>\n",
       "      <th>churn</th>\n",
       "    </tr>\n",
       "  </thead>\n",
       "  <tbody>\n",
       "    <tr>\n",
       "      <th>69</th>\n",
       "      <td>11573</td>\n",
       "      <td>0</td>\n",
       "      <td>12</td>\n",
       "      <td>0</td>\n",
       "      <td>0</td>\n",
       "      <td>1</td>\n",
       "      <td>1</td>\n",
       "      <td>1</td>\n",
       "      <td>1</td>\n",
       "      <td>7.0</td>\n",
       "      <td>1.0</td>\n",
       "      <td>2014</td>\n",
       "      <td>3</td>\n",
       "      <td>2019</td>\n",
       "      <td>1</td>\n",
       "      <td>4</td>\n",
       "      <td>2020</td>\n",
       "      <td>3</td>\n",
       "      <td>31</td>\n",
       "      <td>0</td>\n",
       "    </tr>\n",
       "    <tr>\n",
       "      <th>70</th>\n",
       "      <td>11573</td>\n",
       "      <td>0</td>\n",
       "      <td>12</td>\n",
       "      <td>0</td>\n",
       "      <td>0</td>\n",
       "      <td>1</td>\n",
       "      <td>1</td>\n",
       "      <td>2</td>\n",
       "      <td>2</td>\n",
       "      <td>7.0</td>\n",
       "      <td>1.0</td>\n",
       "      <td>2014</td>\n",
       "      <td>4</td>\n",
       "      <td>2019</td>\n",
       "      <td>1</td>\n",
       "      <td>4</td>\n",
       "      <td>2020</td>\n",
       "      <td>3</td>\n",
       "      <td>31</td>\n",
       "      <td>0</td>\n",
       "    </tr>\n",
       "    <tr>\n",
       "      <th>71</th>\n",
       "      <td>11573</td>\n",
       "      <td>0</td>\n",
       "      <td>12</td>\n",
       "      <td>0</td>\n",
       "      <td>0</td>\n",
       "      <td>1</td>\n",
       "      <td>1</td>\n",
       "      <td>3</td>\n",
       "      <td>3</td>\n",
       "      <td>7.0</td>\n",
       "      <td>1.0</td>\n",
       "      <td>2014</td>\n",
       "      <td>5</td>\n",
       "      <td>2019</td>\n",
       "      <td>1</td>\n",
       "      <td>4</td>\n",
       "      <td>2020</td>\n",
       "      <td>3</td>\n",
       "      <td>31</td>\n",
       "      <td>0</td>\n",
       "    </tr>\n",
       "    <tr>\n",
       "      <th>73</th>\n",
       "      <td>5466</td>\n",
       "      <td>0</td>\n",
       "      <td>12</td>\n",
       "      <td>0</td>\n",
       "      <td>0</td>\n",
       "      <td>1</td>\n",
       "      <td>1</td>\n",
       "      <td>5</td>\n",
       "      <td>1</td>\n",
       "      <td>7.0</td>\n",
       "      <td>1.0</td>\n",
       "      <td>2015</td>\n",
       "      <td>11</td>\n",
       "      <td>2019</td>\n",
       "      <td>1</td>\n",
       "      <td>4</td>\n",
       "      <td>2020</td>\n",
       "      <td>3</td>\n",
       "      <td>31</td>\n",
       "      <td>0</td>\n",
       "    </tr>\n",
       "    <tr>\n",
       "      <th>75</th>\n",
       "      <td>19975</td>\n",
       "      <td>0</td>\n",
       "      <td>12</td>\n",
       "      <td>1</td>\n",
       "      <td>0</td>\n",
       "      <td>1</td>\n",
       "      <td>1</td>\n",
       "      <td>7</td>\n",
       "      <td>1</td>\n",
       "      <td>7.0</td>\n",
       "      <td>1.0</td>\n",
       "      <td>2017</td>\n",
       "      <td>4</td>\n",
       "      <td>2019</td>\n",
       "      <td>1</td>\n",
       "      <td>4</td>\n",
       "      <td>2020</td>\n",
       "      <td>3</td>\n",
       "      <td>31</td>\n",
       "      <td>0</td>\n",
       "    </tr>\n",
       "  </tbody>\n",
       "</table>\n",
       "</div>"
      ],
      "text/plain": [
       "    id_subscriptionMain  box_name  subscriptions_type  submain_state  \\\n",
       "69                11573         0                  12              0   \n",
       "70                11573         0                  12              0   \n",
       "71                11573         0                  12              0   \n",
       "73                 5466         0                  12              0   \n",
       "75                19975         0                  12              1   \n",
       "\n",
       "   newsletter  age  abonnement_succ  total_sub  abonnement_consec  \\\n",
       "69          0    1                1          1                  1   \n",
       "70          0    1                1          2                  2   \n",
       "71          0    1                1          3                  3   \n",
       "73          0    1                1          5                  1   \n",
       "75          0    1                1          7                  1   \n",
       "\n",
       "    action_open  action_click  year_pass  month_pass  begin_year  begin_month  \\\n",
       "69          7.0           1.0       2014           3        2019            1   \n",
       "70          7.0           1.0       2014           4        2019            1   \n",
       "71          7.0           1.0       2014           5        2019            1   \n",
       "73          7.0           1.0       2015          11        2019            1   \n",
       "75          7.0           1.0       2017           4        2019            1   \n",
       "\n",
       "    begin_day  end_year  end_month  end_day  churn  \n",
       "69          4      2020          3       31      0  \n",
       "70          4      2020          3       31      0  \n",
       "71          4      2020          3       31      0  \n",
       "73          4      2020          3       31      0  \n",
       "75          4      2020          3       31      0  "
      ]
     },
     "execution_count": 31,
     "metadata": {},
     "output_type": "execute_result"
    }
   ],
   "source": [
    "df = pd.concat((df_id, df_features, df_label),axis=1)\n",
    "df.head()"
   ]
  },
  {
   "cell_type": "code",
   "execution_count": 32,
   "metadata": {},
   "outputs": [
    {
     "data": {
      "image/png": "[encoded data removed]",
      "text/plain": [
       "<Figure size 1080x1080 with 2 Axes>"
      ]
     },
     "metadata": {
      "needs_background": "light"
     },
     "output_type": "display_data"
    }
   ],
   "source": [
    "# Heat map pour la correlation entre les features\n",
    "colormap = plt.cm.bwr\n",
    "# colormap.set_size\n",
    "plt.figure(figsize=(15,15))\n",
    "plt.title('Correlation between Features', y=1.05, size = 20)\n",
    "\n",
    "k = len(df_data)\n",
    "\n",
    "# Generate a mask for the upper triangle\n",
    "corr = df_data.corr()\n",
    "\n",
    "mask = np.zeros_like(corr, dtype=np.bool)\n",
    "mask[np.triu_indices_from(mask)] = True\n",
    "\n",
    "cols = corr.nlargest(k, 'churn')['churn'].index\n",
    "cm = np.corrcoef(df[cols].values.T)\n",
    "\n",
    "# heatmap\n",
    "sns.heatmap(cm,\n",
    "            linewidths=0.1, \n",
    "            vmax=1.0, \n",
    "            square=True, \n",
    "            cmap=colormap, \n",
    "            linecolor='white', \n",
    "            annot=True,\n",
    "           mask = mask,\n",
    "           yticklabels=cols.values, \n",
    "            xticklabels=cols.values)\n",
    "\n",
    "plt.show()"
   ]
  },
  {
   "cell_type": "code",
   "execution_count": 33,
   "metadata": {},
   "outputs": [
    {
     "data": {
      "text/plain": [
       "churn                 1.000000\n",
       "year_pass             0.029086\n",
       "total_sub             0.023050\n",
       "abonnement_consec     0.018481\n",
       "begin_month           0.009772\n",
       "month_pass            0.008066\n",
       "action_open           0.005788\n",
       "box_name             -0.003123\n",
       "end_day              -0.013191\n",
       "end_month            -0.013334\n",
       "action_click         -0.016343\n",
       "begin_day            -0.018749\n",
       "begin_year           -0.032041\n",
       "age                  -0.046518\n",
       "subscriptions_type   -0.054357\n",
       "end_year             -0.055588\n",
       "submain_state        -0.059981\n",
       "abonnement_succ      -1.000000\n",
       "Name: churn, dtype: float64"
      ]
     },
     "execution_count": 33,
     "metadata": {},
     "output_type": "execute_result"
    }
   ],
   "source": [
    "# regarder la correlation avec le champ churn\n",
    "df_data.corr()[\"churn\"].sort_values(ascending=False)"
   ]
  },
  {
   "cell_type": "code",
   "execution_count": 34,
   "metadata": {},
   "outputs": [],
   "source": [
    "# le champ abonnement_succ est totalement negativement correle, on ne le considere pas comme le feature\n",
    "df = df.drop(columns='abonnement_succ')"
   ]
  },
  {
   "cell_type": "markdown",
   "metadata": {},
   "source": [
    "**normalisation**"
   ]
  },
  {
   "cell_type": "code",
   "execution_count": 35,
   "metadata": {},
   "outputs": [
    {
     "data": {
      "text/html": [
       "<div>\n",
       "<style scoped>\n",
       "    .dataframe tbody tr th:only-of-type {\n",
       "        vertical-align: middle;\n",
       "    }\n",
       "\n",
       "    .dataframe tbody tr th {\n",
       "        vertical-align: top;\n",
       "    }\n",
       "\n",
       "    .dataframe thead th {\n",
       "        text-align: right;\n",
       "    }\n",
       "</style>\n",
       "<table border=\"1\" class=\"dataframe\">\n",
       "  <thead>\n",
       "    <tr style=\"text-align: right;\">\n",
       "      <th></th>\n",
       "      <th>id_subscriptionMain</th>\n",
       "      <th>box_name</th>\n",
       "      <th>subscriptions_type</th>\n",
       "      <th>submain_state</th>\n",
       "      <th>newsletter</th>\n",
       "      <th>age</th>\n",
       "      <th>total_sub</th>\n",
       "      <th>abonnement_consec</th>\n",
       "      <th>action_open</th>\n",
       "      <th>action_click</th>\n",
       "      <th>year_pass</th>\n",
       "      <th>month_pass</th>\n",
       "      <th>begin_year</th>\n",
       "      <th>begin_month</th>\n",
       "      <th>begin_day</th>\n",
       "      <th>end_year</th>\n",
       "      <th>end_month</th>\n",
       "      <th>end_day</th>\n",
       "      <th>churn</th>\n",
       "    </tr>\n",
       "  </thead>\n",
       "  <tbody>\n",
       "    <tr>\n",
       "      <th>69</th>\n",
       "      <td>11573</td>\n",
       "      <td>0.0</td>\n",
       "      <td>0.003434</td>\n",
       "      <td>0.000000</td>\n",
       "      <td>0.0</td>\n",
       "      <td>0.000286</td>\n",
       "      <td>0.000286</td>\n",
       "      <td>0.000286</td>\n",
       "      <td>0.002003</td>\n",
       "      <td>0.000286</td>\n",
       "      <td>0.576272</td>\n",
       "      <td>0.000858</td>\n",
       "      <td>0.577703</td>\n",
       "      <td>0.000286</td>\n",
       "      <td>0.001145</td>\n",
       "      <td>0.577989</td>\n",
       "      <td>0.000858</td>\n",
       "      <td>0.008870</td>\n",
       "      <td>0</td>\n",
       "    </tr>\n",
       "    <tr>\n",
       "      <th>70</th>\n",
       "      <td>11573</td>\n",
       "      <td>0.0</td>\n",
       "      <td>0.003434</td>\n",
       "      <td>0.000000</td>\n",
       "      <td>0.0</td>\n",
       "      <td>0.000286</td>\n",
       "      <td>0.000572</td>\n",
       "      <td>0.000572</td>\n",
       "      <td>0.002003</td>\n",
       "      <td>0.000286</td>\n",
       "      <td>0.576272</td>\n",
       "      <td>0.001145</td>\n",
       "      <td>0.577703</td>\n",
       "      <td>0.000286</td>\n",
       "      <td>0.001145</td>\n",
       "      <td>0.577989</td>\n",
       "      <td>0.000858</td>\n",
       "      <td>0.008870</td>\n",
       "      <td>0</td>\n",
       "    </tr>\n",
       "    <tr>\n",
       "      <th>71</th>\n",
       "      <td>11573</td>\n",
       "      <td>0.0</td>\n",
       "      <td>0.003434</td>\n",
       "      <td>0.000000</td>\n",
       "      <td>0.0</td>\n",
       "      <td>0.000286</td>\n",
       "      <td>0.000858</td>\n",
       "      <td>0.000858</td>\n",
       "      <td>0.002003</td>\n",
       "      <td>0.000286</td>\n",
       "      <td>0.576272</td>\n",
       "      <td>0.001431</td>\n",
       "      <td>0.577702</td>\n",
       "      <td>0.000286</td>\n",
       "      <td>0.001145</td>\n",
       "      <td>0.577988</td>\n",
       "      <td>0.000858</td>\n",
       "      <td>0.008870</td>\n",
       "      <td>0</td>\n",
       "    </tr>\n",
       "    <tr>\n",
       "      <th>73</th>\n",
       "      <td>5466</td>\n",
       "      <td>0.0</td>\n",
       "      <td>0.003433</td>\n",
       "      <td>0.000000</td>\n",
       "      <td>0.0</td>\n",
       "      <td>0.000286</td>\n",
       "      <td>0.001430</td>\n",
       "      <td>0.000286</td>\n",
       "      <td>0.002003</td>\n",
       "      <td>0.000286</td>\n",
       "      <td>0.576460</td>\n",
       "      <td>0.003147</td>\n",
       "      <td>0.577605</td>\n",
       "      <td>0.000286</td>\n",
       "      <td>0.001144</td>\n",
       "      <td>0.577891</td>\n",
       "      <td>0.000858</td>\n",
       "      <td>0.008869</td>\n",
       "      <td>0</td>\n",
       "    </tr>\n",
       "    <tr>\n",
       "      <th>75</th>\n",
       "      <td>19975</td>\n",
       "      <td>0.0</td>\n",
       "      <td>0.003432</td>\n",
       "      <td>0.000286</td>\n",
       "      <td>0.0</td>\n",
       "      <td>0.000286</td>\n",
       "      <td>0.002002</td>\n",
       "      <td>0.000286</td>\n",
       "      <td>0.002002</td>\n",
       "      <td>0.000286</td>\n",
       "      <td>0.576844</td>\n",
       "      <td>0.001144</td>\n",
       "      <td>0.577416</td>\n",
       "      <td>0.000286</td>\n",
       "      <td>0.001144</td>\n",
       "      <td>0.577702</td>\n",
       "      <td>0.000858</td>\n",
       "      <td>0.008866</td>\n",
       "      <td>0</td>\n",
       "    </tr>\n",
       "  </tbody>\n",
       "</table>\n",
       "</div>"
      ],
      "text/plain": [
       "    id_subscriptionMain  box_name  subscriptions_type  submain_state  \\\n",
       "69                11573       0.0            0.003434       0.000000   \n",
       "70                11573       0.0            0.003434       0.000000   \n",
       "71                11573       0.0            0.003434       0.000000   \n",
       "73                 5466       0.0            0.003433       0.000000   \n",
       "75                19975       0.0            0.003432       0.000286   \n",
       "\n",
       "    newsletter       age  total_sub  abonnement_consec  action_open  \\\n",
       "69         0.0  0.000286   0.000286           0.000286     0.002003   \n",
       "70         0.0  0.000286   0.000572           0.000572     0.002003   \n",
       "71         0.0  0.000286   0.000858           0.000858     0.002003   \n",
       "73         0.0  0.000286   0.001430           0.000286     0.002003   \n",
       "75         0.0  0.000286   0.002002           0.000286     0.002002   \n",
       "\n",
       "    action_click  year_pass  month_pass  begin_year  begin_month  begin_day  \\\n",
       "69      0.000286   0.576272    0.000858    0.577703     0.000286   0.001145   \n",
       "70      0.000286   0.576272    0.001145    0.577703     0.000286   0.001145   \n",
       "71      0.000286   0.576272    0.001431    0.577702     0.000286   0.001145   \n",
       "73      0.000286   0.576460    0.003147    0.577605     0.000286   0.001144   \n",
       "75      0.000286   0.576844    0.001144    0.577416     0.000286   0.001144   \n",
       "\n",
       "    end_year  end_month   end_day  churn  \n",
       "69  0.577989   0.000858  0.008870      0  \n",
       "70  0.577989   0.000858  0.008870      0  \n",
       "71  0.577988   0.000858  0.008870      0  \n",
       "73  0.577891   0.000858  0.008869      0  \n",
       "75  0.577702   0.000858  0.008866      0  "
      ]
     },
     "execution_count": 35,
     "metadata": {},
     "output_type": "execute_result"
    }
   ],
   "source": [
    "df.iloc[:,1:-1] = normalize(df.iloc[:,1:-1])\n",
    "\n",
    "df.head()"
   ]
  },
  {
   "cell_type": "markdown",
   "metadata": {},
   "source": [
    "## machine learning\n",
    "**definir les features**"
   ]
  },
  {
   "cell_type": "code",
   "execution_count": 36,
   "metadata": {},
   "outputs": [],
   "source": [
    "df5 = copy.deepcopy(df)\n",
    "# df = copy.deepcopy(df5)"
   ]
  },
  {
   "cell_type": "code",
   "execution_count": 37,
   "metadata": {},
   "outputs": [],
   "source": [
    "ids = ['id_subscriptionMain']\n",
    "label = ['churn']\n",
    "\n",
    "features = [i for i in df.columns.values.tolist() if i not in ['id_subscriptionMain', 'churn']]\n",
    "data = [j for j in df.columns.values.tolist() if j not in ['id_subscriptionMain']]\n",
    "\n",
    "df_id = df[ids] # id_subscriptionMain, id_order et id\n",
    "df_data = df[data] # features + label\n",
    "df_features = df[features] # tous les champs sauf ids et churn\n",
    "df_label = df[label] # churn"
   ]
  },
  {
   "cell_type": "code",
   "execution_count": 38,
   "metadata": {},
   "outputs": [],
   "source": [
    "# utiliser ExtraTreesClassifier pour calculer l'importance de features\n",
    "from sklearn.ensemble import ExtraTreesClassifier\n",
    "\n",
    "df_imp = df_features\n",
    "\n",
    "clf = ExtraTreesClassifier(n_estimators=200)\n",
    "clf = clf.fit(df_imp, df['churn'])"
   ]
  },
  {
   "cell_type": "code",
   "execution_count": 39,
   "metadata": {},
   "outputs": [],
   "source": [
    "feats = pd.DataFrame()\n",
    "feats['feature'] = df_imp.columns\n",
    "feats['importance'] = clf.feature_importances_"
   ]
  },
  {
   "cell_type": "code",
   "execution_count": 40,
   "metadata": {},
   "outputs": [
    {
     "data": {
      "text/plain": [
       "<matplotlib.legend.Legend at 0x2804402dc88>"
      ]
     },
     "execution_count": 40,
     "metadata": {},
     "output_type": "execute_result"
    },
    {
     "data": {
      "image/png": "[encoded data removed]",
      "text/plain": [
       "<Figure size 720x360 with 1 Axes>"
      ]
     },
     "metadata": {
      "needs_background": "light"
     },
     "output_type": "display_data"
    }
   ],
   "source": [
    "feats.sort_values(by=['importance'], ascending=True, inplace=True)\n",
    "feats.set_index('feature', inplace=True)\n",
    "\n",
    "feats.plot(kind='barh', figsize=(10, 5))\n",
    "plt.legend(loc='lower right')"
   ]
  },
  {
   "cell_type": "markdown",
   "metadata": {},
   "source": [
    "methode 1: choisir les features les plus importants"
   ]
  },
  {
   "cell_type": "code",
   "execution_count": null,
   "metadata": {},
   "outputs": [],
   "source": [
    "# # utiliser ExtraTreesClassifier pour calculer l'importance de features\n",
    "# # utiliser SelectFromModel a chosir les donnees froides les plus importants\n",
    "\n",
    "# feats_froides = [i for i in df.columns.values.tolist() if i not in ['id_subscriptionMain', 'churn', 'action_open', 'action_click']]\n",
    "# feats_chaudes =[i for i in ['action_open', 'action_click']]\n",
    "# df_features_froides = df[feats_froides] # seulement les donnes froides\n",
    "# df_chaudes = df[feats_chaudes] # seulement les donnees chaudes\n",
    "\n",
    "# from sklearn.ensemble import ExtraTreesClassifier\n",
    "# df_imp1 = df_features_froides\n",
    "# clf1 = ExtraTreesClassifier(n_estimators=200)\n",
    "# clf1 = clf1.fit(df_imp1, df['churn'])\n",
    "\n",
    "# from sklearn.feature_selection import SelectFromModel\n",
    "# mdl = SelectFromModel(clf1, prefit=True)\n",
    "# df_imp_new = mdl.transform(df_imp1)\n",
    "\n",
    "# print(df_imp_new.shape)"
   ]
  },
  {
   "cell_type": "code",
   "execution_count": null,
   "metadata": {},
   "outputs": [],
   "source": [
    "# # combiner les donnes froides choisies avec les donnees chaudes et le label\n",
    "# indices = mdl.get_support(indices=False)\n",
    "# df_new = df_imp1.loc[:, indices]\n",
    "# # df_new.head()\n",
    "# df = pd.concat((df.iloc[:, :1], df_new, df_chaudes, df['churn']), axis=1)\n",
    "# df.head()"
   ]
  },
  {
   "cell_type": "code",
   "execution_count": null,
   "metadata": {},
   "outputs": [],
   "source": [
    "# train_data = df.columns.values.tolist()\n",
    "# train_features = [i for i in train_data if i not in ['id_subscriptionMain', 'churn']]\n",
    "\n",
    "# df = df[train_data]\n",
    "# df_features = df[train_features]"
   ]
  },
  {
   "cell_type": "markdown",
   "metadata": {},
   "source": [
    "methode 2: utiliser tous les champs comme features"
   ]
  },
  {
   "cell_type": "code",
   "execution_count": 41,
   "metadata": {},
   "outputs": [],
   "source": [
    "train_data = df.columns.values.tolist()\n",
    "train_features = [i for i in train_data if i not in ['id_subscriptionMain', 'churn']]\n",
    "\n",
    "df = df[train_data]\n",
    "df_features = df[train_features]"
   ]
  },
  {
   "cell_type": "markdown",
   "metadata": {},
   "source": [
    "**splitting data**"
   ]
  },
  {
   "cell_type": "code",
   "execution_count": 42,
   "metadata": {},
   "outputs": [],
   "source": [
    "df6 = copy.deepcopy(df)\n",
    "# df = copy.deepcopy(df6)"
   ]
  },
  {
   "cell_type": "code",
   "execution_count": 43,
   "metadata": {},
   "outputs": [
    {
     "name": "stdout",
     "output_type": "stream",
     "text": [
      "0    1890\n",
      "1     135\n",
      "Name: churn, dtype: int64\n"
     ]
    }
   ],
   "source": [
    "# taille train : test = 8:2\n",
    "train,test = train_test_split(df,test_size = .2 ,random_state = 40)\n",
    "\n",
    "test_id_sub = test['id_subscriptionMain'].astype(int)\n",
    "\n",
    "cols = [i for i in df_features.columns.values.tolist()]\n",
    "chaudes = [i for i in ['action_open', 'action_click']]\n",
    "\n",
    "train_X = train[cols]\n",
    "train_Y = train['churn']\n",
    "test_X  = test[cols]\n",
    "test_Y  = test['churn']\n",
    "\n",
    "print(train_Y.value_counts())"
   ]
  },
  {
   "cell_type": "markdown",
   "metadata": {},
   "source": [
    "**equilibrer les donnees**"
   ]
  },
  {
   "cell_type": "markdown",
   "metadata": {},
   "source": [
    "on trouve que le churn contient trop de valeur 0, on va donc equilibrer les donnees"
   ]
  },
  {
   "cell_type": "code",
   "execution_count": 44,
   "metadata": {},
   "outputs": [],
   "source": [
    "df_train = copy.deepcopy(train)\n",
    "# train = copy.deepcopy(df_train)"
   ]
  },
  {
   "cell_type": "code",
   "execution_count": 45,
   "metadata": {},
   "outputs": [],
   "source": [
    "train_X = train[cols]\n",
    "train_Y = train['churn']\n",
    "\n",
    "data_cols = [i for i in train_X.columns.values.tolist()]\n",
    "\n",
    "X_sampled = train_X\n",
    "y_sampled = train_Y"
   ]
  },
  {
   "cell_type": "code",
   "execution_count": 46,
   "metadata": {},
   "outputs": [
    {
     "name": "stdout",
     "output_type": "stream",
     "text": [
      "0    1890\n",
      "1     135\n",
      "Name: churn, dtype: int64\n",
      "1    1747\n",
      "0    1536\n",
      "dtype: int64\n"
     ]
    },
    {
     "name": "stderr",
     "output_type": "stream",
     "text": [
      "Using TensorFlow backend.\n"
     ]
    }
   ],
   "source": [
    "print(pd.Series(y_sampled).value_counts())\n",
    "\n",
    "# combine pour resoudre le probleme de desequilibre\n",
    "from imblearn.combine import SMOTEENN\n",
    "smote_enn = SMOTEENN(random_state=0)\n",
    "X_resampled, y_resampled = smote_enn.fit_sample(X_sampled, y_sampled)\n",
    "\n",
    "print(pd.Series(y_resampled).value_counts())"
   ]
  },
  {
   "cell_type": "code",
   "execution_count": 47,
   "metadata": {},
   "outputs": [],
   "source": [
    "train_X = pd.DataFrame(X_resampled, columns=data_cols)\n",
    "train_Y = pd.DataFrame(y_resampled, columns=['churn'])"
   ]
  },
  {
   "cell_type": "markdown",
   "metadata": {},
   "source": [
    "**logistic regression**"
   ]
  },
  {
   "cell_type": "code",
   "execution_count": 48,
   "metadata": {},
   "outputs": [
    {
     "name": "stdout",
     "output_type": "stream",
     "text": [
      "LR Accuracy score = 8.086785009861932\n"
     ]
    },
    {
     "name": "stderr",
     "output_type": "stream",
     "text": [
      "D:\\ASUS\\Anaconda3\\lib\\site-packages\\sklearn\\utils\\validation.py:724: DataConversionWarning: A column-vector y was passed when a 1d array was expected. Please change the shape of y to (n_samples, ), for example using ravel().\n",
      "  y = column_or_1d(y, warn=True)\n"
     ]
    }
   ],
   "source": [
    "# Logistic Regression classifier\n",
    "LR = LogisticRegression(solver='lbfgs', multi_class='auto')\n",
    "LR.fit(train_X, train_Y)\n",
    "\n",
    "# prediction\n",
    "\n",
    "# 2 prediction type\n",
    "y_pred_lr = LR.predict(test_X) \n",
    "y_pred_prob_lr = LR.predict_proba(test_X) # Predict probabilities\n",
    "\n",
    "# accuracy_score\n",
    "LR_accuracy = accuracy_score(test_Y,y_pred_lr)*100\n",
    "print (\"LR Accuracy score = {}\".format(LR_accuracy))"
   ]
  },
  {
   "cell_type": "code",
   "execution_count": 49,
   "metadata": {
    "scrolled": true
   },
   "outputs": [
    {
     "name": "stdout",
     "output_type": "stream",
     "text": [
      "[0 1]\n",
      "[1]\n"
     ]
    }
   ],
   "source": [
    "print(np.unique(test_Y))\n",
    "print(np.unique(y_pred_lr))"
   ]
  },
  {
   "cell_type": "code",
   "execution_count": 50,
   "metadata": {},
   "outputs": [
    {
     "name": "stdout",
     "output_type": "stream",
     "text": [
      "confusion matrix\n",
      "[[  0 466]\n",
      " [  0  41]]\n"
     ]
    }
   ],
   "source": [
    "# confusion matrix\n",
    "lr_confsmat = confusion_matrix(test_Y, y_pred_lr, labels=[0,1])\n",
    "\n",
    "print(\"confusion matrix\")\n",
    "print(lr_confsmat)"
   ]
  },
  {
   "cell_type": "code",
   "execution_count": 51,
   "metadata": {},
   "outputs": [
    {
     "name": "stdout",
     "output_type": "stream",
     "text": [
      "classification_report(left: labels):\n",
      "              precision    recall  f1-score   support\n",
      "\n",
      "           0       0.00      0.00      0.00       466\n",
      "           1       0.08      1.00      0.15        41\n",
      "\n",
      "    accuracy                           0.08       507\n",
      "   macro avg       0.04      0.50      0.07       507\n",
      "weighted avg       0.01      0.08      0.01       507\n",
      "\n"
     ]
    },
    {
     "name": "stderr",
     "output_type": "stream",
     "text": [
      "D:\\ASUS\\Anaconda3\\lib\\site-packages\\sklearn\\metrics\\classification.py:1437: UndefinedMetricWarning: Precision and F-score are ill-defined and being set to 0.0 in labels with no predicted samples.\n",
      "  'precision', 'predicted', average, warn_for)\n",
      "D:\\ASUS\\Anaconda3\\lib\\site-packages\\sklearn\\metrics\\classification.py:1437: UndefinedMetricWarning: Precision and F-score are ill-defined and being set to 0.0 in labels with no predicted samples.\n",
      "  'precision', 'predicted', average, warn_for)\n",
      "D:\\ASUS\\Anaconda3\\lib\\site-packages\\sklearn\\metrics\\classification.py:1437: UndefinedMetricWarning: Precision and F-score are ill-defined and being set to 0.0 in labels with no predicted samples.\n",
      "  'precision', 'predicted', average, warn_for)\n"
     ]
    }
   ],
   "source": [
    "# classification report\n",
    "\n",
    "# precision: how many classifications are given correctly\n",
    "# recall: the correctness of this classification. The greater the recall rate, the better the recognition of this class.\n",
    "# f1-socre: 2*precision*recall/(precision+recall)\n",
    "# support: actual number of samples per class\n",
    "\n",
    "lr_clsreport = classification_report(test_Y, y_pred_lr)\n",
    "\n",
    "print(\"classification_report(left: labels):\")\n",
    "print(lr_clsreport)"
   ]
  },
  {
   "cell_type": "code",
   "execution_count": 52,
   "metadata": {},
   "outputs": [
    {
     "data": {
      "text/html": [
       "<div>\n",
       "<style scoped>\n",
       "    .dataframe tbody tr th:only-of-type {\n",
       "        vertical-align: middle;\n",
       "    }\n",
       "\n",
       "    .dataframe tbody tr th {\n",
       "        vertical-align: top;\n",
       "    }\n",
       "\n",
       "    .dataframe thead th {\n",
       "        text-align: right;\n",
       "    }\n",
       "</style>\n",
       "<table border=\"1\" class=\"dataframe\">\n",
       "  <thead>\n",
       "    <tr style=\"text-align: right;\">\n",
       "      <th></th>\n",
       "      <th>id_subscriptionMain</th>\n",
       "      <th>churn_reel</th>\n",
       "      <th>churn_pred</th>\n",
       "      <th>churn_pred_prob</th>\n",
       "    </tr>\n",
       "  </thead>\n",
       "  <tbody>\n",
       "    <tr>\n",
       "      <th>15455</th>\n",
       "      <td>29407</td>\n",
       "      <td>0</td>\n",
       "      <td>1</td>\n",
       "      <td>0.532508</td>\n",
       "    </tr>\n",
       "    <tr>\n",
       "      <th>22371</th>\n",
       "      <td>18852</td>\n",
       "      <td>0</td>\n",
       "      <td>1</td>\n",
       "      <td>0.532114</td>\n",
       "    </tr>\n",
       "    <tr>\n",
       "      <th>868</th>\n",
       "      <td>21480</td>\n",
       "      <td>0</td>\n",
       "      <td>1</td>\n",
       "      <td>0.532102</td>\n",
       "    </tr>\n",
       "    <tr>\n",
       "      <th>14972</th>\n",
       "      <td>19061</td>\n",
       "      <td>1</td>\n",
       "      <td>1</td>\n",
       "      <td>0.532220</td>\n",
       "    </tr>\n",
       "    <tr>\n",
       "      <th>2092</th>\n",
       "      <td>21645</td>\n",
       "      <td>0</td>\n",
       "      <td>1</td>\n",
       "      <td>0.532053</td>\n",
       "    </tr>\n",
       "  </tbody>\n",
       "</table>\n",
       "</div>"
      ],
      "text/plain": [
       "       id_subscriptionMain  churn_reel  churn_pred  churn_pred_prob\n",
       "15455                29407           0           1         0.532508\n",
       "22371                18852           0           1         0.532114\n",
       "868                  21480           0           1         0.532102\n",
       "14972                19061           1           1         0.532220\n",
       "2092                 21645           0           1         0.532053"
      ]
     },
     "execution_count": 52,
     "metadata": {},
     "output_type": "execute_result"
    }
   ],
   "source": [
    "# visualisation le resultat de prediction\n",
    "y_pred_prob_lr_0 = y_pred_prob_lr[:,0]\n",
    "y_pred_prob_lr_1 = y_pred_prob_lr[:,1]\n",
    "\n",
    "result_lr = pd.DataFrame({'id_subscriptionMain':test_id_sub.values, 'churn_reel':test_Y, 'churn_pred':y_pred_lr.astype(np.int32), \\\n",
    "                          'churn_pred_prob':y_pred_prob_lr_1})\n",
    "result_lr.head()"
   ]
  },
  {
   "cell_type": "code",
   "execution_count": 53,
   "metadata": {},
   "outputs": [],
   "source": [
    "out_lr = pd.concat((result_lr, test_X), axis=1)\n",
    "out_lr.to_csv('./output_donnes_chaudes_sans_nan/smoteenn_output_lr.csv', index=False)"
   ]
  },
  {
   "cell_type": "markdown",
   "metadata": {},
   "source": [
    "**Decision Tree**"
   ]
  },
  {
   "cell_type": "code",
   "execution_count": 54,
   "metadata": {},
   "outputs": [
    {
     "name": "stdout",
     "output_type": "stream",
     "text": [
      "DT Accuracy score = 88.75739644970415\n"
     ]
    }
   ],
   "source": [
    "# decision tree classifier\n",
    "\n",
    "DT = DecisionTreeClassifier(random_state=90)\n",
    "\n",
    "DT.fit(train_X, train_Y)\n",
    "\n",
    "# prediction\n",
    "\n",
    "y_pred_dt = DT.predict(test_X)\n",
    "y_pred_prob_dt = DT.predict_proba(test_X)\n",
    "\n",
    "# accuracy score\n",
    "DT_accuracy = accuracy_score(test_Y,y_pred_dt)*100\n",
    "print (\"DT Accuracy score = {}\".format(DT_accuracy))"
   ]
  },
  {
   "cell_type": "code",
   "execution_count": 55,
   "metadata": {},
   "outputs": [
    {
     "name": "stdout",
     "output_type": "stream",
     "text": [
      "[0 1]\n",
      "[0 1]\n"
     ]
    }
   ],
   "source": [
    "print(np.unique(test_Y))\n",
    "print(np.unique(y_pred_dt))"
   ]
  },
  {
   "cell_type": "code",
   "execution_count": 56,
   "metadata": {},
   "outputs": [
    {
     "name": "stdout",
     "output_type": "stream",
     "text": [
      "confusion matrix\n",
      "[[424  42]\n",
      " [ 15  26]]\n"
     ]
    }
   ],
   "source": [
    "# confusion matrix\n",
    "dt_confsmat = confusion_matrix(test_Y, y_pred_dt, labels=[0,1])\n",
    "\n",
    "print(\"confusion matrix\")\n",
    "print(dt_confsmat)"
   ]
  },
  {
   "cell_type": "code",
   "execution_count": 57,
   "metadata": {},
   "outputs": [
    {
     "name": "stdout",
     "output_type": "stream",
     "text": [
      "classification_report(left: labels):\n",
      "              precision    recall  f1-score   support\n",
      "\n",
      "           0       0.97      0.91      0.94       466\n",
      "           1       0.38      0.63      0.48        41\n",
      "\n",
      "    accuracy                           0.89       507\n",
      "   macro avg       0.67      0.77      0.71       507\n",
      "weighted avg       0.92      0.89      0.90       507\n",
      "\n"
     ]
    }
   ],
   "source": [
    "# classification report\n",
    "dt_clsreport = classification_report(test_Y, y_pred_dt)\n",
    "\n",
    "print(\"classification_report(left: labels):\")\n",
    "print(dt_clsreport)"
   ]
  },
  {
   "cell_type": "code",
   "execution_count": 58,
   "metadata": {},
   "outputs": [
    {
     "data": {
      "text/html": [
       "<div>\n",
       "<style scoped>\n",
       "    .dataframe tbody tr th:only-of-type {\n",
       "        vertical-align: middle;\n",
       "    }\n",
       "\n",
       "    .dataframe tbody tr th {\n",
       "        vertical-align: top;\n",
       "    }\n",
       "\n",
       "    .dataframe thead th {\n",
       "        text-align: right;\n",
       "    }\n",
       "</style>\n",
       "<table border=\"1\" class=\"dataframe\">\n",
       "  <thead>\n",
       "    <tr style=\"text-align: right;\">\n",
       "      <th></th>\n",
       "      <th>id_subscriptionMain</th>\n",
       "      <th>churn_reel</th>\n",
       "      <th>churn_pred</th>\n",
       "      <th>churn_pred_prob</th>\n",
       "    </tr>\n",
       "  </thead>\n",
       "  <tbody>\n",
       "    <tr>\n",
       "      <th>15455</th>\n",
       "      <td>29407</td>\n",
       "      <td>0</td>\n",
       "      <td>0</td>\n",
       "      <td>0.0</td>\n",
       "    </tr>\n",
       "    <tr>\n",
       "      <th>22371</th>\n",
       "      <td>18852</td>\n",
       "      <td>0</td>\n",
       "      <td>0</td>\n",
       "      <td>0.0</td>\n",
       "    </tr>\n",
       "    <tr>\n",
       "      <th>868</th>\n",
       "      <td>21480</td>\n",
       "      <td>0</td>\n",
       "      <td>0</td>\n",
       "      <td>0.0</td>\n",
       "    </tr>\n",
       "    <tr>\n",
       "      <th>14972</th>\n",
       "      <td>19061</td>\n",
       "      <td>1</td>\n",
       "      <td>0</td>\n",
       "      <td>0.0</td>\n",
       "    </tr>\n",
       "    <tr>\n",
       "      <th>2092</th>\n",
       "      <td>21645</td>\n",
       "      <td>0</td>\n",
       "      <td>0</td>\n",
       "      <td>0.0</td>\n",
       "    </tr>\n",
       "  </tbody>\n",
       "</table>\n",
       "</div>"
      ],
      "text/plain": [
       "       id_subscriptionMain  churn_reel  churn_pred  churn_pred_prob\n",
       "15455                29407           0           0              0.0\n",
       "22371                18852           0           0              0.0\n",
       "868                  21480           0           0              0.0\n",
       "14972                19061           1           0              0.0\n",
       "2092                 21645           0           0              0.0"
      ]
     },
     "execution_count": 58,
     "metadata": {},
     "output_type": "execute_result"
    }
   ],
   "source": [
    "y_pred_prob_dt_0 = y_pred_prob_dt[:,0]\n",
    "y_pred_prob_dt_1 = y_pred_prob_dt[:,1]\n",
    "\n",
    "result_dt = pd.DataFrame({'id_subscriptionMain':test_id_sub.values, 'churn_reel':test_Y, 'churn_pred':y_pred_dt.astype(np.int32), \\\n",
    "                         'churn_pred_prob':y_pred_prob_dt_1})\n",
    "result_dt.head()"
   ]
  },
  {
   "cell_type": "code",
   "execution_count": 59,
   "metadata": {},
   "outputs": [],
   "source": [
    "out_dt = pd.concat((result_dt, test_X), axis=1)\n",
    "out_dt.to_csv('./output_donnes_chaudes_sans_nan/smoteenn_output_dt.csv', index=False)"
   ]
  },
  {
   "cell_type": "markdown",
   "metadata": {},
   "source": [
    "**Random Forest**"
   ]
  },
  {
   "cell_type": "code",
   "execution_count": 60,
   "metadata": {},
   "outputs": [
    {
     "name": "stderr",
     "output_type": "stream",
     "text": [
      "D:\\ASUS\\Anaconda3\\lib\\site-packages\\ipykernel_launcher.py:4: DataConversionWarning: A column-vector y was passed when a 1d array was expected. Please change the shape of y to (n_samples,), for example using ravel().\n",
      "  after removing the cwd from sys.path.\n"
     ]
    },
    {
     "name": "stdout",
     "output_type": "stream",
     "text": [
      "RF Accuracy score = 89.54635108481263\n"
     ]
    }
   ],
   "source": [
    "# random forest classifier\n",
    "\n",
    "RF = RandomForestClassifier(n_estimators=100, random_state=123)\n",
    "RF.fit(train_X, train_Y)\n",
    "\n",
    "# prediction\n",
    "\n",
    "y_pred_rf = RF.predict(test_X)\n",
    "y_pred_prob_rf = RF.predict_proba(test_X)\n",
    "\n",
    "# accuracy_score\n",
    "RF_accuracy = accuracy_score(test_Y,y_pred_rf)*100\n",
    "print (\"RF Accuracy score = {}\".format(RF_accuracy))"
   ]
  },
  {
   "cell_type": "code",
   "execution_count": 61,
   "metadata": {},
   "outputs": [
    {
     "name": "stdout",
     "output_type": "stream",
     "text": [
      "[0 1]\n",
      "[0 1]\n"
     ]
    }
   ],
   "source": [
    "print(np.unique(test_Y))\n",
    "print(np.unique(y_pred_rf))"
   ]
  },
  {
   "cell_type": "code",
   "execution_count": 62,
   "metadata": {},
   "outputs": [
    {
     "name": "stdout",
     "output_type": "stream",
     "text": [
      "confusion matrix\n",
      "[[437  29]\n",
      " [ 24  17]]\n"
     ]
    }
   ],
   "source": [
    "# confusion matrix\n",
    "rf_confsmat = confusion_matrix(test_Y, y_pred_rf, labels=[0,1])\n",
    "\n",
    "print(\"confusion matrix\")\n",
    "print(rf_confsmat)"
   ]
  },
  {
   "cell_type": "code",
   "execution_count": 63,
   "metadata": {},
   "outputs": [
    {
     "name": "stdout",
     "output_type": "stream",
     "text": [
      "classification_report(left: labels):\n",
      "              precision    recall  f1-score   support\n",
      "\n",
      "           0       0.95      0.94      0.94       466\n",
      "           1       0.37      0.41      0.39        41\n",
      "\n",
      "    accuracy                           0.90       507\n",
      "   macro avg       0.66      0.68      0.67       507\n",
      "weighted avg       0.90      0.90      0.90       507\n",
      "\n"
     ]
    }
   ],
   "source": [
    "# classification report\n",
    "rf_clsreport = classification_report(test_Y, y_pred_rf)\n",
    "\n",
    "print(\"classification_report(left: labels):\")\n",
    "print(rf_clsreport)"
   ]
  },
  {
   "cell_type": "code",
   "execution_count": 64,
   "metadata": {},
   "outputs": [
    {
     "data": {
      "text/html": [
       "<div>\n",
       "<style scoped>\n",
       "    .dataframe tbody tr th:only-of-type {\n",
       "        vertical-align: middle;\n",
       "    }\n",
       "\n",
       "    .dataframe tbody tr th {\n",
       "        vertical-align: top;\n",
       "    }\n",
       "\n",
       "    .dataframe thead th {\n",
       "        text-align: right;\n",
       "    }\n",
       "</style>\n",
       "<table border=\"1\" class=\"dataframe\">\n",
       "  <thead>\n",
       "    <tr style=\"text-align: right;\">\n",
       "      <th></th>\n",
       "      <th>id_subscriptionMain</th>\n",
       "      <th>churn_reel</th>\n",
       "      <th>churn_pred</th>\n",
       "      <th>churn_pred_prob</th>\n",
       "    </tr>\n",
       "  </thead>\n",
       "  <tbody>\n",
       "    <tr>\n",
       "      <th>15455</th>\n",
       "      <td>29407</td>\n",
       "      <td>0</td>\n",
       "      <td>0</td>\n",
       "      <td>0.020000</td>\n",
       "    </tr>\n",
       "    <tr>\n",
       "      <th>22371</th>\n",
       "      <td>18852</td>\n",
       "      <td>0</td>\n",
       "      <td>0</td>\n",
       "      <td>0.010000</td>\n",
       "    </tr>\n",
       "    <tr>\n",
       "      <th>868</th>\n",
       "      <td>21480</td>\n",
       "      <td>0</td>\n",
       "      <td>0</td>\n",
       "      <td>0.000294</td>\n",
       "    </tr>\n",
       "    <tr>\n",
       "      <th>14972</th>\n",
       "      <td>19061</td>\n",
       "      <td>1</td>\n",
       "      <td>0</td>\n",
       "      <td>0.130000</td>\n",
       "    </tr>\n",
       "    <tr>\n",
       "      <th>2092</th>\n",
       "      <td>21645</td>\n",
       "      <td>0</td>\n",
       "      <td>0</td>\n",
       "      <td>0.000294</td>\n",
       "    </tr>\n",
       "  </tbody>\n",
       "</table>\n",
       "</div>"
      ],
      "text/plain": [
       "       id_subscriptionMain  churn_reel  churn_pred  churn_pred_prob\n",
       "15455                29407           0           0         0.020000\n",
       "22371                18852           0           0         0.010000\n",
       "868                  21480           0           0         0.000294\n",
       "14972                19061           1           0         0.130000\n",
       "2092                 21645           0           0         0.000294"
      ]
     },
     "execution_count": 64,
     "metadata": {},
     "output_type": "execute_result"
    }
   ],
   "source": [
    "y_pred_prob_rf_0 = y_pred_prob_rf[:,0]\n",
    "y_pred_prob_rf_1 = y_pred_prob_rf[:,1]\n",
    "\n",
    "result_rf = pd.DataFrame({'id_subscriptionMain':test_id_sub.values, 'churn_reel':test_Y, 'churn_pred':y_pred_rf.astype(np.int32), \\\n",
    "                         'churn_pred_prob':y_pred_prob_rf_1})\n",
    "result_rf.head()"
   ]
  },
  {
   "cell_type": "code",
   "execution_count": 65,
   "metadata": {},
   "outputs": [],
   "source": [
    "out_rf = pd.concat((result_rf, test_X), axis=1)\n",
    "out_rf.to_csv('./output_donnes_chaudes_sans_nan/smoteenn_output_rf.csv', index=False)\n"
   ]
  },
  {
   "cell_type": "markdown",
   "metadata": {},
   "source": [
    "**Neural network**"
   ]
  },
  {
   "cell_type": "code",
   "execution_count": 66,
   "metadata": {},
   "outputs": [],
   "source": [
    "#Create feature columns for estimator\n",
    "def make_feature_cols():\n",
    "    input_columns = [tf.feature_column.numeric_column(k) for k in train_features]\n",
    "    return input_columns\n",
    "\n",
    "#Train, eval and predict input functions to read from Pandas Dataframe\n",
    "def train_func(train_x,train_y,batch_size):\n",
    "    dataset = tf.data.Dataset.from_tensor_slices((dict(train_x), train_y))\n",
    "    dataset = dataset.shuffle(1000).repeat().batch(batch_size)\n",
    "    return dataset\n",
    "\n",
    "def eval_input_fn(features, labels, batch_size):\n",
    "    features=dict(features)\n",
    "    if labels is None:\n",
    "        # No labels, use only features.\n",
    "        inputs = features\n",
    "    else:\n",
    "        inputs = (features, labels)\n",
    "    dataset = tf.data.Dataset.from_tensor_slices(inputs)\n",
    " \n",
    "    assert batch_size is not None, \"batch_size must not be None\"\n",
    "    dataset = dataset.batch(batch_size)\n",
    "    return dataset"
   ]
  },
  {
   "cell_type": "code",
   "execution_count": 67,
   "metadata": {
    "scrolled": true
   },
   "outputs": [
    {
     "name": "stdout",
     "output_type": "stream",
     "text": [
      "INFO:tensorflow:Using default config.\n",
      "INFO:tensorflow:Using config: {'_model_dir': 'envouthe_algo', '_tf_random_seed': None, '_save_summary_steps': 100, '_save_checkpoints_steps': None, '_save_checkpoints_secs': 600, '_session_config': allow_soft_placement: true\n",
      "graph_options {\n",
      "  rewrite_options {\n",
      "    meta_optimizer_iterations: ONE\n",
      "  }\n",
      "}\n",
      ", '_keep_checkpoint_max': 5, '_keep_checkpoint_every_n_hours': 10000, '_log_step_count_steps': 100, '_train_distribute': None, '_device_fn': None, '_protocol': None, '_eval_distribute': None, '_experimental_distribute': None, '_service': None, '_cluster_spec': <tensorflow.python.training.server_lib.ClusterSpec object at 0x0000028045EE33C8>, '_task_type': 'worker', '_task_id': 0, '_global_id_in_cluster': 0, '_master': '', '_evaluation_master': '', '_is_chief': True, '_num_ps_replicas': 0, '_num_worker_replicas': 1}\n"
     ]
    }
   ],
   "source": [
    "import shutil\n",
    "\n",
    "OUTDIR = 'envouthe_algo'\n",
    "shutil.rmtree(OUTDIR, ignore_errors = True) # start fresh each time\n",
    "tf.logging.set_verbosity(tf.logging.INFO)\n",
    "\n",
    "# DNN classifier with tf.Estimator framework\n",
    "\n",
    "model = tf.estimator.DNNClassifier(\n",
    "    model_dir = OUTDIR,\n",
    "    feature_columns=make_feature_cols(),\n",
    "    hidden_units=[64, 32], # specify hidden layers\n",
    "    n_classes=2, # classify the output classes\n",
    "    optimizer=lambda: tf.train.AdamOptimizer(\n",
    "        learning_rate=tf.train.exponential_decay(\n",
    "            learning_rate=0.1,\n",
    "            global_step=tf.train.get_global_step(),\n",
    "            decay_steps=10000,\n",
    "            decay_rate=0.96))\n",
    ")"
   ]
  },
  {
   "cell_type": "code",
   "execution_count": 68,
   "metadata": {
    "scrolled": true
   },
   "outputs": [
    {
     "name": "stdout",
     "output_type": "stream",
     "text": [
      "INFO:tensorflow:Calling model_fn.\n",
      "INFO:tensorflow:Done calling model_fn.\n",
      "INFO:tensorflow:Create CheckpointSaverHook.\n",
      "INFO:tensorflow:Graph was finalized.\n",
      "INFO:tensorflow:Running local_init_op.\n",
      "INFO:tensorflow:Done running local_init_op.\n",
      "INFO:tensorflow:Saving checkpoints for 0 into envouthe_algo\\model.ckpt.\n",
      "INFO:tensorflow:loss = 72.287964, step = 1\n",
      "INFO:tensorflow:global_step/sec: 352.036\n",
      "INFO:tensorflow:loss = 100.478745, step = 101 (0.285 sec)\n",
      "INFO:tensorflow:global_step/sec: 456.729\n",
      "INFO:tensorflow:loss = 97.137054, step = 201 (0.222 sec)\n",
      "INFO:tensorflow:global_step/sec: 455.497\n",
      "INFO:tensorflow:loss = 94.860245, step = 301 (0.216 sec)\n",
      "INFO:tensorflow:global_step/sec: 462.874\n",
      "INFO:tensorflow:loss = 87.21071, step = 401 (0.217 sec)\n",
      "INFO:tensorflow:global_step/sec: 488.958\n",
      "INFO:tensorflow:loss = 79.48871, step = 501 (0.204 sec)\n",
      "INFO:tensorflow:global_step/sec: 463.174\n",
      "INFO:tensorflow:loss = 73.037766, step = 601 (0.217 sec)\n",
      "INFO:tensorflow:global_step/sec: 487.642\n",
      "INFO:tensorflow:loss = 70.52475, step = 701 (0.205 sec)\n",
      "INFO:tensorflow:global_step/sec: 464.024\n",
      "INFO:tensorflow:loss = 69.3578, step = 801 (0.215 sec)\n",
      "INFO:tensorflow:global_step/sec: 493.59\n",
      "INFO:tensorflow:loss = 69.88617, step = 901 (0.203 sec)\n",
      "INFO:tensorflow:Saving checkpoints for 1000 into envouthe_algo\\model.ckpt.\n",
      "INFO:tensorflow:Loss for final step: 70.58271.\n"
     ]
    },
    {
     "data": {
      "text/plain": [
       "<tensorflow.python.estimator.canned.dnn.DNNClassifier at 0x28045e74ef0>"
      ]
     },
     "execution_count": 68,
     "metadata": {},
     "output_type": "execute_result"
    }
   ],
   "source": [
    "# train\n",
    "\n",
    "batch_size = 100\n",
    "train_steps = 1000\n",
    "\n",
    "model.train(\n",
    "    input_fn=lambda:train_func(train_X,train_Y,batch_size),\n",
    "    steps=train_steps\n",
    ")"
   ]
  },
  {
   "cell_type": "code",
   "execution_count": 69,
   "metadata": {},
   "outputs": [
    {
     "name": "stdout",
     "output_type": "stream",
     "text": [
      "INFO:tensorflow:Calling model_fn.\n",
      "WARNING:tensorflow:Trapezoidal rule is known to produce incorrect PR-AUCs; please switch to \"careful_interpolation\" instead.\n",
      "WARNING:tensorflow:Trapezoidal rule is known to produce incorrect PR-AUCs; please switch to \"careful_interpolation\" instead.\n",
      "INFO:tensorflow:Done calling model_fn.\n",
      "INFO:tensorflow:Starting evaluation at 2019-09-20-16:14:42\n",
      "INFO:tensorflow:Graph was finalized.\n",
      "INFO:tensorflow:Restoring parameters from envouthe_algo\\model.ckpt-1000\n",
      "INFO:tensorflow:Running local_init_op.\n",
      "INFO:tensorflow:Done running local_init_op.\n",
      "INFO:tensorflow:Finished evaluation at 2019-09-20-16:14:43\n",
      "INFO:tensorflow:Saving dict for global step 1000: accuracy = 0.9191322, accuracy_baseline = 0.9191322, auc = 0.5, auc_precision_recall = 0.54043394, average_loss = 0.6416258, global_step = 1000, label/mean = 0.08086785, loss = 54.21738, precision = 0.0, prediction/mean = 0.46809575, recall = 0.0\n",
      "INFO:tensorflow:Saving 'checkpoint_path' summary for global step 1000: envouthe_algo\\model.ckpt-1000\n"
     ]
    }
   ],
   "source": [
    "# evaluation\n",
    "batch_size=100\n",
    "\n",
    "eval_result = model.evaluate(\n",
    "    input_fn=lambda:eval_input_fn(test_X, test_Y,batch_size)\n",
    ")"
   ]
  },
  {
   "cell_type": "code",
   "execution_count": 70,
   "metadata": {
    "scrolled": true
   },
   "outputs": [
    {
     "name": "stdout",
     "output_type": "stream",
     "text": [
      "INFO:tensorflow:Calling model_fn.\n",
      "INFO:tensorflow:Done calling model_fn.\n",
      "INFO:tensorflow:Graph was finalized.\n",
      "INFO:tensorflow:Restoring parameters from envouthe_algo\\model.ckpt-1000\n",
      "INFO:tensorflow:Running local_init_op.\n",
      "INFO:tensorflow:Done running local_init_op.\n"
     ]
    }
   ],
   "source": [
    "# prediction\n",
    "\n",
    "y_pred_dnn = model.predict(\n",
    "        input_fn=lambda:eval_input_fn(test_X,labels=None,batch_size=batch_size))\n",
    "\n",
    "predict_arr = []\n",
    "y_pred_prob_dnn_0 = []\n",
    "y_pred_prob_dnn_1 = []\n",
    "\n",
    "for predict in y_pred_dnn:\n",
    "    predict_arr.append(predict['probabilities'].argmax())\n",
    "    y_pred_prob_dnn_0.append(predict['probabilities'][0])\n",
    "    y_pred_prob_dnn_1.append(predict['probabilities'][1])"
   ]
  },
  {
   "cell_type": "code",
   "execution_count": 71,
   "metadata": {},
   "outputs": [
    {
     "name": "stdout",
     "output_type": "stream",
     "text": [
      "DNN  Accuracy score = 91.91321499013807\n"
     ]
    }
   ],
   "source": [
    "# accuracy_score\n",
    "DNN_accuracy = accuracy_score(test_Y,predict_arr)*100\n",
    "print (\"DNN  Accuracy score = {}\".format(DNN_accuracy))"
   ]
  },
  {
   "cell_type": "code",
   "execution_count": 72,
   "metadata": {},
   "outputs": [
    {
     "name": "stdout",
     "output_type": "stream",
     "text": [
      "[0 1]\n",
      "[0]\n"
     ]
    }
   ],
   "source": [
    "print(np.unique(test_Y))\n",
    "print(np.unique(predict_arr))"
   ]
  },
  {
   "cell_type": "code",
   "execution_count": 73,
   "metadata": {},
   "outputs": [
    {
     "name": "stdout",
     "output_type": "stream",
     "text": [
      "confusion matrix\n",
      "[[466   0]\n",
      " [ 41   0]]\n"
     ]
    }
   ],
   "source": [
    "# confusion matrix\n",
    "dnn_confsmat = confusion_matrix(test_Y, predict_arr, labels=[0,1])\n",
    "print(\"confusion matrix\")\n",
    "print(dnn_confsmat)"
   ]
  },
  {
   "cell_type": "code",
   "execution_count": 74,
   "metadata": {},
   "outputs": [
    {
     "name": "stdout",
     "output_type": "stream",
     "text": [
      "classification_report(left: labels):\n",
      "              precision    recall  f1-score   support\n",
      "\n",
      "           0       0.92      1.00      0.96       466\n",
      "           1       0.00      0.00      0.00        41\n",
      "\n",
      "    accuracy                           0.92       507\n",
      "   macro avg       0.46      0.50      0.48       507\n",
      "weighted avg       0.84      0.92      0.88       507\n",
      "\n"
     ]
    },
    {
     "name": "stderr",
     "output_type": "stream",
     "text": [
      "D:\\ASUS\\Anaconda3\\lib\\site-packages\\sklearn\\metrics\\classification.py:1437: UndefinedMetricWarning: Precision and F-score are ill-defined and being set to 0.0 in labels with no predicted samples.\n",
      "  'precision', 'predicted', average, warn_for)\n",
      "D:\\ASUS\\Anaconda3\\lib\\site-packages\\sklearn\\metrics\\classification.py:1437: UndefinedMetricWarning: Precision and F-score are ill-defined and being set to 0.0 in labels with no predicted samples.\n",
      "  'precision', 'predicted', average, warn_for)\n",
      "D:\\ASUS\\Anaconda3\\lib\\site-packages\\sklearn\\metrics\\classification.py:1437: UndefinedMetricWarning: Precision and F-score are ill-defined and being set to 0.0 in labels with no predicted samples.\n",
      "  'precision', 'predicted', average, warn_for)\n"
     ]
    }
   ],
   "source": [
    "# classification report\n",
    "dnn_clsreport = classification_report(test_Y, predict_arr)\n",
    "print(\"classification_report(left: labels):\")\n",
    "print(dnn_clsreport)"
   ]
  },
  {
   "cell_type": "code",
   "execution_count": 75,
   "metadata": {},
   "outputs": [
    {
     "data": {
      "text/html": [
       "<div>\n",
       "<style scoped>\n",
       "    .dataframe tbody tr th:only-of-type {\n",
       "        vertical-align: middle;\n",
       "    }\n",
       "\n",
       "    .dataframe tbody tr th {\n",
       "        vertical-align: top;\n",
       "    }\n",
       "\n",
       "    .dataframe thead th {\n",
       "        text-align: right;\n",
       "    }\n",
       "</style>\n",
       "<table border=\"1\" class=\"dataframe\">\n",
       "  <thead>\n",
       "    <tr style=\"text-align: right;\">\n",
       "      <th></th>\n",
       "      <th>id_subscriptionMain</th>\n",
       "      <th>churn_reel</th>\n",
       "      <th>churn_pred</th>\n",
       "      <th>churn_pred_prob</th>\n",
       "    </tr>\n",
       "  </thead>\n",
       "  <tbody>\n",
       "    <tr>\n",
       "      <th>15455</th>\n",
       "      <td>29407</td>\n",
       "      <td>0</td>\n",
       "      <td>0</td>\n",
       "      <td>0.468096</td>\n",
       "    </tr>\n",
       "    <tr>\n",
       "      <th>22371</th>\n",
       "      <td>18852</td>\n",
       "      <td>0</td>\n",
       "      <td>0</td>\n",
       "      <td>0.468096</td>\n",
       "    </tr>\n",
       "    <tr>\n",
       "      <th>868</th>\n",
       "      <td>21480</td>\n",
       "      <td>0</td>\n",
       "      <td>0</td>\n",
       "      <td>0.468096</td>\n",
       "    </tr>\n",
       "    <tr>\n",
       "      <th>14972</th>\n",
       "      <td>19061</td>\n",
       "      <td>1</td>\n",
       "      <td>0</td>\n",
       "      <td>0.468096</td>\n",
       "    </tr>\n",
       "    <tr>\n",
       "      <th>2092</th>\n",
       "      <td>21645</td>\n",
       "      <td>0</td>\n",
       "      <td>0</td>\n",
       "      <td>0.468096</td>\n",
       "    </tr>\n",
       "  </tbody>\n",
       "</table>\n",
       "</div>"
      ],
      "text/plain": [
       "       id_subscriptionMain  churn_reel  churn_pred  churn_pred_prob\n",
       "15455                29407           0           0         0.468096\n",
       "22371                18852           0           0         0.468096\n",
       "868                  21480           0           0         0.468096\n",
       "14972                19061           1           0         0.468096\n",
       "2092                 21645           0           0         0.468096"
      ]
     },
     "execution_count": 75,
     "metadata": {},
     "output_type": "execute_result"
    }
   ],
   "source": [
    "result_dnn = pd.DataFrame({'id_subscriptionMain':test_id_sub.values, 'churn_reel':test_Y, 'churn_pred':predict_arr, \\\n",
    "                          'churn_pred_prob': y_pred_prob_dnn_1})\n",
    "result_dnn.head()"
   ]
  },
  {
   "cell_type": "code",
   "execution_count": 76,
   "metadata": {},
   "outputs": [],
   "source": [
    "out_dnn = pd.concat((result_dnn, test_X), axis=1)\n",
    "out_dnn.to_csv('./output_donnes_chaudes_sans_nan/smoteenn_output_dnn.csv', index=False)"
   ]
  },
  {
   "cell_type": "markdown",
   "metadata": {},
   "source": [
    "**SVM**"
   ]
  },
  {
   "cell_type": "code",
   "execution_count": 77,
   "metadata": {},
   "outputs": [
    {
     "name": "stderr",
     "output_type": "stream",
     "text": [
      "D:\\ASUS\\Anaconda3\\lib\\site-packages\\sklearn\\utils\\validation.py:724: DataConversionWarning: A column-vector y was passed when a 1d array was expected. Please change the shape of y to (n_samples, ), for example using ravel().\n",
      "  y = column_or_1d(y, warn=True)\n"
     ]
    },
    {
     "name": "stdout",
     "output_type": "stream",
     "text": [
      "SVM Accuracy score = 8.086785009861932\n"
     ]
    }
   ],
   "source": [
    "# C-Support Vector Classification\n",
    "\n",
    "svc = SVC(gamma='auto', probability=True)\n",
    "svc.fit(train_X, train_Y)\n",
    "\n",
    "# prediction\n",
    "\n",
    "y_pred_svc = svc.predict(test_X)\n",
    "y_pred_prob_svc = svc.predict_proba(test_X)\n",
    "\n",
    "# accuracy_score\n",
    "SVM_accuracy = accuracy_score(test_Y,y_pred_svc)*100\n",
    "print (\"SVM Accuracy score = {}\".format(SVM_accuracy))"
   ]
  },
  {
   "cell_type": "markdown",
   "metadata": {},
   "source": [
    "le resultat n'est pas bien, donc, on va optimiser la performance par 2 methodes:\n",
    "\n",
    "methode 1: bagging"
   ]
  },
  {
   "cell_type": "code",
   "execution_count": 78,
   "metadata": {
    "scrolled": true
   },
   "outputs": [
    {
     "name": "stderr",
     "output_type": "stream",
     "text": [
      "D:\\ASUS\\Anaconda3\\lib\\site-packages\\sklearn\\ensemble\\bagging.py:623: DataConversionWarning: A column-vector y was passed when a 1d array was expected. Please change the shape of y to (n_samples, ), for example using ravel().\n",
      "  y = column_or_1d(y, warn=True)\n",
      "D:\\ASUS\\Anaconda3\\lib\\site-packages\\sklearn\\svm\\base.py:193: FutureWarning: The default value of gamma will change from 'auto' to 'scale' in version 0.22 to account better for unscaled features. Set gamma explicitly to 'auto' or 'scale' to avoid this warning.\n",
      "  \"avoid this warning.\", FutureWarning)\n",
      "D:\\ASUS\\Anaconda3\\lib\\site-packages\\sklearn\\svm\\base.py:193: FutureWarning: The default value of gamma will change from 'auto' to 'scale' in version 0.22 to account better for unscaled features. Set gamma explicitly to 'auto' or 'scale' to avoid this warning.\n",
      "  \"avoid this warning.\", FutureWarning)\n",
      "D:\\ASUS\\Anaconda3\\lib\\site-packages\\sklearn\\svm\\base.py:193: FutureWarning: The default value of gamma will change from 'auto' to 'scale' in version 0.22 to account better for unscaled features. Set gamma explicitly to 'auto' or 'scale' to avoid this warning.\n",
      "  \"avoid this warning.\", FutureWarning)\n",
      "D:\\ASUS\\Anaconda3\\lib\\site-packages\\sklearn\\svm\\base.py:193: FutureWarning: The default value of gamma will change from 'auto' to 'scale' in version 0.22 to account better for unscaled features. Set gamma explicitly to 'auto' or 'scale' to avoid this warning.\n",
      "  \"avoid this warning.\", FutureWarning)\n",
      "D:\\ASUS\\Anaconda3\\lib\\site-packages\\sklearn\\svm\\base.py:193: FutureWarning: The default value of gamma will change from 'auto' to 'scale' in version 0.22 to account better for unscaled features. Set gamma explicitly to 'auto' or 'scale' to avoid this warning.\n",
      "  \"avoid this warning.\", FutureWarning)\n",
      "D:\\ASUS\\Anaconda3\\lib\\site-packages\\sklearn\\svm\\base.py:193: FutureWarning: The default value of gamma will change from 'auto' to 'scale' in version 0.22 to account better for unscaled features. Set gamma explicitly to 'auto' or 'scale' to avoid this warning.\n",
      "  \"avoid this warning.\", FutureWarning)\n",
      "D:\\ASUS\\Anaconda3\\lib\\site-packages\\sklearn\\svm\\base.py:193: FutureWarning: The default value of gamma will change from 'auto' to 'scale' in version 0.22 to account better for unscaled features. Set gamma explicitly to 'auto' or 'scale' to avoid this warning.\n",
      "  \"avoid this warning.\", FutureWarning)\n",
      "D:\\ASUS\\Anaconda3\\lib\\site-packages\\sklearn\\svm\\base.py:193: FutureWarning: The default value of gamma will change from 'auto' to 'scale' in version 0.22 to account better for unscaled features. Set gamma explicitly to 'auto' or 'scale' to avoid this warning.\n",
      "  \"avoid this warning.\", FutureWarning)\n",
      "D:\\ASUS\\Anaconda3\\lib\\site-packages\\sklearn\\svm\\base.py:193: FutureWarning: The default value of gamma will change from 'auto' to 'scale' in version 0.22 to account better for unscaled features. Set gamma explicitly to 'auto' or 'scale' to avoid this warning.\n",
      "  \"avoid this warning.\", FutureWarning)\n",
      "D:\\ASUS\\Anaconda3\\lib\\site-packages\\sklearn\\svm\\base.py:193: FutureWarning: The default value of gamma will change from 'auto' to 'scale' in version 0.22 to account better for unscaled features. Set gamma explicitly to 'auto' or 'scale' to avoid this warning.\n",
      "  \"avoid this warning.\", FutureWarning)\n"
     ]
    },
    {
     "name": "stdout",
     "output_type": "stream",
     "text": [
      "bagging SVM Accuracy score = 8.086785009861932\n"
     ]
    }
   ],
   "source": [
    "from sklearn.ensemble import BaggingClassifier\n",
    "bagging = BaggingClassifier(SVC(), n_estimators=10,\n",
    "                            max_samples=0.5, max_features=0.5)\n",
    "\n",
    "bagging.fit(train_X, train_Y)\n",
    "bagging_pred = bagging.predict(test_X)\n",
    "bagging_pred_prob = bagging.predict_proba(test_X)\n",
    "\n",
    "# accuracy_score\n",
    "SVM_acc_bag = accuracy_score(test_Y,bagging_pred)*100\n",
    "print (\"bagging SVM Accuracy score = {}\".format(SVM_acc_bag))"
   ]
  },
  {
   "cell_type": "markdown",
   "metadata": {},
   "source": [
    "methode 2: AdaBoost"
   ]
  },
  {
   "cell_type": "code",
   "execution_count": 79,
   "metadata": {
    "scrolled": true
   },
   "outputs": [
    {
     "name": "stderr",
     "output_type": "stream",
     "text": [
      "D:\\ASUS\\Anaconda3\\lib\\site-packages\\sklearn\\utils\\validation.py:724: DataConversionWarning: A column-vector y was passed when a 1d array was expected. Please change the shape of y to (n_samples, ), for example using ravel().\n",
      "  y = column_or_1d(y, warn=True)\n",
      "D:\\ASUS\\Anaconda3\\lib\\site-packages\\sklearn\\svm\\base.py:193: FutureWarning: The default value of gamma will change from 'auto' to 'scale' in version 0.22 to account better for unscaled features. Set gamma explicitly to 'auto' or 'scale' to avoid this warning.\n",
      "  \"avoid this warning.\", FutureWarning)\n",
      "D:\\ASUS\\Anaconda3\\lib\\site-packages\\sklearn\\svm\\base.py:193: FutureWarning: The default value of gamma will change from 'auto' to 'scale' in version 0.22 to account better for unscaled features. Set gamma explicitly to 'auto' or 'scale' to avoid this warning.\n",
      "  \"avoid this warning.\", FutureWarning)\n",
      "D:\\ASUS\\Anaconda3\\lib\\site-packages\\sklearn\\svm\\base.py:193: FutureWarning: The default value of gamma will change from 'auto' to 'scale' in version 0.22 to account better for unscaled features. Set gamma explicitly to 'auto' or 'scale' to avoid this warning.\n",
      "  \"avoid this warning.\", FutureWarning)\n",
      "D:\\ASUS\\Anaconda3\\lib\\site-packages\\sklearn\\svm\\base.py:193: FutureWarning: The default value of gamma will change from 'auto' to 'scale' in version 0.22 to account better for unscaled features. Set gamma explicitly to 'auto' or 'scale' to avoid this warning.\n",
      "  \"avoid this warning.\", FutureWarning)\n",
      "D:\\ASUS\\Anaconda3\\lib\\site-packages\\sklearn\\svm\\base.py:193: FutureWarning: The default value of gamma will change from 'auto' to 'scale' in version 0.22 to account better for unscaled features. Set gamma explicitly to 'auto' or 'scale' to avoid this warning.\n",
      "  \"avoid this warning.\", FutureWarning)\n",
      "D:\\ASUS\\Anaconda3\\lib\\site-packages\\sklearn\\svm\\base.py:193: FutureWarning: The default value of gamma will change from 'auto' to 'scale' in version 0.22 to account better for unscaled features. Set gamma explicitly to 'auto' or 'scale' to avoid this warning.\n",
      "  \"avoid this warning.\", FutureWarning)\n",
      "D:\\ASUS\\Anaconda3\\lib\\site-packages\\sklearn\\svm\\base.py:193: FutureWarning: The default value of gamma will change from 'auto' to 'scale' in version 0.22 to account better for unscaled features. Set gamma explicitly to 'auto' or 'scale' to avoid this warning.\n",
      "  \"avoid this warning.\", FutureWarning)\n",
      "D:\\ASUS\\Anaconda3\\lib\\site-packages\\sklearn\\svm\\base.py:193: FutureWarning: The default value of gamma will change from 'auto' to 'scale' in version 0.22 to account better for unscaled features. Set gamma explicitly to 'auto' or 'scale' to avoid this warning.\n",
      "  \"avoid this warning.\", FutureWarning)\n",
      "D:\\ASUS\\Anaconda3\\lib\\site-packages\\sklearn\\svm\\base.py:193: FutureWarning: The default value of gamma will change from 'auto' to 'scale' in version 0.22 to account better for unscaled features. Set gamma explicitly to 'auto' or 'scale' to avoid this warning.\n",
      "  \"avoid this warning.\", FutureWarning)\n",
      "D:\\ASUS\\Anaconda3\\lib\\site-packages\\sklearn\\svm\\base.py:193: FutureWarning: The default value of gamma will change from 'auto' to 'scale' in version 0.22 to account better for unscaled features. Set gamma explicitly to 'auto' or 'scale' to avoid this warning.\n",
      "  \"avoid this warning.\", FutureWarning)\n"
     ]
    },
    {
     "name": "stdout",
     "output_type": "stream",
     "text": [
      "AdaBoost SVM Accuracy score = 8.086785009861932\n"
     ]
    }
   ],
   "source": [
    "from sklearn.ensemble import AdaBoostClassifier\n",
    "abo = AdaBoostClassifier(SVC(probability=True), n_estimators=10)\n",
    "\n",
    "abo.fit(train_X, train_Y)\n",
    "abo_pred = abo.predict(test_X)\n",
    "abo_pred_prob = abo.predict_proba(test_X)\n",
    "\n",
    "# accuracy_score\n",
    "SVM_acc_abo = accuracy_score(test_Y,abo_pred)*100\n",
    "print (\"AdaBoost SVM Accuracy score = {}\".format(SVM_acc_abo))"
   ]
  },
  {
   "cell_type": "code",
   "execution_count": 80,
   "metadata": {},
   "outputs": [
    {
     "name": "stdout",
     "output_type": "stream",
     "text": [
      "[0 1]\n",
      "[1]\n",
      "[1]\n"
     ]
    }
   ],
   "source": [
    "print(np.unique(test_Y))\n",
    "print(np.unique(bagging_pred))\n",
    "print(np.unique(abo_pred))"
   ]
  },
  {
   "cell_type": "code",
   "execution_count": 81,
   "metadata": {},
   "outputs": [
    {
     "name": "stdout",
     "output_type": "stream",
     "text": [
      "confusion matrix\n",
      "[[  0 466]\n",
      " [  0  41]] \n",
      "\n",
      "[[  0 466]\n",
      " [  0  41]] \n",
      "\n",
      "[[  0 466]\n",
      " [  0  41]] \n",
      "\n"
     ]
    }
   ],
   "source": [
    "# confusion matrix\n",
    "svm_confsmat1 = confusion_matrix(test_Y, y_pred_svc, labels=[0,1])\n",
    "svm_confsmat2 = confusion_matrix(test_Y, bagging_pred, labels=[0,1])\n",
    "svm_confsmat3 = confusion_matrix(test_Y, abo_pred, labels=[0,1])\n",
    "print(\"confusion matrix\")\n",
    "print(svm_confsmat1, '\\n')\n",
    "print(svm_confsmat2, '\\n')\n",
    "print(svm_confsmat3, '\\n')"
   ]
  },
  {
   "cell_type": "code",
   "execution_count": 82,
   "metadata": {},
   "outputs": [
    {
     "name": "stdout",
     "output_type": "stream",
     "text": [
      "classification_report(left: labels):\n",
      "              precision    recall  f1-score   support\n",
      "\n",
      "           0       0.00      0.00      0.00       466\n",
      "           1       0.08      1.00      0.15        41\n",
      "\n",
      "    accuracy                           0.08       507\n",
      "   macro avg       0.04      0.50      0.07       507\n",
      "weighted avg       0.01      0.08      0.01       507\n",
      " \n",
      "\n",
      "              precision    recall  f1-score   support\n",
      "\n",
      "           0       0.00      0.00      0.00       466\n",
      "           1       0.08      1.00      0.15        41\n",
      "\n",
      "    accuracy                           0.08       507\n",
      "   macro avg       0.04      0.50      0.07       507\n",
      "weighted avg       0.01      0.08      0.01       507\n",
      " \n",
      "\n",
      "              precision    recall  f1-score   support\n",
      "\n",
      "           0       0.00      0.00      0.00       466\n",
      "           1       0.08      1.00      0.15        41\n",
      "\n",
      "    accuracy                           0.08       507\n",
      "   macro avg       0.04      0.50      0.07       507\n",
      "weighted avg       0.01      0.08      0.01       507\n",
      " \n",
      "\n"
     ]
    },
    {
     "name": "stderr",
     "output_type": "stream",
     "text": [
      "D:\\ASUS\\Anaconda3\\lib\\site-packages\\sklearn\\metrics\\classification.py:1437: UndefinedMetricWarning: Precision and F-score are ill-defined and being set to 0.0 in labels with no predicted samples.\n",
      "  'precision', 'predicted', average, warn_for)\n",
      "D:\\ASUS\\Anaconda3\\lib\\site-packages\\sklearn\\metrics\\classification.py:1437: UndefinedMetricWarning: Precision and F-score are ill-defined and being set to 0.0 in labels with no predicted samples.\n",
      "  'precision', 'predicted', average, warn_for)\n",
      "D:\\ASUS\\Anaconda3\\lib\\site-packages\\sklearn\\metrics\\classification.py:1437: UndefinedMetricWarning: Precision and F-score are ill-defined and being set to 0.0 in labels with no predicted samples.\n",
      "  'precision', 'predicted', average, warn_for)\n",
      "D:\\ASUS\\Anaconda3\\lib\\site-packages\\sklearn\\metrics\\classification.py:1437: UndefinedMetricWarning: Precision and F-score are ill-defined and being set to 0.0 in labels with no predicted samples.\n",
      "  'precision', 'predicted', average, warn_for)\n",
      "D:\\ASUS\\Anaconda3\\lib\\site-packages\\sklearn\\metrics\\classification.py:1437: UndefinedMetricWarning: Precision and F-score are ill-defined and being set to 0.0 in labels with no predicted samples.\n",
      "  'precision', 'predicted', average, warn_for)\n",
      "D:\\ASUS\\Anaconda3\\lib\\site-packages\\sklearn\\metrics\\classification.py:1437: UndefinedMetricWarning: Precision and F-score are ill-defined and being set to 0.0 in labels with no predicted samples.\n",
      "  'precision', 'predicted', average, warn_for)\n",
      "D:\\ASUS\\Anaconda3\\lib\\site-packages\\sklearn\\metrics\\classification.py:1437: UndefinedMetricWarning: Precision and F-score are ill-defined and being set to 0.0 in labels with no predicted samples.\n",
      "  'precision', 'predicted', average, warn_for)\n",
      "D:\\ASUS\\Anaconda3\\lib\\site-packages\\sklearn\\metrics\\classification.py:1437: UndefinedMetricWarning: Precision and F-score are ill-defined and being set to 0.0 in labels with no predicted samples.\n",
      "  'precision', 'predicted', average, warn_for)\n",
      "D:\\ASUS\\Anaconda3\\lib\\site-packages\\sklearn\\metrics\\classification.py:1437: UndefinedMetricWarning: Precision and F-score are ill-defined and being set to 0.0 in labels with no predicted samples.\n",
      "  'precision', 'predicted', average, warn_for)\n"
     ]
    }
   ],
   "source": [
    "# classification report\n",
    "svm_clsreport1 = classification_report(test_Y, y_pred_svc)\n",
    "svm_clsreport2 = classification_report(test_Y, bagging_pred)\n",
    "svm_clsreport3 = classification_report(test_Y, abo_pred)\n",
    "print(\"classification_report(left: labels):\")\n",
    "print(svm_clsreport1, '\\n')\n",
    "print(svm_clsreport2, '\\n')\n",
    "print(svm_clsreport3, '\\n')"
   ]
  },
  {
   "cell_type": "code",
   "execution_count": 83,
   "metadata": {},
   "outputs": [
    {
     "data": {
      "text/html": [
       "<div>\n",
       "<style scoped>\n",
       "    .dataframe tbody tr th:only-of-type {\n",
       "        vertical-align: middle;\n",
       "    }\n",
       "\n",
       "    .dataframe tbody tr th {\n",
       "        vertical-align: top;\n",
       "    }\n",
       "\n",
       "    .dataframe thead th {\n",
       "        text-align: right;\n",
       "    }\n",
       "</style>\n",
       "<table border=\"1\" class=\"dataframe\">\n",
       "  <thead>\n",
       "    <tr style=\"text-align: right;\">\n",
       "      <th></th>\n",
       "      <th>id_subscriptionMain</th>\n",
       "      <th>churn_reel</th>\n",
       "      <th>churn_pred</th>\n",
       "      <th>churn_pred_prob</th>\n",
       "    </tr>\n",
       "  </thead>\n",
       "  <tbody>\n",
       "    <tr>\n",
       "      <th>15455</th>\n",
       "      <td>29407</td>\n",
       "      <td>0</td>\n",
       "      <td>1</td>\n",
       "      <td>0.555819</td>\n",
       "    </tr>\n",
       "    <tr>\n",
       "      <th>22371</th>\n",
       "      <td>18852</td>\n",
       "      <td>0</td>\n",
       "      <td>1</td>\n",
       "      <td>0.506827</td>\n",
       "    </tr>\n",
       "    <tr>\n",
       "      <th>868</th>\n",
       "      <td>21480</td>\n",
       "      <td>0</td>\n",
       "      <td>1</td>\n",
       "      <td>0.510416</td>\n",
       "    </tr>\n",
       "    <tr>\n",
       "      <th>14972</th>\n",
       "      <td>19061</td>\n",
       "      <td>1</td>\n",
       "      <td>1</td>\n",
       "      <td>0.525335</td>\n",
       "    </tr>\n",
       "    <tr>\n",
       "      <th>2092</th>\n",
       "      <td>21645</td>\n",
       "      <td>0</td>\n",
       "      <td>1</td>\n",
       "      <td>0.500000</td>\n",
       "    </tr>\n",
       "  </tbody>\n",
       "</table>\n",
       "</div>"
      ],
      "text/plain": [
       "       id_subscriptionMain  churn_reel  churn_pred  churn_pred_prob\n",
       "15455                29407           0           1         0.555819\n",
       "22371                18852           0           1         0.506827\n",
       "868                  21480           0           1         0.510416\n",
       "14972                19061           1           1         0.525335\n",
       "2092                 21645           0           1         0.500000"
      ]
     },
     "execution_count": 83,
     "metadata": {},
     "output_type": "execute_result"
    }
   ],
   "source": [
    "# visualisation le resultat de prediction\n",
    "y_pred_prob_svc_0 = y_pred_prob_svc[:,0]\n",
    "y_pred_prob_svc_1 = y_pred_prob_svc[:,1]\n",
    "\n",
    "result_svc = pd.DataFrame({'id_subscriptionMain':test_id_sub.values,  'churn_reel':test_Y, 'churn_pred':y_pred_svc.astype(np.int32), \\\n",
    "                         'churn_pred_prob':y_pred_prob_svc_1 })\n",
    "result_svc.head()"
   ]
  },
  {
   "cell_type": "code",
   "execution_count": 84,
   "metadata": {},
   "outputs": [
    {
     "data": {
      "text/html": [
       "<div>\n",
       "<style scoped>\n",
       "    .dataframe tbody tr th:only-of-type {\n",
       "        vertical-align: middle;\n",
       "    }\n",
       "\n",
       "    .dataframe tbody tr th {\n",
       "        vertical-align: top;\n",
       "    }\n",
       "\n",
       "    .dataframe thead th {\n",
       "        text-align: right;\n",
       "    }\n",
       "</style>\n",
       "<table border=\"1\" class=\"dataframe\">\n",
       "  <thead>\n",
       "    <tr style=\"text-align: right;\">\n",
       "      <th></th>\n",
       "      <th>id_subscriptionMain</th>\n",
       "      <th>churn_reel</th>\n",
       "      <th>churn_pred</th>\n",
       "      <th>churn_pred_prob</th>\n",
       "    </tr>\n",
       "  </thead>\n",
       "  <tbody>\n",
       "    <tr>\n",
       "      <th>15455</th>\n",
       "      <td>29407</td>\n",
       "      <td>0</td>\n",
       "      <td>1</td>\n",
       "      <td>1.0</td>\n",
       "    </tr>\n",
       "    <tr>\n",
       "      <th>22371</th>\n",
       "      <td>18852</td>\n",
       "      <td>0</td>\n",
       "      <td>1</td>\n",
       "      <td>1.0</td>\n",
       "    </tr>\n",
       "    <tr>\n",
       "      <th>868</th>\n",
       "      <td>21480</td>\n",
       "      <td>0</td>\n",
       "      <td>1</td>\n",
       "      <td>1.0</td>\n",
       "    </tr>\n",
       "    <tr>\n",
       "      <th>14972</th>\n",
       "      <td>19061</td>\n",
       "      <td>1</td>\n",
       "      <td>1</td>\n",
       "      <td>1.0</td>\n",
       "    </tr>\n",
       "    <tr>\n",
       "      <th>2092</th>\n",
       "      <td>21645</td>\n",
       "      <td>0</td>\n",
       "      <td>1</td>\n",
       "      <td>1.0</td>\n",
       "    </tr>\n",
       "  </tbody>\n",
       "</table>\n",
       "</div>"
      ],
      "text/plain": [
       "       id_subscriptionMain  churn_reel  churn_pred  churn_pred_prob\n",
       "15455                29407           0           1              1.0\n",
       "22371                18852           0           1              1.0\n",
       "868                  21480           0           1              1.0\n",
       "14972                19061           1           1              1.0\n",
       "2092                 21645           0           1              1.0"
      ]
     },
     "execution_count": 84,
     "metadata": {},
     "output_type": "execute_result"
    }
   ],
   "source": [
    "bagging_pred_prob_svc_0 = bagging_pred_prob[:,0]\n",
    "bagging_pred_prob_svc_1 = bagging_pred_prob[:,1]\n",
    "\n",
    "result_bag_svc = pd.DataFrame({'id_subscriptionMain':test_id_sub.values,  'churn_reel':test_Y, 'churn_pred':bagging_pred.astype(np.int32), \\\n",
    "                              'churn_pred_prob':bagging_pred_prob_svc_1 })\n",
    "result_bag_svc.head()"
   ]
  },
  {
   "cell_type": "code",
   "execution_count": 85,
   "metadata": {},
   "outputs": [
    {
     "data": {
      "text/html": [
       "<div>\n",
       "<style scoped>\n",
       "    .dataframe tbody tr th:only-of-type {\n",
       "        vertical-align: middle;\n",
       "    }\n",
       "\n",
       "    .dataframe tbody tr th {\n",
       "        vertical-align: top;\n",
       "    }\n",
       "\n",
       "    .dataframe thead th {\n",
       "        text-align: right;\n",
       "    }\n",
       "</style>\n",
       "<table border=\"1\" class=\"dataframe\">\n",
       "  <thead>\n",
       "    <tr style=\"text-align: right;\">\n",
       "      <th></th>\n",
       "      <th>id_subscriptionMain</th>\n",
       "      <th>churn_reel</th>\n",
       "      <th>churn_pred</th>\n",
       "      <th>churn_pred_prob</th>\n",
       "    </tr>\n",
       "  </thead>\n",
       "  <tbody>\n",
       "    <tr>\n",
       "      <th>15455</th>\n",
       "      <td>29407</td>\n",
       "      <td>0</td>\n",
       "      <td>1</td>\n",
       "      <td>0.531617</td>\n",
       "    </tr>\n",
       "    <tr>\n",
       "      <th>22371</th>\n",
       "      <td>18852</td>\n",
       "      <td>0</td>\n",
       "      <td>1</td>\n",
       "      <td>0.531617</td>\n",
       "    </tr>\n",
       "    <tr>\n",
       "      <th>868</th>\n",
       "      <td>21480</td>\n",
       "      <td>0</td>\n",
       "      <td>1</td>\n",
       "      <td>0.531617</td>\n",
       "    </tr>\n",
       "    <tr>\n",
       "      <th>14972</th>\n",
       "      <td>19061</td>\n",
       "      <td>1</td>\n",
       "      <td>1</td>\n",
       "      <td>0.531617</td>\n",
       "    </tr>\n",
       "    <tr>\n",
       "      <th>2092</th>\n",
       "      <td>21645</td>\n",
       "      <td>0</td>\n",
       "      <td>1</td>\n",
       "      <td>0.531617</td>\n",
       "    </tr>\n",
       "  </tbody>\n",
       "</table>\n",
       "</div>"
      ],
      "text/plain": [
       "       id_subscriptionMain  churn_reel  churn_pred  churn_pred_prob\n",
       "15455                29407           0           1         0.531617\n",
       "22371                18852           0           1         0.531617\n",
       "868                  21480           0           1         0.531617\n",
       "14972                19061           1           1         0.531617\n",
       "2092                 21645           0           1         0.531617"
      ]
     },
     "execution_count": 85,
     "metadata": {},
     "output_type": "execute_result"
    }
   ],
   "source": [
    "abo_pred_prob_svc_0 = abo_pred_prob[:,0]\n",
    "abo_pred_prob_svc_1 = abo_pred_prob[:,1]\n",
    "\n",
    "result_abo_svc = pd.DataFrame({'id_subscriptionMain':test_id_sub.values,  'churn_reel':test_Y, 'churn_pred':abo_pred.astype(np.int32), \\\n",
    "                               'churn_pred_prob':abo_pred_prob_svc_1})\n",
    "result_abo_svc.head()"
   ]
  },
  {
   "cell_type": "code",
   "execution_count": 86,
   "metadata": {},
   "outputs": [],
   "source": [
    "out_svc = pd.concat((result_svc, test_X), axis=1)\n",
    "out_svc.to_csv('./output_donnes_chaudes_sans_nan/smoteenn_output_svm.csv', index=False)\n",
    "out_bag_svc = pd.concat((result_bag_svc, test_X), axis=1)\n",
    "out_bag_svc.to_csv('./output_donnes_chaudes_sans_nan/smoteenn_output_svm_bagging.csv', index=False)\n",
    "out_abo_svc = pd.concat((result_abo_svc, test_X), axis=1)\n",
    "out_abo_svc.to_csv('./output_donnes_chaudes_sans_nan/smoteenn_output_svm_adaboost.csv', index=False)"
   ]
  },
  {
   "cell_type": "markdown",
   "metadata": {},
   "source": [
    "## comparaison"
   ]
  },
  {
   "cell_type": "code",
   "execution_count": 87,
   "metadata": {},
   "outputs": [
    {
     "name": "stdout",
     "output_type": "stream",
     "text": [
      "('Neural Network', 91.91321499013807)\n",
      "('Random Forest', 89.54635108481263)\n",
      "('Decison Tree', 88.75739644970415)\n",
      "('Logistic Regression', 8.086785009861932)\n",
      "('SVM', 8.086785009861932)\n",
      "('SVM_bagging', 8.086785009861932)\n",
      "('SVM_adaboost', 8.086785009861932)\n"
     ]
    }
   ],
   "source": [
    "# comparation sur score_accuracy\n",
    "\n",
    "acc_models = {'Logistic Regression':LR_accuracy, 'Decison Tree':DT_accuracy, \n",
    "            'Random Forest':RF_accuracy, 'Neural Network':DNN_accuracy, 'SVM':SVM_accuracy, \n",
    "              'SVM_bagging':SVM_acc_bag, 'SVM_adaboost':SVM_acc_abo}\n",
    "\n",
    "acc_dict=sorted(acc_models.items(), key=lambda x:x[1], reverse=True)\n",
    "for i in acc_dict:\n",
    "    print(i)"
   ]
  },
  {
   "cell_type": "code",
   "execution_count": 88,
   "metadata": {},
   "outputs": [
    {
     "name": "stdout",
     "output_type": "stream",
     "text": [
      "Logistic Regression:\n",
      "\n",
      " [[  0 466]\n",
      " [  0  41]] \n",
      "\n",
      "Decison Tree:\n",
      "\n",
      " [[424  42]\n",
      " [ 15  26]] \n",
      "\n",
      "Random Forest:\n",
      "\n",
      " [[437  29]\n",
      " [ 24  17]] \n",
      "\n",
      "Neural Network:\n",
      "\n",
      " [[466   0]\n",
      " [ 41   0]] \n",
      "\n",
      "SVM:\n",
      "\n",
      " [[  0 466]\n",
      " [  0  41]] \n",
      "\n",
      "SVM_bagging:\n",
      "\n",
      " [[  0 466]\n",
      " [  0  41]] \n",
      "\n",
      "SVM_adaboost:\n",
      "\n",
      " [[  0 466]\n",
      " [  0  41]]\n"
     ]
    }
   ],
   "source": [
    "# comparaison with confusion matrix\n",
    "\n",
    "print('Logistic Regression:\\n\\n',lr_confsmat,'\\n\\nDecison Tree:\\n\\n', dt_confsmat,'\\n\\nRandom Forest:\\n\\n',\n",
    "      rf_confsmat,'\\n\\nNeural Network:\\n\\n', dnn_confsmat, '\\n\\nSVM:\\n\\n',svm_confsmat1, \n",
    "      '\\n\\nSVM_bagging:\\n\\n',svm_confsmat2, '\\n\\nSVM_adaboost:\\n\\n',svm_confsmat3)"
   ]
  },
  {
   "cell_type": "code",
   "execution_count": 89,
   "metadata": {},
   "outputs": [
    {
     "name": "stdout",
     "output_type": "stream",
     "text": [
      "Logistic Regression:\n",
      "\n",
      "               precision    recall  f1-score   support\n",
      "\n",
      "           0       0.00      0.00      0.00       466\n",
      "           1       0.08      1.00      0.15        41\n",
      "\n",
      "    accuracy                           0.08       507\n",
      "   macro avg       0.04      0.50      0.07       507\n",
      "weighted avg       0.01      0.08      0.01       507\n",
      " \n",
      "\n",
      "Decison Tree:\n",
      "\n",
      "               precision    recall  f1-score   support\n",
      "\n",
      "           0       0.97      0.91      0.94       466\n",
      "           1       0.38      0.63      0.48        41\n",
      "\n",
      "    accuracy                           0.89       507\n",
      "   macro avg       0.67      0.77      0.71       507\n",
      "weighted avg       0.92      0.89      0.90       507\n",
      " \n",
      "\n",
      "Random Forest:\n",
      "\n",
      "               precision    recall  f1-score   support\n",
      "\n",
      "           0       0.95      0.94      0.94       466\n",
      "           1       0.37      0.41      0.39        41\n",
      "\n",
      "    accuracy                           0.90       507\n",
      "   macro avg       0.66      0.68      0.67       507\n",
      "weighted avg       0.90      0.90      0.90       507\n",
      " \n",
      "\n",
      "Neural Network:\n",
      "\n",
      "               precision    recall  f1-score   support\n",
      "\n",
      "           0       0.92      1.00      0.96       466\n",
      "           1       0.00      0.00      0.00        41\n",
      "\n",
      "    accuracy                           0.92       507\n",
      "   macro avg       0.46      0.50      0.48       507\n",
      "weighted avg       0.84      0.92      0.88       507\n",
      " \n",
      "\n",
      "SVM:\n",
      "\n",
      "               precision    recall  f1-score   support\n",
      "\n",
      "           0       0.00      0.00      0.00       466\n",
      "           1       0.08      1.00      0.15        41\n",
      "\n",
      "    accuracy                           0.08       507\n",
      "   macro avg       0.04      0.50      0.07       507\n",
      "weighted avg       0.01      0.08      0.01       507\n",
      " \n",
      "\n",
      "SVM_bagging:\n",
      "\n",
      "               precision    recall  f1-score   support\n",
      "\n",
      "           0       0.00      0.00      0.00       466\n",
      "           1       0.08      1.00      0.15        41\n",
      "\n",
      "    accuracy                           0.08       507\n",
      "   macro avg       0.04      0.50      0.07       507\n",
      "weighted avg       0.01      0.08      0.01       507\n",
      " \n",
      "\n",
      "SVM_adaboost:\n",
      "\n",
      "               precision    recall  f1-score   support\n",
      "\n",
      "           0       0.00      0.00      0.00       466\n",
      "           1       0.08      1.00      0.15        41\n",
      "\n",
      "    accuracy                           0.08       507\n",
      "   macro avg       0.04      0.50      0.07       507\n",
      "weighted avg       0.01      0.08      0.01       507\n",
      "\n"
     ]
    }
   ],
   "source": [
    "# comparaison with classification_report\n",
    "\n",
    "print('Logistic Regression:\\n\\n',lr_clsreport,'\\n\\nDecison Tree:\\n\\n', dt_clsreport,'\\n\\nRandom Forest:\\n\\n',\n",
    "      rf_clsreport,'\\n\\nNeural Network:\\n\\n', dnn_clsreport, '\\n\\nSVM:\\n\\n',svm_clsreport1,\n",
    "      '\\n\\nSVM_bagging:\\n\\n',svm_clsreport2, '\\n\\nSVM_adaboost:\\n\\n',svm_clsreport3)"
   ]
  },
  {
   "cell_type": "code",
   "execution_count": null,
   "metadata": {},
   "outputs": [],
   "source": []
  }
 ],
 "metadata": {
  "kernelspec": {
   "display_name": "Python 3",
   "language": "python",
   "name": "python3"
  },
  "language_info": {
   "codemirror_mode": {
    "name": "ipython",
    "version": 3
   },
   "file_extension": ".py",
   "mimetype": "text/x-python",
   "name": "python",
   "nbconvert_exporter": "python",
   "pygments_lexer": "ipython3",
   "version": "3.6.8"
  }
 },
 "nbformat": 4,
 "nbformat_minor": 2
}
