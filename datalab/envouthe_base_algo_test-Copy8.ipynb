{
 "cells": [
  {
   "cell_type": "markdown",
   "metadata": {},
   "source": [
    "DONE:\n",
    "- filtrer l'age entre 20 et 59 ans\n",
    "- entrainer sur une quantite de donnees\n",
    "- utiliser tous les champs comme les features / selectionner les features les plus importants\n",
    "- resoudre le probleme de desequilibre (Over Sampling)"
   ]
  },
  {
   "cell_type": "markdown",
   "metadata": {},
   "source": [
    "# Envouthe Churn Prediction\n",
    "\n",
    "Envouthé souhaite réduire le % de churn et investir les efforts marketing sur les clients à risques (70% de risque de non renouvellement de l’abonnement) afin qu’ils renouvellent leur abonnement.\n",
    "\n",
    "**Context**\n",
    "- Les clients Envouthé peuvent souscrire à des abonnements mensuels, trimestriels, semestriels et annuels.\n",
    "- A l’issue de la date de fin d’abonnement, le client doivent renouveler son abonnement.\n",
    "- Dans le même lapse de temps, l'équipe marketing Envouthé envoie régulièrement un certain nombre d'emails promotionnels et d’emails d’informations.\n",
    "\n",
    "**Objectif**\n",
    "- Prédire le risque de churn pour les clients en fin d’abonnement\n",
    "\n",
    "**Description du use case retenu:**\n",
    "- En fonction du comportement des clients, l’algorithme va déduire un score de 0 à 1 (0 pas d'appétence au renouvellement ; 1 appétence au renouvellement forte)  \n",
    "- si appétence > 0,7; pas d’action particulière\n",
    "- si appétence entre 0,3 et 0,7 , c'est une visiteur tiède, le marketing pourra envoyer des offres marketing afin d’augmenter le % de renouvellement\n",
    "- sinon: envoi d’une enquête satisfaction client\n",
    "\n",
    "**Columns**\n",
    "- id_subscriptionMain: id d'abonnement\n",
    "- id_order: id de commande\n",
    "- client_name: nom de client\n",
    "- email: email de client\n",
    "- box_name: nom de box\n",
    "- subscriptions_type: type d'abonnement. Le numéro signifie que la durée de l’abonnement/la durée des échéances d’abonnement prévues dans le système. \n",
    "- month: la date du mois qui s'est écoulé depuis la date de début \t\n",
    "- submain_state: le statut d'abonnement.\n",
    "- product_attribute: l'attribut de produit\t\n",
    "- id: id de client\n",
    "- last_name: nom de famille de client\n",
    "- newsletter: si l'utilisateur inscrit le newsletter ou pas\n",
    "- age: age de client\n",
    "- beginning_date: date de debut d'abonnement\n",
    "- ending_date: date de fin d'abonnement\n",
    "- first_name: prenom de client\n",
    "- abonnement_succ: si l'abonnement est active le mois suivant ou pas\n",
    "- total_sub: nombre total d'abonnements\n",
    "- abonnement_consec: la durée de l'abonnement effectif par rapport a la date de début\n",
    "- churn: si l'abonnement va renouveller ou pas"
   ]
  },
  {
   "cell_type": "code",
   "execution_count": 1,
   "metadata": {},
   "outputs": [
    {
     "name": "stdout",
     "output_type": "stream",
     "text": [
      "1.12.0\n"
     ]
    }
   ],
   "source": [
    "import pandas as pd\n",
    "import matplotlib.pyplot as plt\n",
    "import pylab as pl\n",
    "import copy\n",
    "import seaborn as sns\n",
    "import numpy as np\n",
    "\n",
    "import tensorflow as tf\n",
    "from sklearn.model_selection import train_test_split\n",
    "from sklearn.preprocessing import normalize\n",
    "\n",
    "from sklearn.linear_model import LogisticRegression\n",
    "from sklearn.ensemble import RandomForestClassifier\n",
    "from sklearn.tree import DecisionTreeClassifier\n",
    "from sklearn.svm import SVC\n",
    "\n",
    "from sklearn.metrics import accuracy_score\n",
    "from sklearn.metrics import recall_score\n",
    "from sklearn.model_selection import cross_val_score\n",
    "from sklearn.metrics import confusion_matrix\n",
    "from sklearn.metrics import classification_report\n",
    "from sklearn.model_selection import GridSearchCV\n",
    "\n",
    "\n",
    "print(tf.__version__)"
   ]
  },
  {
   "cell_type": "code",
   "execution_count": 2,
   "metadata": {},
   "outputs": [
    {
     "data": {
      "text/html": [
       "<div>\n",
       "<style scoped>\n",
       "    .dataframe tbody tr th:only-of-type {\n",
       "        vertical-align: middle;\n",
       "    }\n",
       "\n",
       "    .dataframe tbody tr th {\n",
       "        vertical-align: top;\n",
       "    }\n",
       "\n",
       "    .dataframe thead th {\n",
       "        text-align: right;\n",
       "    }\n",
       "</style>\n",
       "<table border=\"1\" class=\"dataframe\">\n",
       "  <thead>\n",
       "    <tr style=\"text-align: right;\">\n",
       "      <th></th>\n",
       "      <th>id_subscriptionMain</th>\n",
       "      <th>id_order</th>\n",
       "      <th>client_name</th>\n",
       "      <th>email</th>\n",
       "      <th>box_name</th>\n",
       "      <th>subscriptions_type</th>\n",
       "      <th>month</th>\n",
       "      <th>submain_state</th>\n",
       "      <th>product_attribute</th>\n",
       "      <th>id</th>\n",
       "      <th>last_name</th>\n",
       "      <th>newsletter</th>\n",
       "      <th>age</th>\n",
       "      <th>beginning_date</th>\n",
       "      <th>ending_date</th>\n",
       "      <th>first_name</th>\n",
       "      <th>abonnement_succ</th>\n",
       "      <th>total_sub</th>\n",
       "      <th>abonnement_consec</th>\n",
       "      <th>churn</th>\n",
       "    </tr>\n",
       "  </thead>\n",
       "  <tbody>\n",
       "    <tr>\n",
       "      <th>0</th>\n",
       "      <td>3504</td>\n",
       "      <td>25244</td>\n",
       "      <td>ji eun kim</td>\n",
       "      <td>01022972103@naver.com</td>\n",
       "      <td>Abonnement mensuel</td>\n",
       "      <td>12</td>\n",
       "      <td>01/03/2016</td>\n",
       "      <td>CANCELED</td>\n",
       "      <td>Durée de l'abonnement :illimité, Fréquence d'e...</td>\n",
       "      <td>22650</td>\n",
       "      <td>ji eun</td>\n",
       "      <td>False</td>\n",
       "      <td>NaN</td>\n",
       "      <td>04/03/2016</td>\n",
       "      <td>31/05/2016</td>\n",
       "      <td>kim</td>\n",
       "      <td>True</td>\n",
       "      <td>1</td>\n",
       "      <td>1</td>\n",
       "      <td>No</td>\n",
       "    </tr>\n",
       "    <tr>\n",
       "      <th>1</th>\n",
       "      <td>3504</td>\n",
       "      <td>25244</td>\n",
       "      <td>ji eun kim</td>\n",
       "      <td>01022972103@naver.com</td>\n",
       "      <td>Abonnement mensuel</td>\n",
       "      <td>12</td>\n",
       "      <td>01/04/2016</td>\n",
       "      <td>CANCELED</td>\n",
       "      <td>Durée de l'abonnement :illimité, Fréquence d'e...</td>\n",
       "      <td>22650</td>\n",
       "      <td>ji eun</td>\n",
       "      <td>False</td>\n",
       "      <td>NaN</td>\n",
       "      <td>04/03/2016</td>\n",
       "      <td>31/05/2016</td>\n",
       "      <td>kim</td>\n",
       "      <td>True</td>\n",
       "      <td>2</td>\n",
       "      <td>2</td>\n",
       "      <td>No</td>\n",
       "    </tr>\n",
       "    <tr>\n",
       "      <th>2</th>\n",
       "      <td>3504</td>\n",
       "      <td>25244</td>\n",
       "      <td>ji eun kim</td>\n",
       "      <td>01022972103@naver.com</td>\n",
       "      <td>Abonnement mensuel</td>\n",
       "      <td>12</td>\n",
       "      <td>01/05/2016</td>\n",
       "      <td>CANCELED</td>\n",
       "      <td>Durée de l'abonnement :illimité, Fréquence d'e...</td>\n",
       "      <td>22650</td>\n",
       "      <td>ji eun</td>\n",
       "      <td>False</td>\n",
       "      <td>NaN</td>\n",
       "      <td>04/03/2016</td>\n",
       "      <td>31/05/2016</td>\n",
       "      <td>kim</td>\n",
       "      <td>False</td>\n",
       "      <td>3</td>\n",
       "      <td>3</td>\n",
       "      <td>Yes</td>\n",
       "    </tr>\n",
       "    <tr>\n",
       "      <th>3</th>\n",
       "      <td>19583</td>\n",
       "      <td>38629</td>\n",
       "      <td>Jain Elodie</td>\n",
       "      <td>04f1994@gmail.com</td>\n",
       "      <td>Abonnement mensuel</td>\n",
       "      <td>17</td>\n",
       "      <td>01/03/2017</td>\n",
       "      <td>CANCELED</td>\n",
       "      <td>Durée de l'abonnement :illimité, Fréquence d'e...</td>\n",
       "      <td>24551</td>\n",
       "      <td>Jain</td>\n",
       "      <td>False</td>\n",
       "      <td>25.0</td>\n",
       "      <td>01/03/2017</td>\n",
       "      <td>31/07/2018</td>\n",
       "      <td>Elodie</td>\n",
       "      <td>True</td>\n",
       "      <td>1</td>\n",
       "      <td>1</td>\n",
       "      <td>No</td>\n",
       "    </tr>\n",
       "    <tr>\n",
       "      <th>4</th>\n",
       "      <td>19583</td>\n",
       "      <td>38629</td>\n",
       "      <td>Jain Elodie</td>\n",
       "      <td>04f1994@gmail.com</td>\n",
       "      <td>Abonnement mensuel</td>\n",
       "      <td>17</td>\n",
       "      <td>01/04/2017</td>\n",
       "      <td>CANCELED</td>\n",
       "      <td>Durée de l'abonnement :illimité, Fréquence d'e...</td>\n",
       "      <td>24551</td>\n",
       "      <td>Jain</td>\n",
       "      <td>False</td>\n",
       "      <td>25.0</td>\n",
       "      <td>01/03/2017</td>\n",
       "      <td>31/07/2018</td>\n",
       "      <td>Elodie</td>\n",
       "      <td>True</td>\n",
       "      <td>2</td>\n",
       "      <td>2</td>\n",
       "      <td>No</td>\n",
       "    </tr>\n",
       "  </tbody>\n",
       "</table>\n",
       "</div>"
      ],
      "text/plain": [
       "   id_subscriptionMain  id_order  client_name                  email  \\\n",
       "0                 3504     25244   ji eun kim  01022972103@naver.com   \n",
       "1                 3504     25244   ji eun kim  01022972103@naver.com   \n",
       "2                 3504     25244   ji eun kim  01022972103@naver.com   \n",
       "3                19583     38629  Jain Elodie      04f1994@gmail.com   \n",
       "4                19583     38629  Jain Elodie      04f1994@gmail.com   \n",
       "\n",
       "             box_name  subscriptions_type       month submain_state  \\\n",
       "0  Abonnement mensuel                  12  01/03/2016      CANCELED   \n",
       "1  Abonnement mensuel                  12  01/04/2016      CANCELED   \n",
       "2  Abonnement mensuel                  12  01/05/2016      CANCELED   \n",
       "3  Abonnement mensuel                  17  01/03/2017      CANCELED   \n",
       "4  Abonnement mensuel                  17  01/04/2017      CANCELED   \n",
       "\n",
       "                                   product_attribute     id last_name  \\\n",
       "0  Durée de l'abonnement :illimité, Fréquence d'e...  22650    ji eun   \n",
       "1  Durée de l'abonnement :illimité, Fréquence d'e...  22650    ji eun   \n",
       "2  Durée de l'abonnement :illimité, Fréquence d'e...  22650    ji eun   \n",
       "3  Durée de l'abonnement :illimité, Fréquence d'e...  24551      Jain   \n",
       "4  Durée de l'abonnement :illimité, Fréquence d'e...  24551      Jain   \n",
       "\n",
       "   newsletter   age beginning_date ending_date first_name abonnement_succ  \\\n",
       "0       False   NaN     04/03/2016  31/05/2016        kim            True   \n",
       "1       False   NaN     04/03/2016  31/05/2016        kim            True   \n",
       "2       False   NaN     04/03/2016  31/05/2016        kim           False   \n",
       "3       False  25.0     01/03/2017  31/07/2018     Elodie            True   \n",
       "4       False  25.0     01/03/2017  31/07/2018     Elodie            True   \n",
       "\n",
       "   total_sub  abonnement_consec churn  \n",
       "0          1                  1    No  \n",
       "1          2                  2    No  \n",
       "2          3                  3   Yes  \n",
       "3          1                  1    No  \n",
       "4          2                  2    No  "
      ]
     },
     "execution_count": 2,
     "metadata": {},
     "output_type": "execute_result"
    }
   ],
   "source": [
    "dataset = pd.read_csv('../donnees/cleaned.csv')\n",
    "dataset.head()"
   ]
  },
  {
   "cell_type": "code",
   "execution_count": 3,
   "metadata": {},
   "outputs": [
    {
     "name": "stdout",
     "output_type": "stream",
     "text": [
      "<class 'pandas.core.frame.DataFrame'>\n",
      "RangeIndex: 107404 entries, 0 to 107403\n",
      "Data columns (total 20 columns):\n",
      "id_subscriptionMain    107404 non-null int64\n",
      "id_order               107404 non-null int64\n",
      "client_name            107404 non-null object\n",
      "email                  107404 non-null object\n",
      "box_name               107404 non-null object\n",
      "subscriptions_type     107404 non-null int64\n",
      "month                  107404 non-null object\n",
      "submain_state          107404 non-null object\n",
      "product_attribute      107404 non-null object\n",
      "id                     107404 non-null int64\n",
      "last_name              107404 non-null object\n",
      "newsletter             107404 non-null bool\n",
      "age                    45427 non-null float64\n",
      "beginning_date         107404 non-null object\n",
      "ending_date            107404 non-null object\n",
      "first_name             107404 non-null object\n",
      "abonnement_succ        105906 non-null object\n",
      "total_sub              107404 non-null int64\n",
      "abonnement_consec      107404 non-null int64\n",
      "churn                  105906 non-null object\n",
      "dtypes: bool(1), float64(1), int64(6), object(12)\n",
      "memory usage: 15.7+ MB\n"
     ]
    }
   ],
   "source": [
    "dataset.info()"
   ]
  },
  {
   "cell_type": "code",
   "execution_count": 4,
   "metadata": {},
   "outputs": [
    {
     "data": {
      "text/plain": [
       "id_subscriptionMain        0\n",
       "id_order                   0\n",
       "client_name                0\n",
       "email                      0\n",
       "box_name                   0\n",
       "subscriptions_type         0\n",
       "month                      0\n",
       "submain_state              0\n",
       "product_attribute          0\n",
       "id                         0\n",
       "last_name                  0\n",
       "newsletter                 0\n",
       "age                    61977\n",
       "beginning_date             0\n",
       "ending_date                0\n",
       "first_name                 0\n",
       "abonnement_succ         1498\n",
       "total_sub                  0\n",
       "abonnement_consec          0\n",
       "churn                   1498\n",
       "dtype: int64"
      ]
     },
     "execution_count": 4,
     "metadata": {},
     "output_type": "execute_result"
    }
   ],
   "source": [
    "dataset.isnull().sum()"
   ]
  },
  {
   "cell_type": "code",
   "execution_count": 5,
   "metadata": {},
   "outputs": [
    {
     "data": {
      "text/plain": [
       "id_subscriptionMain    12004\n",
       "id_order               12004\n",
       "client_name             8532\n",
       "email                   8588\n",
       "box_name                   2\n",
       "subscriptions_type        67\n",
       "month                     92\n",
       "submain_state              4\n",
       "product_attribute          2\n",
       "id                      8588\n",
       "last_name               5370\n",
       "newsletter                 2\n",
       "age                       68\n",
       "beginning_date          2097\n",
       "ending_date               83\n",
       "first_name              5536\n",
       "abonnement_succ            2\n",
       "total_sub                132\n",
       "abonnement_consec        132\n",
       "churn                      2\n",
       "dtype: int64"
      ]
     },
     "execution_count": 5,
     "metadata": {},
     "output_type": "execute_result"
    }
   ],
   "source": [
    "dataset.nunique()"
   ]
  },
  {
   "cell_type": "code",
   "execution_count": 6,
   "metadata": {},
   "outputs": [
    {
     "data": {
      "text/html": [
       "<div>\n",
       "<style scoped>\n",
       "    .dataframe tbody tr th:only-of-type {\n",
       "        vertical-align: middle;\n",
       "    }\n",
       "\n",
       "    .dataframe tbody tr th {\n",
       "        vertical-align: top;\n",
       "    }\n",
       "\n",
       "    .dataframe thead th {\n",
       "        text-align: right;\n",
       "    }\n",
       "</style>\n",
       "<table border=\"1\" class=\"dataframe\">\n",
       "  <thead>\n",
       "    <tr style=\"text-align: right;\">\n",
       "      <th></th>\n",
       "      <th>id_subscriptionMain</th>\n",
       "      <th>id_order</th>\n",
       "      <th>subscriptions_type</th>\n",
       "      <th>id</th>\n",
       "      <th>age</th>\n",
       "      <th>total_sub</th>\n",
       "      <th>abonnement_consec</th>\n",
       "    </tr>\n",
       "  </thead>\n",
       "  <tbody>\n",
       "    <tr>\n",
       "      <th>count</th>\n",
       "      <td>107404.000000</td>\n",
       "      <td>107404.000000</td>\n",
       "      <td>107404.000000</td>\n",
       "      <td>107404.000000</td>\n",
       "      <td>45427.000000</td>\n",
       "      <td>107404.000000</td>\n",
       "      <td>107404.000000</td>\n",
       "    </tr>\n",
       "    <tr>\n",
       "      <th>mean</th>\n",
       "      <td>16262.689043</td>\n",
       "      <td>27203.059616</td>\n",
       "      <td>16.768007</td>\n",
       "      <td>19204.507895</td>\n",
       "      <td>32.881722</td>\n",
       "      <td>12.494404</td>\n",
       "      <td>11.290529</td>\n",
       "    </tr>\n",
       "    <tr>\n",
       "      <th>std</th>\n",
       "      <td>7666.235285</td>\n",
       "      <td>18430.199217</td>\n",
       "      <td>13.449215</td>\n",
       "      <td>15097.731944</td>\n",
       "      <td>15.125776</td>\n",
       "      <td>13.119078</td>\n",
       "      <td>12.402974</td>\n",
       "    </tr>\n",
       "    <tr>\n",
       "      <th>min</th>\n",
       "      <td>7.000000</td>\n",
       "      <td>2.000000</td>\n",
       "      <td>12.000000</td>\n",
       "      <td>1.000000</td>\n",
       "      <td>0.000000</td>\n",
       "      <td>1.000000</td>\n",
       "      <td>1.000000</td>\n",
       "    </tr>\n",
       "    <tr>\n",
       "      <th>25%</th>\n",
       "      <td>10864.750000</td>\n",
       "      <td>11138.000000</td>\n",
       "      <td>12.000000</td>\n",
       "      <td>6078.000000</td>\n",
       "      <td>27.000000</td>\n",
       "      <td>4.000000</td>\n",
       "      <td>3.000000</td>\n",
       "    </tr>\n",
       "    <tr>\n",
       "      <th>50%</th>\n",
       "      <td>16747.500000</td>\n",
       "      <td>22540.000000</td>\n",
       "      <td>12.000000</td>\n",
       "      <td>14325.000000</td>\n",
       "      <td>32.000000</td>\n",
       "      <td>8.000000</td>\n",
       "      <td>8.000000</td>\n",
       "    </tr>\n",
       "    <tr>\n",
       "      <th>75%</th>\n",
       "      <td>22013.000000</td>\n",
       "      <td>43844.000000</td>\n",
       "      <td>12.000000</td>\n",
       "      <td>34850.000000</td>\n",
       "      <td>41.000000</td>\n",
       "      <td>15.000000</td>\n",
       "      <td>13.000000</td>\n",
       "    </tr>\n",
       "    <tr>\n",
       "      <th>max</th>\n",
       "      <td>29677.000000</td>\n",
       "      <td>60194.000000</td>\n",
       "      <td>80.000000</td>\n",
       "      <td>47781.000000</td>\n",
       "      <td>119.000000</td>\n",
       "      <td>132.000000</td>\n",
       "      <td>132.000000</td>\n",
       "    </tr>\n",
       "  </tbody>\n",
       "</table>\n",
       "</div>"
      ],
      "text/plain": [
       "       id_subscriptionMain       id_order  subscriptions_type             id  \\\n",
       "count        107404.000000  107404.000000       107404.000000  107404.000000   \n",
       "mean          16262.689043   27203.059616           16.768007   19204.507895   \n",
       "std            7666.235285   18430.199217           13.449215   15097.731944   \n",
       "min               7.000000       2.000000           12.000000       1.000000   \n",
       "25%           10864.750000   11138.000000           12.000000    6078.000000   \n",
       "50%           16747.500000   22540.000000           12.000000   14325.000000   \n",
       "75%           22013.000000   43844.000000           12.000000   34850.000000   \n",
       "max           29677.000000   60194.000000           80.000000   47781.000000   \n",
       "\n",
       "                age      total_sub  abonnement_consec  \n",
       "count  45427.000000  107404.000000      107404.000000  \n",
       "mean      32.881722      12.494404          11.290529  \n",
       "std       15.125776      13.119078          12.402974  \n",
       "min        0.000000       1.000000           1.000000  \n",
       "25%       27.000000       4.000000           3.000000  \n",
       "50%       32.000000       8.000000           8.000000  \n",
       "75%       41.000000      15.000000          13.000000  \n",
       "max      119.000000     132.000000         132.000000  "
      ]
     },
     "execution_count": 6,
     "metadata": {},
     "output_type": "execute_result"
    }
   ],
   "source": [
    "dataset.describe()"
   ]
  },
  {
   "cell_type": "markdown",
   "metadata": {},
   "source": [
    "## data preprocessing"
   ]
  },
  {
   "cell_type": "code",
   "execution_count": 7,
   "metadata": {},
   "outputs": [
    {
     "data": {
      "text/html": [
       "<div>\n",
       "<style scoped>\n",
       "    .dataframe tbody tr th:only-of-type {\n",
       "        vertical-align: middle;\n",
       "    }\n",
       "\n",
       "    .dataframe tbody tr th {\n",
       "        vertical-align: top;\n",
       "    }\n",
       "\n",
       "    .dataframe thead th {\n",
       "        text-align: right;\n",
       "    }\n",
       "</style>\n",
       "<table border=\"1\" class=\"dataframe\">\n",
       "  <thead>\n",
       "    <tr style=\"text-align: right;\">\n",
       "      <th></th>\n",
       "      <th>id_subscriptionMain</th>\n",
       "      <th>id_order</th>\n",
       "      <th>client_name</th>\n",
       "      <th>email</th>\n",
       "      <th>box_name</th>\n",
       "      <th>subscriptions_type</th>\n",
       "      <th>month</th>\n",
       "      <th>submain_state</th>\n",
       "      <th>id</th>\n",
       "      <th>newsletter</th>\n",
       "      <th>age</th>\n",
       "      <th>beginning_date</th>\n",
       "      <th>ending_date</th>\n",
       "      <th>abonnement_succ</th>\n",
       "      <th>total_sub</th>\n",
       "      <th>abonnement_consec</th>\n",
       "      <th>churn</th>\n",
       "    </tr>\n",
       "  </thead>\n",
       "  <tbody>\n",
       "    <tr>\n",
       "      <th>0</th>\n",
       "      <td>3504</td>\n",
       "      <td>25244</td>\n",
       "      <td>ji eun kim</td>\n",
       "      <td>01022972103@naver.com</td>\n",
       "      <td>Abonnement mensuel</td>\n",
       "      <td>12</td>\n",
       "      <td>01/03/2016</td>\n",
       "      <td>CANCELED</td>\n",
       "      <td>22650</td>\n",
       "      <td>False</td>\n",
       "      <td>NaN</td>\n",
       "      <td>04/03/2016</td>\n",
       "      <td>31/05/2016</td>\n",
       "      <td>True</td>\n",
       "      <td>1</td>\n",
       "      <td>1</td>\n",
       "      <td>No</td>\n",
       "    </tr>\n",
       "    <tr>\n",
       "      <th>1</th>\n",
       "      <td>3504</td>\n",
       "      <td>25244</td>\n",
       "      <td>ji eun kim</td>\n",
       "      <td>01022972103@naver.com</td>\n",
       "      <td>Abonnement mensuel</td>\n",
       "      <td>12</td>\n",
       "      <td>01/04/2016</td>\n",
       "      <td>CANCELED</td>\n",
       "      <td>22650</td>\n",
       "      <td>False</td>\n",
       "      <td>NaN</td>\n",
       "      <td>04/03/2016</td>\n",
       "      <td>31/05/2016</td>\n",
       "      <td>True</td>\n",
       "      <td>2</td>\n",
       "      <td>2</td>\n",
       "      <td>No</td>\n",
       "    </tr>\n",
       "    <tr>\n",
       "      <th>2</th>\n",
       "      <td>3504</td>\n",
       "      <td>25244</td>\n",
       "      <td>ji eun kim</td>\n",
       "      <td>01022972103@naver.com</td>\n",
       "      <td>Abonnement mensuel</td>\n",
       "      <td>12</td>\n",
       "      <td>01/05/2016</td>\n",
       "      <td>CANCELED</td>\n",
       "      <td>22650</td>\n",
       "      <td>False</td>\n",
       "      <td>NaN</td>\n",
       "      <td>04/03/2016</td>\n",
       "      <td>31/05/2016</td>\n",
       "      <td>False</td>\n",
       "      <td>3</td>\n",
       "      <td>3</td>\n",
       "      <td>Yes</td>\n",
       "    </tr>\n",
       "    <tr>\n",
       "      <th>3</th>\n",
       "      <td>19583</td>\n",
       "      <td>38629</td>\n",
       "      <td>Jain Elodie</td>\n",
       "      <td>04f1994@gmail.com</td>\n",
       "      <td>Abonnement mensuel</td>\n",
       "      <td>17</td>\n",
       "      <td>01/03/2017</td>\n",
       "      <td>CANCELED</td>\n",
       "      <td>24551</td>\n",
       "      <td>False</td>\n",
       "      <td>25.0</td>\n",
       "      <td>01/03/2017</td>\n",
       "      <td>31/07/2018</td>\n",
       "      <td>True</td>\n",
       "      <td>1</td>\n",
       "      <td>1</td>\n",
       "      <td>No</td>\n",
       "    </tr>\n",
       "    <tr>\n",
       "      <th>4</th>\n",
       "      <td>19583</td>\n",
       "      <td>38629</td>\n",
       "      <td>Jain Elodie</td>\n",
       "      <td>04f1994@gmail.com</td>\n",
       "      <td>Abonnement mensuel</td>\n",
       "      <td>17</td>\n",
       "      <td>01/04/2017</td>\n",
       "      <td>CANCELED</td>\n",
       "      <td>24551</td>\n",
       "      <td>False</td>\n",
       "      <td>25.0</td>\n",
       "      <td>01/03/2017</td>\n",
       "      <td>31/07/2018</td>\n",
       "      <td>True</td>\n",
       "      <td>2</td>\n",
       "      <td>2</td>\n",
       "      <td>No</td>\n",
       "    </tr>\n",
       "  </tbody>\n",
       "</table>\n",
       "</div>"
      ],
      "text/plain": [
       "   id_subscriptionMain  id_order  client_name                  email  \\\n",
       "0                 3504     25244   ji eun kim  01022972103@naver.com   \n",
       "1                 3504     25244   ji eun kim  01022972103@naver.com   \n",
       "2                 3504     25244   ji eun kim  01022972103@naver.com   \n",
       "3                19583     38629  Jain Elodie      04f1994@gmail.com   \n",
       "4                19583     38629  Jain Elodie      04f1994@gmail.com   \n",
       "\n",
       "             box_name  subscriptions_type       month submain_state     id  \\\n",
       "0  Abonnement mensuel                  12  01/03/2016      CANCELED  22650   \n",
       "1  Abonnement mensuel                  12  01/04/2016      CANCELED  22650   \n",
       "2  Abonnement mensuel                  12  01/05/2016      CANCELED  22650   \n",
       "3  Abonnement mensuel                  17  01/03/2017      CANCELED  24551   \n",
       "4  Abonnement mensuel                  17  01/04/2017      CANCELED  24551   \n",
       "\n",
       "   newsletter   age beginning_date ending_date abonnement_succ  total_sub  \\\n",
       "0       False   NaN     04/03/2016  31/05/2016            True          1   \n",
       "1       False   NaN     04/03/2016  31/05/2016            True          2   \n",
       "2       False   NaN     04/03/2016  31/05/2016           False          3   \n",
       "3       False  25.0     01/03/2017  31/07/2018            True          1   \n",
       "4       False  25.0     01/03/2017  31/07/2018            True          2   \n",
       "\n",
       "   abonnement_consec churn  \n",
       "0                  1    No  \n",
       "1                  2    No  \n",
       "2                  3   Yes  \n",
       "3                  1    No  \n",
       "4                  2    No  "
      ]
     },
     "execution_count": 7,
     "metadata": {},
     "output_type": "execute_result"
    }
   ],
   "source": [
    "df = copy.deepcopy(dataset)\n",
    "\n",
    "# supprimer les champs\n",
    "df = df.drop('product_attribute', axis = 1) # champ inutil\n",
    "df = df.drop('first_name', axis = 1) # c'est le meme que le champ client_name\n",
    "df = df.drop('last_name', axis = 1) # c'est le meme que le champ client_name\n",
    "\n",
    "# supprimer les duplicates\n",
    "df = df.drop_duplicates(df.columns, keep='last') \n",
    "\n",
    "df.head()"
   ]
  },
  {
   "cell_type": "code",
   "execution_count": 8,
   "metadata": {},
   "outputs": [
    {
     "name": "stdout",
     "output_type": "stream",
     "text": [
      "(107404, 3) (107404, 2) (107404, 4) (107404, 5)\n"
     ]
    }
   ],
   "source": [
    "# definir les donnees numeriques et les donnees categoriques\n",
    "date_col = ['month', 'beginning_date', 'ending_date']\n",
    "bool_col = ['newsletter', 'abonnement_succ']\n",
    "numerique = ['subscriptions_type', 'age', 'abonnement_consec', 'total_sub']\n",
    "categorique = [i for i in df.columns.values.tolist() if i not in ['id_subscriptionMain', 'id', 'id_order', 'month', 'beginning_date', 'ending_date', 'newsletter', 'abonnement_succ', \\\n",
    "                                            'subscriptions_type', 'age', 'abonnement_consec', 'total_sub']]\n",
    "\n",
    "x_date = df[date_col]\n",
    "x_bool = df[bool_col]\n",
    "x_numerique = df[numerique]\n",
    "x_categorique = df[categorique]\n",
    "\n",
    "print(x_date.shape, x_bool.shape, x_numerique.shape, x_categorique.shape)"
   ]
  },
  {
   "cell_type": "markdown",
   "metadata": {},
   "source": [
    "**preprocessing sur les dates**"
   ]
  },
  {
   "cell_type": "code",
   "execution_count": 9,
   "metadata": {},
   "outputs": [
    {
     "name": "stdout",
     "output_type": "stream",
     "text": [
      "month             0\n",
      "beginning_date    0\n",
      "ending_date       0\n",
      "dtype: int64\n"
     ]
    }
   ],
   "source": [
    "# verifier les valeurs nulles\n",
    "print(x_date.isnull().sum())"
   ]
  },
  {
   "cell_type": "code",
   "execution_count": 10,
   "metadata": {},
   "outputs": [],
   "source": [
    "col_name = [i for i in df.columns.tolist() if i not in ['id_subscriptionMain' , 'id_order', 'id']]\n",
    "col_name.insert(0,'id_subscriptionMain')\n",
    "col_name.insert(1,'id_order')\n",
    "col_name.insert(2,'id')\n",
    "col_name.insert(-1,'year_pass')\n",
    "col_name.insert(-1,'month_pass')\n",
    "col_name.insert(-1,'begin_year')\n",
    "col_name.insert(-1,'begin_month')\n",
    "col_name.insert(-1,'end_year')\n",
    "col_name.insert(-1,'end_month')\n",
    "df = df.reindex(columns=col_name)"
   ]
  },
  {
   "cell_type": "code",
   "execution_count": 11,
   "metadata": {},
   "outputs": [],
   "source": [
    "# extraire le jours et le mois\n",
    "df['month'] = pd.to_datetime(df['month'])\n",
    "df['beginning_date'] = pd.to_datetime(df['beginning_date'])\n",
    "df['ending_date'] = pd.to_datetime(df['ending_date'])\n",
    "\n",
    "# on ignore le jour, car c'est toujours le 1 du mois\n",
    "df['year_pass'] = df['month'].dt.year\n",
    "df['month_pass'] = df['month'].dt.day # car le format du champ month inverse le mois et le jours\n",
    "\n",
    "df['begin_year'] = df['beginning_date'].dt.year\n",
    "df['begin_month'] = df['beginning_date'].dt.month\n",
    "\n",
    "df['end_year'] = df['ending_date'].dt.year\n",
    "df['end_month'] = df['ending_date'].dt.month"
   ]
  },
  {
   "cell_type": "code",
   "execution_count": 12,
   "metadata": {},
   "outputs": [
    {
     "data": {
      "text/html": [
       "<div>\n",
       "<style scoped>\n",
       "    .dataframe tbody tr th:only-of-type {\n",
       "        vertical-align: middle;\n",
       "    }\n",
       "\n",
       "    .dataframe tbody tr th {\n",
       "        vertical-align: top;\n",
       "    }\n",
       "\n",
       "    .dataframe thead th {\n",
       "        text-align: right;\n",
       "    }\n",
       "</style>\n",
       "<table border=\"1\" class=\"dataframe\">\n",
       "  <thead>\n",
       "    <tr style=\"text-align: right;\">\n",
       "      <th></th>\n",
       "      <th>id_subscriptionMain</th>\n",
       "      <th>id_order</th>\n",
       "      <th>id</th>\n",
       "      <th>client_name</th>\n",
       "      <th>email</th>\n",
       "      <th>box_name</th>\n",
       "      <th>subscriptions_type</th>\n",
       "      <th>submain_state</th>\n",
       "      <th>newsletter</th>\n",
       "      <th>age</th>\n",
       "      <th>abonnement_succ</th>\n",
       "      <th>total_sub</th>\n",
       "      <th>abonnement_consec</th>\n",
       "      <th>year_pass</th>\n",
       "      <th>month_pass</th>\n",
       "      <th>begin_year</th>\n",
       "      <th>begin_month</th>\n",
       "      <th>end_year</th>\n",
       "      <th>end_month</th>\n",
       "      <th>churn</th>\n",
       "    </tr>\n",
       "  </thead>\n",
       "  <tbody>\n",
       "    <tr>\n",
       "      <th>0</th>\n",
       "      <td>3504</td>\n",
       "      <td>25244</td>\n",
       "      <td>22650</td>\n",
       "      <td>ji eun kim</td>\n",
       "      <td>01022972103@naver.com</td>\n",
       "      <td>Abonnement mensuel</td>\n",
       "      <td>12</td>\n",
       "      <td>CANCELED</td>\n",
       "      <td>False</td>\n",
       "      <td>NaN</td>\n",
       "      <td>True</td>\n",
       "      <td>1</td>\n",
       "      <td>1</td>\n",
       "      <td>2016</td>\n",
       "      <td>3</td>\n",
       "      <td>2016</td>\n",
       "      <td>4</td>\n",
       "      <td>2016</td>\n",
       "      <td>5</td>\n",
       "      <td>No</td>\n",
       "    </tr>\n",
       "    <tr>\n",
       "      <th>1</th>\n",
       "      <td>3504</td>\n",
       "      <td>25244</td>\n",
       "      <td>22650</td>\n",
       "      <td>ji eun kim</td>\n",
       "      <td>01022972103@naver.com</td>\n",
       "      <td>Abonnement mensuel</td>\n",
       "      <td>12</td>\n",
       "      <td>CANCELED</td>\n",
       "      <td>False</td>\n",
       "      <td>NaN</td>\n",
       "      <td>True</td>\n",
       "      <td>2</td>\n",
       "      <td>2</td>\n",
       "      <td>2016</td>\n",
       "      <td>4</td>\n",
       "      <td>2016</td>\n",
       "      <td>4</td>\n",
       "      <td>2016</td>\n",
       "      <td>5</td>\n",
       "      <td>No</td>\n",
       "    </tr>\n",
       "    <tr>\n",
       "      <th>2</th>\n",
       "      <td>3504</td>\n",
       "      <td>25244</td>\n",
       "      <td>22650</td>\n",
       "      <td>ji eun kim</td>\n",
       "      <td>01022972103@naver.com</td>\n",
       "      <td>Abonnement mensuel</td>\n",
       "      <td>12</td>\n",
       "      <td>CANCELED</td>\n",
       "      <td>False</td>\n",
       "      <td>NaN</td>\n",
       "      <td>False</td>\n",
       "      <td>3</td>\n",
       "      <td>3</td>\n",
       "      <td>2016</td>\n",
       "      <td>5</td>\n",
       "      <td>2016</td>\n",
       "      <td>4</td>\n",
       "      <td>2016</td>\n",
       "      <td>5</td>\n",
       "      <td>Yes</td>\n",
       "    </tr>\n",
       "    <tr>\n",
       "      <th>3</th>\n",
       "      <td>19583</td>\n",
       "      <td>38629</td>\n",
       "      <td>24551</td>\n",
       "      <td>Jain Elodie</td>\n",
       "      <td>04f1994@gmail.com</td>\n",
       "      <td>Abonnement mensuel</td>\n",
       "      <td>17</td>\n",
       "      <td>CANCELED</td>\n",
       "      <td>False</td>\n",
       "      <td>25.0</td>\n",
       "      <td>True</td>\n",
       "      <td>1</td>\n",
       "      <td>1</td>\n",
       "      <td>2017</td>\n",
       "      <td>3</td>\n",
       "      <td>2017</td>\n",
       "      <td>1</td>\n",
       "      <td>2018</td>\n",
       "      <td>7</td>\n",
       "      <td>No</td>\n",
       "    </tr>\n",
       "    <tr>\n",
       "      <th>4</th>\n",
       "      <td>19583</td>\n",
       "      <td>38629</td>\n",
       "      <td>24551</td>\n",
       "      <td>Jain Elodie</td>\n",
       "      <td>04f1994@gmail.com</td>\n",
       "      <td>Abonnement mensuel</td>\n",
       "      <td>17</td>\n",
       "      <td>CANCELED</td>\n",
       "      <td>False</td>\n",
       "      <td>25.0</td>\n",
       "      <td>True</td>\n",
       "      <td>2</td>\n",
       "      <td>2</td>\n",
       "      <td>2017</td>\n",
       "      <td>4</td>\n",
       "      <td>2017</td>\n",
       "      <td>1</td>\n",
       "      <td>2018</td>\n",
       "      <td>7</td>\n",
       "      <td>No</td>\n",
       "    </tr>\n",
       "  </tbody>\n",
       "</table>\n",
       "</div>"
      ],
      "text/plain": [
       "   id_subscriptionMain  id_order     id  client_name                  email  \\\n",
       "0                 3504     25244  22650   ji eun kim  01022972103@naver.com   \n",
       "1                 3504     25244  22650   ji eun kim  01022972103@naver.com   \n",
       "2                 3504     25244  22650   ji eun kim  01022972103@naver.com   \n",
       "3                19583     38629  24551  Jain Elodie      04f1994@gmail.com   \n",
       "4                19583     38629  24551  Jain Elodie      04f1994@gmail.com   \n",
       "\n",
       "             box_name  subscriptions_type submain_state  newsletter   age  \\\n",
       "0  Abonnement mensuel                  12      CANCELED       False   NaN   \n",
       "1  Abonnement mensuel                  12      CANCELED       False   NaN   \n",
       "2  Abonnement mensuel                  12      CANCELED       False   NaN   \n",
       "3  Abonnement mensuel                  17      CANCELED       False  25.0   \n",
       "4  Abonnement mensuel                  17      CANCELED       False  25.0   \n",
       "\n",
       "  abonnement_succ  total_sub  abonnement_consec  year_pass  month_pass  \\\n",
       "0            True          1                  1       2016           3   \n",
       "1            True          2                  2       2016           4   \n",
       "2           False          3                  3       2016           5   \n",
       "3            True          1                  1       2017           3   \n",
       "4            True          2                  2       2017           4   \n",
       "\n",
       "   begin_year  begin_month  end_year  end_month churn  \n",
       "0        2016            4      2016          5    No  \n",
       "1        2016            4      2016          5    No  \n",
       "2        2016            4      2016          5   Yes  \n",
       "3        2017            1      2018          7    No  \n",
       "4        2017            1      2018          7    No  "
      ]
     },
     "execution_count": 12,
     "metadata": {},
     "output_type": "execute_result"
    }
   ],
   "source": [
    "#supprimer les champs month et ending_month\n",
    "df = df.drop(columns=['month','beginning_date', 'ending_date'])\n",
    "\n",
    "df.head()"
   ]
  },
  {
   "cell_type": "markdown",
   "metadata": {},
   "source": [
    "**preprocessing sur les donnees boolean**"
   ]
  },
  {
   "cell_type": "code",
   "execution_count": 13,
   "metadata": {},
   "outputs": [],
   "source": [
    "df1 = copy.deepcopy(df)\n",
    "# df = copy.deepcopy(df1)"
   ]
  },
  {
   "cell_type": "code",
   "execution_count": 14,
   "metadata": {},
   "outputs": [
    {
     "name": "stdout",
     "output_type": "stream",
     "text": [
      "newsletter            0\n",
      "abonnement_succ    1498\n",
      "dtype: int64\n"
     ]
    }
   ],
   "source": [
    "# verifier les valeurs nulles\n",
    "print(x_bool.isnull().sum())"
   ]
  },
  {
   "cell_type": "code",
   "execution_count": 15,
   "metadata": {},
   "outputs": [
    {
     "data": {
      "text/html": [
       "<div>\n",
       "<style scoped>\n",
       "    .dataframe tbody tr th:only-of-type {\n",
       "        vertical-align: middle;\n",
       "    }\n",
       "\n",
       "    .dataframe tbody tr th {\n",
       "        vertical-align: top;\n",
       "    }\n",
       "\n",
       "    .dataframe thead th {\n",
       "        text-align: right;\n",
       "    }\n",
       "</style>\n",
       "<table border=\"1\" class=\"dataframe\">\n",
       "  <thead>\n",
       "    <tr style=\"text-align: right;\">\n",
       "      <th></th>\n",
       "      <th>id_subscriptionMain</th>\n",
       "      <th>id_order</th>\n",
       "      <th>id</th>\n",
       "      <th>client_name</th>\n",
       "      <th>email</th>\n",
       "      <th>box_name</th>\n",
       "      <th>subscriptions_type</th>\n",
       "      <th>submain_state</th>\n",
       "      <th>newsletter</th>\n",
       "      <th>age</th>\n",
       "      <th>abonnement_succ</th>\n",
       "      <th>total_sub</th>\n",
       "      <th>abonnement_consec</th>\n",
       "      <th>year_pass</th>\n",
       "      <th>month_pass</th>\n",
       "      <th>begin_year</th>\n",
       "      <th>begin_month</th>\n",
       "      <th>end_year</th>\n",
       "      <th>end_month</th>\n",
       "      <th>churn</th>\n",
       "    </tr>\n",
       "  </thead>\n",
       "  <tbody>\n",
       "    <tr>\n",
       "      <th>0</th>\n",
       "      <td>3504</td>\n",
       "      <td>25244</td>\n",
       "      <td>22650</td>\n",
       "      <td>ji eun kim</td>\n",
       "      <td>01022972103@naver.com</td>\n",
       "      <td>Abonnement mensuel</td>\n",
       "      <td>12</td>\n",
       "      <td>CANCELED</td>\n",
       "      <td>0</td>\n",
       "      <td>NaN</td>\n",
       "      <td>1</td>\n",
       "      <td>1</td>\n",
       "      <td>1</td>\n",
       "      <td>2016</td>\n",
       "      <td>3</td>\n",
       "      <td>2016</td>\n",
       "      <td>4</td>\n",
       "      <td>2016</td>\n",
       "      <td>5</td>\n",
       "      <td>No</td>\n",
       "    </tr>\n",
       "    <tr>\n",
       "      <th>1</th>\n",
       "      <td>3504</td>\n",
       "      <td>25244</td>\n",
       "      <td>22650</td>\n",
       "      <td>ji eun kim</td>\n",
       "      <td>01022972103@naver.com</td>\n",
       "      <td>Abonnement mensuel</td>\n",
       "      <td>12</td>\n",
       "      <td>CANCELED</td>\n",
       "      <td>0</td>\n",
       "      <td>NaN</td>\n",
       "      <td>1</td>\n",
       "      <td>2</td>\n",
       "      <td>2</td>\n",
       "      <td>2016</td>\n",
       "      <td>4</td>\n",
       "      <td>2016</td>\n",
       "      <td>4</td>\n",
       "      <td>2016</td>\n",
       "      <td>5</td>\n",
       "      <td>No</td>\n",
       "    </tr>\n",
       "    <tr>\n",
       "      <th>2</th>\n",
       "      <td>3504</td>\n",
       "      <td>25244</td>\n",
       "      <td>22650</td>\n",
       "      <td>ji eun kim</td>\n",
       "      <td>01022972103@naver.com</td>\n",
       "      <td>Abonnement mensuel</td>\n",
       "      <td>12</td>\n",
       "      <td>CANCELED</td>\n",
       "      <td>0</td>\n",
       "      <td>NaN</td>\n",
       "      <td>1</td>\n",
       "      <td>3</td>\n",
       "      <td>3</td>\n",
       "      <td>2016</td>\n",
       "      <td>5</td>\n",
       "      <td>2016</td>\n",
       "      <td>4</td>\n",
       "      <td>2016</td>\n",
       "      <td>5</td>\n",
       "      <td>Yes</td>\n",
       "    </tr>\n",
       "    <tr>\n",
       "      <th>3</th>\n",
       "      <td>19583</td>\n",
       "      <td>38629</td>\n",
       "      <td>24551</td>\n",
       "      <td>Jain Elodie</td>\n",
       "      <td>04f1994@gmail.com</td>\n",
       "      <td>Abonnement mensuel</td>\n",
       "      <td>17</td>\n",
       "      <td>CANCELED</td>\n",
       "      <td>0</td>\n",
       "      <td>25.0</td>\n",
       "      <td>1</td>\n",
       "      <td>1</td>\n",
       "      <td>1</td>\n",
       "      <td>2017</td>\n",
       "      <td>3</td>\n",
       "      <td>2017</td>\n",
       "      <td>1</td>\n",
       "      <td>2018</td>\n",
       "      <td>7</td>\n",
       "      <td>No</td>\n",
       "    </tr>\n",
       "    <tr>\n",
       "      <th>4</th>\n",
       "      <td>19583</td>\n",
       "      <td>38629</td>\n",
       "      <td>24551</td>\n",
       "      <td>Jain Elodie</td>\n",
       "      <td>04f1994@gmail.com</td>\n",
       "      <td>Abonnement mensuel</td>\n",
       "      <td>17</td>\n",
       "      <td>CANCELED</td>\n",
       "      <td>0</td>\n",
       "      <td>25.0</td>\n",
       "      <td>1</td>\n",
       "      <td>2</td>\n",
       "      <td>2</td>\n",
       "      <td>2017</td>\n",
       "      <td>4</td>\n",
       "      <td>2017</td>\n",
       "      <td>1</td>\n",
       "      <td>2018</td>\n",
       "      <td>7</td>\n",
       "      <td>No</td>\n",
       "    </tr>\n",
       "  </tbody>\n",
       "</table>\n",
       "</div>"
      ],
      "text/plain": [
       "   id_subscriptionMain  id_order     id  client_name                  email  \\\n",
       "0                 3504     25244  22650   ji eun kim  01022972103@naver.com   \n",
       "1                 3504     25244  22650   ji eun kim  01022972103@naver.com   \n",
       "2                 3504     25244  22650   ji eun kim  01022972103@naver.com   \n",
       "3                19583     38629  24551  Jain Elodie      04f1994@gmail.com   \n",
       "4                19583     38629  24551  Jain Elodie      04f1994@gmail.com   \n",
       "\n",
       "             box_name  subscriptions_type submain_state  newsletter   age  \\\n",
       "0  Abonnement mensuel                  12      CANCELED           0   NaN   \n",
       "1  Abonnement mensuel                  12      CANCELED           0   NaN   \n",
       "2  Abonnement mensuel                  12      CANCELED           0   NaN   \n",
       "3  Abonnement mensuel                  17      CANCELED           0  25.0   \n",
       "4  Abonnement mensuel                  17      CANCELED           0  25.0   \n",
       "\n",
       "   abonnement_succ  total_sub  abonnement_consec  year_pass  month_pass  \\\n",
       "0                1          1                  1       2016           3   \n",
       "1                1          2                  2       2016           4   \n",
       "2                1          3                  3       2016           5   \n",
       "3                1          1                  1       2017           3   \n",
       "4                1          2                  2       2017           4   \n",
       "\n",
       "   begin_year  begin_month  end_year  end_month churn  \n",
       "0        2016            4      2016          5    No  \n",
       "1        2016            4      2016          5    No  \n",
       "2        2016            4      2016          5   Yes  \n",
       "3        2017            1      2018          7    No  \n",
       "4        2017            1      2018          7    No  "
      ]
     },
     "execution_count": 15,
     "metadata": {},
     "output_type": "execute_result"
    }
   ],
   "source": [
    "df['newsletter'] = df['newsletter'].replace([False,True],[0,1])\n",
    "\n",
    "# convertir abonnement_succ en valeur non nulle et valeur nulle\n",
    "df.loc[(df.abonnement_succ.notnull()), 'abonnement_succ'] = 1 # have values\n",
    "df.loc[(df.abonnement_succ.isnull()), 'abonnement_succ'] = 0 # not have values\n",
    "\n",
    "df.head()"
   ]
  },
  {
   "cell_type": "markdown",
   "metadata": {},
   "source": [
    "**preprocessing sur les donnees numeriques**"
   ]
  },
  {
   "cell_type": "code",
   "execution_count": 16,
   "metadata": {},
   "outputs": [],
   "source": [
    "df2 = copy.deepcopy(df)\n",
    "# df = copy.deepcopy(df2)"
   ]
  },
  {
   "cell_type": "code",
   "execution_count": 17,
   "metadata": {},
   "outputs": [
    {
     "name": "stdout",
     "output_type": "stream",
     "text": [
      "subscriptions_type        0\n",
      "age                   61977\n",
      "abonnement_consec         0\n",
      "total_sub                 0\n",
      "dtype: int64\n"
     ]
    }
   ],
   "source": [
    "# verifier les valeurs nulles\n",
    "print(x_numerique.isnull().sum())"
   ]
  },
  {
   "cell_type": "code",
   "execution_count": 18,
   "metadata": {},
   "outputs": [
    {
     "data": {
      "text/plain": [
       "(0.0, 119.0)"
      ]
     },
     "execution_count": 18,
     "metadata": {},
     "output_type": "execute_result"
    }
   ],
   "source": [
    "df.age.min(), df.age.max()"
   ]
  },
  {
   "cell_type": "code",
   "execution_count": 19,
   "metadata": {},
   "outputs": [],
   "source": [
    "# transformer l'age en tranche d'age\n",
    "df.loc[(df.age<10), 'age'] = 0 # age < 10 ans\n",
    "df.loc[(df.age>=10) & (df.age<20), 'age'] = 1 # age entre 10 et 19 ans\n",
    "df.loc[(df.age>=20) & (df.age<30), 'age'] = 2 # age entre 20 et 29 ans\n",
    "df.loc[(df.age>=30) & (df.age<40), 'age'] = 3 # age entre 30 et 39 ans\n",
    "df.loc[(df.age>=40) & (df.age<50), 'age'] = 4 # age entre 40 et 49 ans\n",
    "df.loc[(df.age>=50) & (df.age<60), 'age'] = 5 # age entre 50 et 59 ans\n",
    "df.loc[(df.age>=60) & (df.age<70), 'age'] = 6 # age entre 60 et 69 ans\n",
    "df.loc[(df.age>=70) & (df.age<80), 'age'] = 7 # age entre 70 et 79 ans\n",
    "df.loc[(df.age>=80) & (df.age<90), 'age'] = 8 # age entre 80 et 89 ans\n",
    "df.loc[(df.age>=90) & (df.age<100), 'age'] = 9 # age entre 90 et 99 ans\n",
    "df.loc[(df.age>=100), 'age'] = 10 # age > 100 ans\n",
    "df.loc[(df.age.isnull()), 'age'] = 11 # not have age"
   ]
  },
  {
   "cell_type": "code",
   "execution_count": 20,
   "metadata": {},
   "outputs": [
    {
     "data": {
      "image/png": "[encoded data removed]",
      "text/plain": [
       "<Figure size 432x288 with 1 Axes>"
      ]
     },
     "metadata": {
      "needs_background": "light"
     },
     "output_type": "display_data"
    }
   ],
   "source": [
    "fig = plt.figure()\n",
    "\n",
    "df.age.value_counts().plot(kind='bar')\n",
    "plt.show()"
   ]
  },
  {
   "cell_type": "code",
   "execution_count": 21,
   "metadata": {},
   "outputs": [
    {
     "name": "stdout",
     "output_type": "stream",
     "text": [
      "(107404, 20)\n",
      "(100864, 20)\n"
     ]
    }
   ],
   "source": [
    "print(df.shape)\n",
    "# filtrer les clients qui ont l'age entre 20 et 59, et les valuers nulles\n",
    "df = df[((df.age >= 2) & (df.age <= 5)) | (df.age == 11)]\n",
    "print(df.shape)"
   ]
  },
  {
   "cell_type": "code",
   "execution_count": 22,
   "metadata": {},
   "outputs": [],
   "source": [
    "# on peut completer les valeurs nulles par median, mais il y a nombreux valeurs nulles sur le champ age, cela va prendre beaucoup de bruit\n",
    "# sinon on prend en compte les valeurs nulles comme une type\n",
    "# alors, on va transformer le champ age par deux valeurs: have age et not have age\n",
    "\n",
    "df.loc[df.age != 11, 'age'] = 1\n",
    "df.loc[df.age == 11, 'age'] = 0\n",
    "df.age = df.age.astype(int)"
   ]
  },
  {
   "cell_type": "code",
   "execution_count": 23,
   "metadata": {},
   "outputs": [
    {
     "data": {
      "text/plain": [
       "0    61977\n",
       "1    38887\n",
       "Name: age, dtype: int64"
      ]
     },
     "execution_count": 23,
     "metadata": {},
     "output_type": "execute_result"
    }
   ],
   "source": [
    "df.age.value_counts()"
   ]
  },
  {
   "cell_type": "markdown",
   "metadata": {},
   "source": [
    "**preprocessing sur les champs categoriques**"
   ]
  },
  {
   "cell_type": "code",
   "execution_count": 24,
   "metadata": {},
   "outputs": [],
   "source": [
    "df3 = copy.deepcopy(df)\n",
    "# df = copy.deepcopy(df3)"
   ]
  },
  {
   "cell_type": "code",
   "execution_count": 25,
   "metadata": {},
   "outputs": [
    {
     "name": "stdout",
     "output_type": "stream",
     "text": [
      "client_name         0\n",
      "email               0\n",
      "box_name            0\n",
      "submain_state       0\n",
      "churn            1498\n",
      "dtype: int64\n"
     ]
    }
   ],
   "source": [
    "# verifier les valeurs nulles\n",
    "print(x_categorique.isnull().sum())"
   ]
  },
  {
   "cell_type": "code",
   "execution_count": 26,
   "metadata": {},
   "outputs": [
    {
     "data": {
      "text/html": [
       "<div>\n",
       "<style scoped>\n",
       "    .dataframe tbody tr th:only-of-type {\n",
       "        vertical-align: middle;\n",
       "    }\n",
       "\n",
       "    .dataframe tbody tr th {\n",
       "        vertical-align: top;\n",
       "    }\n",
       "\n",
       "    .dataframe thead th {\n",
       "        text-align: right;\n",
       "    }\n",
       "</style>\n",
       "<table border=\"1\" class=\"dataframe\">\n",
       "  <thead>\n",
       "    <tr style=\"text-align: right;\">\n",
       "      <th></th>\n",
       "      <th>id_subscriptionMain</th>\n",
       "      <th>id_order</th>\n",
       "      <th>id</th>\n",
       "      <th>subscriptions_type</th>\n",
       "      <th>submain_state</th>\n",
       "      <th>newsletter</th>\n",
       "      <th>age</th>\n",
       "      <th>abonnement_succ</th>\n",
       "      <th>total_sub</th>\n",
       "      <th>abonnement_consec</th>\n",
       "      <th>year_pass</th>\n",
       "      <th>month_pass</th>\n",
       "      <th>begin_year</th>\n",
       "      <th>begin_month</th>\n",
       "      <th>end_year</th>\n",
       "      <th>end_month</th>\n",
       "      <th>churn</th>\n",
       "    </tr>\n",
       "  </thead>\n",
       "  <tbody>\n",
       "    <tr>\n",
       "      <th>0</th>\n",
       "      <td>3504</td>\n",
       "      <td>25244</td>\n",
       "      <td>22650</td>\n",
       "      <td>12</td>\n",
       "      <td>0</td>\n",
       "      <td>0</td>\n",
       "      <td>0</td>\n",
       "      <td>1</td>\n",
       "      <td>1</td>\n",
       "      <td>1</td>\n",
       "      <td>2016</td>\n",
       "      <td>3</td>\n",
       "      <td>2016</td>\n",
       "      <td>4</td>\n",
       "      <td>2016</td>\n",
       "      <td>5</td>\n",
       "      <td>0</td>\n",
       "    </tr>\n",
       "    <tr>\n",
       "      <th>1</th>\n",
       "      <td>3504</td>\n",
       "      <td>25244</td>\n",
       "      <td>22650</td>\n",
       "      <td>12</td>\n",
       "      <td>0</td>\n",
       "      <td>0</td>\n",
       "      <td>0</td>\n",
       "      <td>1</td>\n",
       "      <td>2</td>\n",
       "      <td>2</td>\n",
       "      <td>2016</td>\n",
       "      <td>4</td>\n",
       "      <td>2016</td>\n",
       "      <td>4</td>\n",
       "      <td>2016</td>\n",
       "      <td>5</td>\n",
       "      <td>0</td>\n",
       "    </tr>\n",
       "    <tr>\n",
       "      <th>2</th>\n",
       "      <td>3504</td>\n",
       "      <td>25244</td>\n",
       "      <td>22650</td>\n",
       "      <td>12</td>\n",
       "      <td>0</td>\n",
       "      <td>0</td>\n",
       "      <td>0</td>\n",
       "      <td>1</td>\n",
       "      <td>3</td>\n",
       "      <td>3</td>\n",
       "      <td>2016</td>\n",
       "      <td>5</td>\n",
       "      <td>2016</td>\n",
       "      <td>4</td>\n",
       "      <td>2016</td>\n",
       "      <td>5</td>\n",
       "      <td>1</td>\n",
       "    </tr>\n",
       "    <tr>\n",
       "      <th>3</th>\n",
       "      <td>19583</td>\n",
       "      <td>38629</td>\n",
       "      <td>24551</td>\n",
       "      <td>17</td>\n",
       "      <td>0</td>\n",
       "      <td>0</td>\n",
       "      <td>1</td>\n",
       "      <td>1</td>\n",
       "      <td>1</td>\n",
       "      <td>1</td>\n",
       "      <td>2017</td>\n",
       "      <td>3</td>\n",
       "      <td>2017</td>\n",
       "      <td>1</td>\n",
       "      <td>2018</td>\n",
       "      <td>7</td>\n",
       "      <td>0</td>\n",
       "    </tr>\n",
       "    <tr>\n",
       "      <th>4</th>\n",
       "      <td>19583</td>\n",
       "      <td>38629</td>\n",
       "      <td>24551</td>\n",
       "      <td>17</td>\n",
       "      <td>0</td>\n",
       "      <td>0</td>\n",
       "      <td>1</td>\n",
       "      <td>1</td>\n",
       "      <td>2</td>\n",
       "      <td>2</td>\n",
       "      <td>2017</td>\n",
       "      <td>4</td>\n",
       "      <td>2017</td>\n",
       "      <td>1</td>\n",
       "      <td>2018</td>\n",
       "      <td>7</td>\n",
       "      <td>0</td>\n",
       "    </tr>\n",
       "  </tbody>\n",
       "</table>\n",
       "</div>"
      ],
      "text/plain": [
       "   id_subscriptionMain  id_order     id  subscriptions_type  submain_state  \\\n",
       "0                 3504     25244  22650                  12              0   \n",
       "1                 3504     25244  22650                  12              0   \n",
       "2                 3504     25244  22650                  12              0   \n",
       "3                19583     38629  24551                  17              0   \n",
       "4                19583     38629  24551                  17              0   \n",
       "\n",
       "   newsletter  age  abonnement_succ  total_sub  abonnement_consec  year_pass  \\\n",
       "0           0    0                1          1                  1       2016   \n",
       "1           0    0                1          2                  2       2016   \n",
       "2           0    0                1          3                  3       2016   \n",
       "3           0    1                1          1                  1       2017   \n",
       "4           0    1                1          2                  2       2017   \n",
       "\n",
       "   month_pass  begin_year  begin_month  end_year  end_month  churn  \n",
       "0           3        2016            4      2016          5      0  \n",
       "1           4        2016            4      2016          5      0  \n",
       "2           5        2016            4      2016          5      1  \n",
       "3           3        2017            1      2018          7      0  \n",
       "4           4        2017            1      2018          7      0  "
      ]
     },
     "execution_count": 26,
     "metadata": {},
     "output_type": "execute_result"
    }
   ],
   "source": [
    "# supprimer les champs qui ont trop de categoriques\n",
    "df = df.drop(columns=['client_name','email','box_name'])\n",
    "\n",
    "# convertir les valeurs categorique en valeurs numeriques\n",
    "\n",
    "# # submain_state\n",
    "df['submain_state'] = df['submain_state'].replace(['CANCELED','SUSPENDED','ACTIVE','WARNING'],[0,1,2,3])\n",
    "\n",
    "# churn\n",
    "df['churn'] = df['churn'].fillna(2) # cas hors scope\n",
    "df['churn'] = df['churn'].replace(['No','Yes'],[0,1]) # cas churn et cas non churn\n",
    "\n",
    "df.head()"
   ]
  },
  {
   "cell_type": "code",
   "execution_count": 27,
   "metadata": {},
   "outputs": [
    {
     "data": {
      "text/plain": [
       "array([0, 1, 2], dtype=int64)"
      ]
     },
     "execution_count": 27,
     "metadata": {},
     "output_type": "execute_result"
    }
   ],
   "source": [
    "df['churn'].unique()"
   ]
  },
  {
   "cell_type": "code",
   "execution_count": 28,
   "metadata": {},
   "outputs": [],
   "source": [
    "# definir les features et le label\n",
    "ids = ['id_subscriptionMain', 'id', 'id_order']\n",
    "label = ['churn']\n",
    "\n",
    "features = [i for i in df.columns.values.tolist() if i not in ['id_subscriptionMain', 'id', 'id_order', 'churn']]\n",
    "data = [j for j in df.columns.values.tolist() if j not in ['id_subscriptionMain', 'id', 'id_order']]\n",
    "\n",
    "df_id = df[ids] # id_subscriptionMain, id_order et id\n",
    "df_data = df[data] # features + label\n",
    "df_features = df[features] # tous les champs sauf ids et churn\n",
    "df_label = df[label] # churn"
   ]
  },
  {
   "cell_type": "code",
   "execution_count": 29,
   "metadata": {},
   "outputs": [
    {
     "data": {
      "text/plain": [
       "((100864, 3), (100864, 14), (100864, 13), (100864, 1))"
      ]
     },
     "execution_count": 29,
     "metadata": {},
     "output_type": "execute_result"
    }
   ],
   "source": [
    "df_id.shape, df_data.shape, df_features.shape, df_label.shape"
   ]
  },
  {
   "cell_type": "markdown",
   "metadata": {},
   "source": [
    "**heat map pour la correlation**"
   ]
  },
  {
   "cell_type": "code",
   "execution_count": 30,
   "metadata": {},
   "outputs": [
    {
     "data": {
      "image/png": "[encoded data removed]",
      "text/plain": [
       "<Figure size 1080x1080 with 2 Axes>"
      ]
     },
     "metadata": {
      "needs_background": "light"
     },
     "output_type": "display_data"
    }
   ],
   "source": [
    "# Heat map pour la correlation entre les features\n",
    "colormap = plt.cm.bwr\n",
    "# colormap.set_size\n",
    "plt.figure(figsize=(15,15))\n",
    "plt.title('Correlation between Features', y=1.05, size = 20)\n",
    "\n",
    "k = len(df_data)\n",
    "\n",
    "# Generate a mask for the upper triangle\n",
    "corr = df_data.corr()\n",
    "\n",
    "mask = np.zeros_like(corr, dtype=np.bool)\n",
    "mask[np.triu_indices_from(mask)] = True\n",
    "\n",
    "cols = corr.nlargest(k, 'churn')['churn'].index\n",
    "cm = np.corrcoef(df[cols].values.T)\n",
    "\n",
    "# heatmap\n",
    "sns.heatmap(cm,\n",
    "            linewidths=0.1, \n",
    "            vmax=1.0, \n",
    "            square=True, \n",
    "            cmap=colormap, \n",
    "            linecolor='white', \n",
    "            annot=True,\n",
    "           mask = mask,\n",
    "           yticklabels=cols.values, \n",
    "            xticklabels=cols.values)\n",
    "\n",
    "plt.show()"
   ]
  },
  {
   "cell_type": "code",
   "execution_count": 31,
   "metadata": {},
   "outputs": [
    {
     "data": {
      "text/plain": [
       "churn                 1.000000\n",
       "month_pass            0.006937\n",
       "end_month            -0.001273\n",
       "begin_month          -0.001634\n",
       "newsletter           -0.013688\n",
       "total_sub            -0.029552\n",
       "begin_year           -0.030457\n",
       "abonnement_consec    -0.037413\n",
       "year_pass            -0.053066\n",
       "age                  -0.062506\n",
       "subscriptions_type   -0.089072\n",
       "end_year             -0.106683\n",
       "submain_state        -0.127668\n",
       "abonnement_succ      -0.648311\n",
       "Name: churn, dtype: float64"
      ]
     },
     "execution_count": 31,
     "metadata": {},
     "output_type": "execute_result"
    }
   ],
   "source": [
    "# regarder la correlation avec le champ churn\n",
    "df_data.corr()[\"churn\"].sort_values(ascending=False)"
   ]
  },
  {
   "cell_type": "markdown",
   "metadata": {},
   "source": [
    "**normalisation**"
   ]
  },
  {
   "cell_type": "code",
   "execution_count": 32,
   "metadata": {},
   "outputs": [
    {
     "data": {
      "text/html": [
       "<div>\n",
       "<style scoped>\n",
       "    .dataframe tbody tr th:only-of-type {\n",
       "        vertical-align: middle;\n",
       "    }\n",
       "\n",
       "    .dataframe tbody tr th {\n",
       "        vertical-align: top;\n",
       "    }\n",
       "\n",
       "    .dataframe thead th {\n",
       "        text-align: right;\n",
       "    }\n",
       "</style>\n",
       "<table border=\"1\" class=\"dataframe\">\n",
       "  <thead>\n",
       "    <tr style=\"text-align: right;\">\n",
       "      <th></th>\n",
       "      <th>id_subscriptionMain</th>\n",
       "      <th>id_order</th>\n",
       "      <th>id</th>\n",
       "      <th>subscriptions_type</th>\n",
       "      <th>submain_state</th>\n",
       "      <th>newsletter</th>\n",
       "      <th>age</th>\n",
       "      <th>abonnement_succ</th>\n",
       "      <th>total_sub</th>\n",
       "      <th>abonnement_consec</th>\n",
       "      <th>year_pass</th>\n",
       "      <th>month_pass</th>\n",
       "      <th>begin_year</th>\n",
       "      <th>begin_month</th>\n",
       "      <th>end_year</th>\n",
       "      <th>end_month</th>\n",
       "      <th>churn</th>\n",
       "    </tr>\n",
       "  </thead>\n",
       "  <tbody>\n",
       "    <tr>\n",
       "      <th>0</th>\n",
       "      <td>3504</td>\n",
       "      <td>25244</td>\n",
       "      <td>22650</td>\n",
       "      <td>0.003437</td>\n",
       "      <td>0.0</td>\n",
       "      <td>0.0</td>\n",
       "      <td>0.000000</td>\n",
       "      <td>0.000286</td>\n",
       "      <td>0.000286</td>\n",
       "      <td>0.000286</td>\n",
       "      <td>0.577346</td>\n",
       "      <td>0.000859</td>\n",
       "      <td>0.577346</td>\n",
       "      <td>0.001146</td>\n",
       "      <td>0.577346</td>\n",
       "      <td>0.001432</td>\n",
       "      <td>0</td>\n",
       "    </tr>\n",
       "    <tr>\n",
       "      <th>1</th>\n",
       "      <td>3504</td>\n",
       "      <td>25244</td>\n",
       "      <td>22650</td>\n",
       "      <td>0.003437</td>\n",
       "      <td>0.0</td>\n",
       "      <td>0.0</td>\n",
       "      <td>0.000000</td>\n",
       "      <td>0.000286</td>\n",
       "      <td>0.000573</td>\n",
       "      <td>0.000573</td>\n",
       "      <td>0.577345</td>\n",
       "      <td>0.001146</td>\n",
       "      <td>0.577345</td>\n",
       "      <td>0.001146</td>\n",
       "      <td>0.577345</td>\n",
       "      <td>0.001432</td>\n",
       "      <td>0</td>\n",
       "    </tr>\n",
       "    <tr>\n",
       "      <th>2</th>\n",
       "      <td>3504</td>\n",
       "      <td>25244</td>\n",
       "      <td>22650</td>\n",
       "      <td>0.003437</td>\n",
       "      <td>0.0</td>\n",
       "      <td>0.0</td>\n",
       "      <td>0.000000</td>\n",
       "      <td>0.000286</td>\n",
       "      <td>0.000859</td>\n",
       "      <td>0.000859</td>\n",
       "      <td>0.577345</td>\n",
       "      <td>0.001432</td>\n",
       "      <td>0.577345</td>\n",
       "      <td>0.001146</td>\n",
       "      <td>0.577345</td>\n",
       "      <td>0.001432</td>\n",
       "      <td>1</td>\n",
       "    </tr>\n",
       "    <tr>\n",
       "      <th>3</th>\n",
       "      <td>19583</td>\n",
       "      <td>38629</td>\n",
       "      <td>24551</td>\n",
       "      <td>0.004865</td>\n",
       "      <td>0.0</td>\n",
       "      <td>0.0</td>\n",
       "      <td>0.000286</td>\n",
       "      <td>0.000286</td>\n",
       "      <td>0.000286</td>\n",
       "      <td>0.000286</td>\n",
       "      <td>0.577247</td>\n",
       "      <td>0.000859</td>\n",
       "      <td>0.577247</td>\n",
       "      <td>0.000286</td>\n",
       "      <td>0.577533</td>\n",
       "      <td>0.002003</td>\n",
       "      <td>0</td>\n",
       "    </tr>\n",
       "    <tr>\n",
       "      <th>4</th>\n",
       "      <td>19583</td>\n",
       "      <td>38629</td>\n",
       "      <td>24551</td>\n",
       "      <td>0.004865</td>\n",
       "      <td>0.0</td>\n",
       "      <td>0.0</td>\n",
       "      <td>0.000286</td>\n",
       "      <td>0.000286</td>\n",
       "      <td>0.000572</td>\n",
       "      <td>0.000572</td>\n",
       "      <td>0.577246</td>\n",
       "      <td>0.001145</td>\n",
       "      <td>0.577246</td>\n",
       "      <td>0.000286</td>\n",
       "      <td>0.577532</td>\n",
       "      <td>0.002003</td>\n",
       "      <td>0</td>\n",
       "    </tr>\n",
       "  </tbody>\n",
       "</table>\n",
       "</div>"
      ],
      "text/plain": [
       "   id_subscriptionMain  id_order     id  subscriptions_type  submain_state  \\\n",
       "0                 3504     25244  22650            0.003437            0.0   \n",
       "1                 3504     25244  22650            0.003437            0.0   \n",
       "2                 3504     25244  22650            0.003437            0.0   \n",
       "3                19583     38629  24551            0.004865            0.0   \n",
       "4                19583     38629  24551            0.004865            0.0   \n",
       "\n",
       "   newsletter       age  abonnement_succ  total_sub  abonnement_consec  \\\n",
       "0         0.0  0.000000         0.000286   0.000286           0.000286   \n",
       "1         0.0  0.000000         0.000286   0.000573           0.000573   \n",
       "2         0.0  0.000000         0.000286   0.000859           0.000859   \n",
       "3         0.0  0.000286         0.000286   0.000286           0.000286   \n",
       "4         0.0  0.000286         0.000286   0.000572           0.000572   \n",
       "\n",
       "   year_pass  month_pass  begin_year  begin_month  end_year  end_month  churn  \n",
       "0   0.577346    0.000859    0.577346     0.001146  0.577346   0.001432      0  \n",
       "1   0.577345    0.001146    0.577345     0.001146  0.577345   0.001432      0  \n",
       "2   0.577345    0.001432    0.577345     0.001146  0.577345   0.001432      1  \n",
       "3   0.577247    0.000859    0.577247     0.000286  0.577533   0.002003      0  \n",
       "4   0.577246    0.001145    0.577246     0.000286  0.577532   0.002003      0  "
      ]
     },
     "execution_count": 32,
     "metadata": {},
     "output_type": "execute_result"
    }
   ],
   "source": [
    "df.iloc[:,3:-1] = normalize(df.iloc[:,3:-1])\n",
    "\n",
    "df.head()"
   ]
  },
  {
   "cell_type": "markdown",
   "metadata": {},
   "source": [
    "## machine learning"
   ]
  },
  {
   "cell_type": "markdown",
   "metadata": {},
   "source": [
    "**definir les features**\n",
    "\n",
    "methode 1: utiliser tous les champs comme features"
   ]
  },
  {
   "cell_type": "code",
   "execution_count": 33,
   "metadata": {},
   "outputs": [],
   "source": [
    "df5 = copy.deepcopy(df)\n",
    "# df = copy.deepcopy(df5)"
   ]
  },
  {
   "cell_type": "code",
   "execution_count": 34,
   "metadata": {},
   "outputs": [],
   "source": [
    "ids = ['id_subscriptionMain', 'id', 'id_order']\n",
    "label = ['churn']\n",
    "\n",
    "features = [i for i in df.columns.values.tolist() if i not in ['id_subscriptionMain', 'id', 'id_order', 'churn']]\n",
    "data = [j for j in df.columns.values.tolist() if j not in ['id_subscriptionMain', 'id', 'id_order']]\n",
    "\n",
    "df_id = df[ids] # id_subscriptionMain, id_order et id\n",
    "df_data = df[data] # features + label\n",
    "df_features = df[features] # tous les champs sauf ids et churn\n",
    "df_label = df[label] # churn"
   ]
  },
  {
   "cell_type": "code",
   "execution_count": 35,
   "metadata": {},
   "outputs": [],
   "source": [
    "train_data = df.columns.values.tolist()\n",
    "train_features = [i for i in train_data if i not in ['id_subscriptionMain', 'id', 'id_order', 'churn']]\n",
    "\n",
    "df = df[train_data]\n",
    "df_features = df[train_features]"
   ]
  },
  {
   "cell_type": "markdown",
   "metadata": {},
   "source": [
    "**splitting data**"
   ]
  },
  {
   "cell_type": "code",
   "execution_count": 36,
   "metadata": {},
   "outputs": [],
   "source": [
    "df6 = copy.deepcopy(df)\n",
    "# df = copy.deepcopy(df6)"
   ]
  },
  {
   "cell_type": "code",
   "execution_count": 37,
   "metadata": {},
   "outputs": [
    {
     "name": "stdout",
     "output_type": "stream",
     "text": [
      "(100864, 17)\n",
      "(10086, 17)\n"
     ]
    }
   ],
   "source": [
    "# echantilloner au hasard une quantite des données, car svm coute trop de temps si la quantitie des donnees est trop grande.\n",
    "print(df.shape)\n",
    "df = df.sample(frac=0.1, random_state=70, axis=0)\n",
    "\n",
    "print(df.shape)"
   ]
  },
  {
   "cell_type": "code",
   "execution_count": 38,
   "metadata": {},
   "outputs": [
    {
     "name": "stdout",
     "output_type": "stream",
     "text": [
      "0    6412\n",
      "1     548\n",
      "2     100\n",
      "Name: churn, dtype: int64\n"
     ]
    }
   ],
   "source": [
    "# taille train : test = 7:3\n",
    "train,test = train_test_split(df,test_size = .3 ,random_state = 40)\n",
    "\n",
    "test_id_sub = test['id_subscriptionMain'].astype(int)\n",
    "# test_id_ord = test['id_order'].astype(int)\n",
    "# test_id_cust = test['id'].astype(int)\n",
    "\n",
    "cols = [i for i in df_features.columns.values.tolist()]\n",
    "\n",
    "train_X = train[cols]\n",
    "train_Y = train['churn']\n",
    "test_X  = test[cols]\n",
    "test_Y  = test['churn']\n",
    "\n",
    "X = pd.concat((train_X, test_X), axis=0)\n",
    "y = pd.concat((train_Y, test_Y), axis=0)\n",
    "\n",
    "print(train_Y.value_counts())"
   ]
  },
  {
   "cell_type": "markdown",
   "metadata": {},
   "source": [
    "**equilibrer les donnees**"
   ]
  },
  {
   "cell_type": "markdown",
   "metadata": {},
   "source": [
    "on trouve que le churn contient trop de valeur 0, on va donc equilibrer les donnees"
   ]
  },
  {
   "cell_type": "code",
   "execution_count": 39,
   "metadata": {},
   "outputs": [],
   "source": [
    "data_cols = [i for i in train_X.columns.values.tolist()]\n",
    "\n",
    "X_sampled = train_X\n",
    "y_sampled = train_Y"
   ]
  },
  {
   "cell_type": "code",
   "execution_count": 40,
   "metadata": {},
   "outputs": [
    {
     "name": "stdout",
     "output_type": "stream",
     "text": [
      "0    6412\n",
      "1     548\n",
      "2     100\n",
      "Name: churn, dtype: int64\n",
      "2    6412\n",
      "1    6412\n",
      "0    6412\n",
      "dtype: int64\n"
     ]
    },
    {
     "name": "stderr",
     "output_type": "stream",
     "text": [
      "Using TensorFlow backend.\n"
     ]
    }
   ],
   "source": [
    "print(pd.Series(y_sampled).value_counts())\n",
    "\n",
    "# Over Sampling pour resoudre le probleme de desequilibre\n",
    "from imblearn.over_sampling import SMOTE\n",
    "smotte = SMOTE()\n",
    "X_resampled, y_resampled = smotte.fit_sample(X_sampled, y_sampled)\n",
    "\n",
    "print(pd.Series(y_resampled).value_counts())\n",
    "\n",
    "\n",
    "# # Under Sampling pour resoudre le probleme de desequilibre\n",
    "# from imblearn.under_sampling import RandomUnderSampler\n",
    "# rus= RandomUnderSampler() \n",
    "# X_resampled, y_resampled = rus.fit_sample(X_sampled, y_sampled)\n",
    "\n",
    "# print(pd.Series(y_resampled).value_counts())\n",
    "\n",
    "\n",
    "# combine pour resoudre le probleme de desequilibre\n",
    "# from imblearn.combine import SMOTEENN\n",
    "# smote_enn = SMOTEENN(random_state=0)\n",
    "# X_resampled, y_resampled = smote_enn.fit_sample(X_sampled, y_sampled)\n",
    "\n",
    "# print(pd.Series(y_resampled).value_counts())"
   ]
  },
  {
   "cell_type": "code",
   "execution_count": 41,
   "metadata": {},
   "outputs": [],
   "source": [
    "train_X = pd.DataFrame(X_resampled, columns=data_cols)\n",
    "train_Y = pd.DataFrame(y_resampled, columns=['churn'])"
   ]
  },
  {
   "cell_type": "markdown",
   "metadata": {},
   "source": [
    "**logistic regression**"
   ]
  },
  {
   "cell_type": "code",
   "execution_count": 42,
   "metadata": {},
   "outputs": [
    {
     "name": "stderr",
     "output_type": "stream",
     "text": [
      "D:\\ASUS\\Anaconda3\\lib\\site-packages\\sklearn\\utils\\validation.py:724: DataConversionWarning: A column-vector y was passed when a 1d array was expected. Please change the shape of y to (n_samples, ), for example using ravel().\n",
      "  y = column_or_1d(y, warn=True)\n"
     ]
    },
    {
     "name": "stdout",
     "output_type": "stream",
     "text": [
      "LR Accuracy score = 23.198942498347655\n"
     ]
    }
   ],
   "source": [
    "# Logistic Regression classifier\n",
    "LR = LogisticRegression(solver='lbfgs', multi_class='auto')\n",
    "LR.fit(train_X, train_Y)\n",
    "\n",
    "# prediction\n",
    "\n",
    "# 2 prediction type\n",
    "y_pred_lr = LR.predict(test_X) \n",
    "y_pred_prob_lr = LR.predict_proba(test_X) # Predict probabilities\n",
    "\n",
    "# accuracy_score\n",
    "LR_accuracy = accuracy_score(test_Y,y_pred_lr)*100\n",
    "print (\"LR Accuracy score = {}\".format(LR_accuracy))"
   ]
  },
  {
   "cell_type": "code",
   "execution_count": 43,
   "metadata": {},
   "outputs": [],
   "source": [
    "# y_pred_prob_lr_0 = y_pred_prob_lr[:,0]\n",
    "# y_pred_prob_lr_1 = y_pred_prob_lr[:,1]\n",
    "# y_pred_prob_lr_2 = y_pred_prob_lr[:,2]\n",
    "\n",
    "# result_prob_lr = pd.DataFrame({'id_subscriptionMain':test_id_sub.as_matrix(), \\\n",
    "#                                'churn_0':y_pred_prob_lr_0, 'churn_1':y_pred_prob_lr_1,\\\n",
    "#                               'churn_2':y_pred_prob_lr_2})\n",
    "# result_prob_lr.head()"
   ]
  },
  {
   "cell_type": "code",
   "execution_count": 44,
   "metadata": {},
   "outputs": [
    {
     "name": "stdout",
     "output_type": "stream",
     "text": [
      "[0 1 2]\n",
      "[0 1 2]\n"
     ]
    }
   ],
   "source": [
    "print(np.unique(test_Y))\n",
    "print(np.unique(y_pred_lr))"
   ]
  },
  {
   "cell_type": "code",
   "execution_count": 45,
   "metadata": {},
   "outputs": [
    {
     "name": "stdout",
     "output_type": "stream",
     "text": [
      "confusion matrix\n",
      "[[ 573  554 1620]\n",
      " [  23   92  116]\n",
      " [   2    9   37]]\n"
     ]
    }
   ],
   "source": [
    "# confusion matrix\n",
    "lr_confsmat = confusion_matrix(test_Y, y_pred_lr, labels=[0,1,2])\n",
    "\n",
    "print(\"confusion matrix\")\n",
    "print(lr_confsmat)"
   ]
  },
  {
   "cell_type": "markdown",
   "metadata": {},
   "source": [
    "la performance de logistic regression n'est pas bien, beaucoup de donnees sont mal classifies"
   ]
  },
  {
   "cell_type": "code",
   "execution_count": 46,
   "metadata": {},
   "outputs": [
    {
     "name": "stdout",
     "output_type": "stream",
     "text": [
      "classification_report(left: labels):\n",
      "              precision    recall  f1-score   support\n",
      "\n",
      "           0       0.96      0.21      0.34      2747\n",
      "           1       0.14      0.40      0.21       231\n",
      "           2       0.02      0.77      0.04        48\n",
      "\n",
      "    accuracy                           0.23      3026\n",
      "   macro avg       0.37      0.46      0.20      3026\n",
      "weighted avg       0.88      0.23      0.33      3026\n",
      "\n"
     ]
    }
   ],
   "source": [
    "# classification report\n",
    "\n",
    "# precision: how many classifications are given correctly\n",
    "# recall: the correctness of this classification. The greater the recall rate, the better the recognition of this class.\n",
    "# f1-socre: 2*precision*recall/(precision+recall)\n",
    "# support: actual number of samples per class\n",
    "\n",
    "lr_clsreport = classification_report(test_Y, y_pred_lr)\n",
    "\n",
    "print(\"classification_report(left: labels):\")\n",
    "print(lr_clsreport)"
   ]
  },
  {
   "cell_type": "code",
   "execution_count": 47,
   "metadata": {},
   "outputs": [
    {
     "data": {
      "text/html": [
       "<div>\n",
       "<style scoped>\n",
       "    .dataframe tbody tr th:only-of-type {\n",
       "        vertical-align: middle;\n",
       "    }\n",
       "\n",
       "    .dataframe tbody tr th {\n",
       "        vertical-align: top;\n",
       "    }\n",
       "\n",
       "    .dataframe thead th {\n",
       "        text-align: right;\n",
       "    }\n",
       "</style>\n",
       "<table border=\"1\" class=\"dataframe\">\n",
       "  <thead>\n",
       "    <tr style=\"text-align: right;\">\n",
       "      <th></th>\n",
       "      <th>id_subscriptionMain</th>\n",
       "      <th>churn</th>\n",
       "    </tr>\n",
       "  </thead>\n",
       "  <tbody>\n",
       "    <tr>\n",
       "      <th>0</th>\n",
       "      <td>20992</td>\n",
       "      <td>2</td>\n",
       "    </tr>\n",
       "    <tr>\n",
       "      <th>1</th>\n",
       "      <td>2181</td>\n",
       "      <td>0</td>\n",
       "    </tr>\n",
       "    <tr>\n",
       "      <th>2</th>\n",
       "      <td>22839</td>\n",
       "      <td>1</td>\n",
       "    </tr>\n",
       "    <tr>\n",
       "      <th>3</th>\n",
       "      <td>14010</td>\n",
       "      <td>0</td>\n",
       "    </tr>\n",
       "    <tr>\n",
       "      <th>4</th>\n",
       "      <td>9737</td>\n",
       "      <td>2</td>\n",
       "    </tr>\n",
       "  </tbody>\n",
       "</table>\n",
       "</div>"
      ],
      "text/plain": [
       "   id_subscriptionMain  churn\n",
       "0                20992      2\n",
       "1                 2181      0\n",
       "2                22839      1\n",
       "3                14010      0\n",
       "4                 9737      2"
      ]
     },
     "execution_count": 47,
     "metadata": {},
     "output_type": "execute_result"
    }
   ],
   "source": [
    "# visualisation le resultat de prediction\n",
    "result_lr = pd.DataFrame({'id_subscriptionMain':test_id_sub.values, 'churn':y_pred_lr.astype(np.int32)})\n",
    "result_lr.head()"
   ]
  },
  {
   "cell_type": "markdown",
   "metadata": {},
   "source": [
    "**Decision Tree**"
   ]
  },
  {
   "cell_type": "code",
   "execution_count": 48,
   "metadata": {},
   "outputs": [
    {
     "name": "stdout",
     "output_type": "stream",
     "text": [
      "DT Accuracy score = 93.95241242564441\n"
     ]
    }
   ],
   "source": [
    "# decision tree classifier\n",
    "\n",
    "DT = DecisionTreeClassifier(random_state=90)\n",
    "\n",
    "DT.fit(train_X, train_Y)\n",
    "\n",
    "# prediction\n",
    "\n",
    "y_pred_dt = DT.predict(test_X)\n",
    "y_pred_prob_dt = DT.predict_proba(test_X)\n",
    "\n",
    "# accuracy score\n",
    "DT_accuracy = accuracy_score(test_Y,y_pred_dt)*100\n",
    "print (\"DT Accuracy score = {}\".format(DT_accuracy))"
   ]
  },
  {
   "cell_type": "code",
   "execution_count": 49,
   "metadata": {},
   "outputs": [],
   "source": [
    "# y_pred_prob_dt_0 = y_pred_prob_dt[:,0]\n",
    "# y_pred_prob_dt_1 = y_pred_prob_dt[:,1]\n",
    "# y_pred_prob_dt_2 = y_pred_prob_dt[:,2]\n",
    "\n",
    "# result_prob_dt = pd.DataFrame({'id_subscriptionMain':test_id_sub.as_matrix(), \\\n",
    "#                                'churn_0':y_pred_prob_dt_0, 'churn_1':y_pred_prob_dt_1,\\\n",
    "#                               'churn_2':y_pred_prob_dt_2})\n",
    "# result_prob_dt.head()"
   ]
  },
  {
   "cell_type": "code",
   "execution_count": 50,
   "metadata": {},
   "outputs": [
    {
     "name": "stdout",
     "output_type": "stream",
     "text": [
      "[0 1 2]\n",
      "[0 1 2]\n"
     ]
    }
   ],
   "source": [
    "print(np.unique(test_Y))\n",
    "print(np.unique(y_pred_dt))"
   ]
  },
  {
   "cell_type": "code",
   "execution_count": 51,
   "metadata": {},
   "outputs": [
    {
     "name": "stdout",
     "output_type": "stream",
     "text": [
      "confusion matrix\n",
      "[[2630  117    0]\n",
      " [  66  165    0]\n",
      " [   0    0   48]]\n"
     ]
    }
   ],
   "source": [
    "# confusion matrix\n",
    "dt_confsmat = confusion_matrix(test_Y, y_pred_dt, labels=[0,1,2])\n",
    "\n",
    "print(\"confusion matrix\")\n",
    "print(dt_confsmat)"
   ]
  },
  {
   "cell_type": "code",
   "execution_count": 52,
   "metadata": {},
   "outputs": [
    {
     "name": "stdout",
     "output_type": "stream",
     "text": [
      "classification_report(left: labels):\n",
      "              precision    recall  f1-score   support\n",
      "\n",
      "           0       0.98      0.96      0.97      2747\n",
      "           1       0.59      0.71      0.64       231\n",
      "           2       1.00      1.00      1.00        48\n",
      "\n",
      "    accuracy                           0.94      3026\n",
      "   macro avg       0.85      0.89      0.87      3026\n",
      "weighted avg       0.95      0.94      0.94      3026\n",
      "\n"
     ]
    }
   ],
   "source": [
    "# classification report\n",
    "dt_clsreport = classification_report(test_Y, y_pred_dt)\n",
    "\n",
    "print(\"classification_report(left: labels):\")\n",
    "print(dt_clsreport)"
   ]
  },
  {
   "cell_type": "code",
   "execution_count": 53,
   "metadata": {},
   "outputs": [
    {
     "data": {
      "text/html": [
       "<div>\n",
       "<style scoped>\n",
       "    .dataframe tbody tr th:only-of-type {\n",
       "        vertical-align: middle;\n",
       "    }\n",
       "\n",
       "    .dataframe tbody tr th {\n",
       "        vertical-align: top;\n",
       "    }\n",
       "\n",
       "    .dataframe thead th {\n",
       "        text-align: right;\n",
       "    }\n",
       "</style>\n",
       "<table border=\"1\" class=\"dataframe\">\n",
       "  <thead>\n",
       "    <tr style=\"text-align: right;\">\n",
       "      <th></th>\n",
       "      <th>id_subscriptionMain</th>\n",
       "      <th>churn</th>\n",
       "    </tr>\n",
       "  </thead>\n",
       "  <tbody>\n",
       "    <tr>\n",
       "      <th>0</th>\n",
       "      <td>20992</td>\n",
       "      <td>0</td>\n",
       "    </tr>\n",
       "    <tr>\n",
       "      <th>1</th>\n",
       "      <td>2181</td>\n",
       "      <td>0</td>\n",
       "    </tr>\n",
       "    <tr>\n",
       "      <th>2</th>\n",
       "      <td>22839</td>\n",
       "      <td>0</td>\n",
       "    </tr>\n",
       "    <tr>\n",
       "      <th>3</th>\n",
       "      <td>14010</td>\n",
       "      <td>0</td>\n",
       "    </tr>\n",
       "    <tr>\n",
       "      <th>4</th>\n",
       "      <td>9737</td>\n",
       "      <td>1</td>\n",
       "    </tr>\n",
       "  </tbody>\n",
       "</table>\n",
       "</div>"
      ],
      "text/plain": [
       "   id_subscriptionMain  churn\n",
       "0                20992      0\n",
       "1                 2181      0\n",
       "2                22839      0\n",
       "3                14010      0\n",
       "4                 9737      1"
      ]
     },
     "execution_count": 53,
     "metadata": {},
     "output_type": "execute_result"
    }
   ],
   "source": [
    "result_dt = pd.DataFrame({'id_subscriptionMain':test_id_sub.values, 'churn':y_pred_dt.astype(np.int32)})\n",
    "result_dt.head()"
   ]
  },
  {
   "cell_type": "markdown",
   "metadata": {},
   "source": [
    "**Random Forest**"
   ]
  },
  {
   "cell_type": "code",
   "execution_count": 54,
   "metadata": {},
   "outputs": [
    {
     "name": "stderr",
     "output_type": "stream",
     "text": [
      "D:\\ASUS\\Anaconda3\\lib\\site-packages\\ipykernel_launcher.py:4: DataConversionWarning: A column-vector y was passed when a 1d array was expected. Please change the shape of y to (n_samples,), for example using ravel().\n",
      "  after removing the cwd from sys.path.\n"
     ]
    },
    {
     "name": "stdout",
     "output_type": "stream",
     "text": [
      "RF Accuracy score = 94.64639788499669\n"
     ]
    }
   ],
   "source": [
    "# random forest classifier\n",
    "\n",
    "RF = RandomForestClassifier(n_estimators=100, random_state=123)\n",
    "RF.fit(train_X, train_Y)\n",
    "\n",
    "# prediction\n",
    "\n",
    "y_pred_rf = RF.predict(test_X)\n",
    "y_pred_prob_rf = RF.predict_proba(test_X)\n",
    "\n",
    "# accuracy_score\n",
    "RF_accuracy = accuracy_score(test_Y,y_pred_rf)*100\n",
    "print (\"RF Accuracy score = {}\".format(RF_accuracy))"
   ]
  },
  {
   "cell_type": "code",
   "execution_count": 55,
   "metadata": {},
   "outputs": [],
   "source": [
    "# y_pred_prob_rf_0 = y_pred_prob_rf[:,0]\n",
    "# y_pred_prob_rf_1 = y_pred_prob_rf[:,1]\n",
    "# y_pred_prob_rf_2 = y_pred_prob_rf[:,2]\n",
    "\n",
    "# result_prob_rf = pd.DataFrame({'id_subscriptionMain':test_id_sub.as_matrix(), \\\n",
    "#                                'churn_0':y_pred_prob_rf_0, 'churn_1':y_pred_prob_rf_1,\\\n",
    "#                               'churn_2':y_pred_prob_rf_2})\n",
    "# result_prob_rf.head()"
   ]
  },
  {
   "cell_type": "code",
   "execution_count": 56,
   "metadata": {},
   "outputs": [
    {
     "name": "stdout",
     "output_type": "stream",
     "text": [
      "[0 1 2]\n",
      "[0 1 2]\n"
     ]
    }
   ],
   "source": [
    "print(np.unique(test_Y))\n",
    "print(np.unique(y_pred_rf))"
   ]
  },
  {
   "cell_type": "code",
   "execution_count": 57,
   "metadata": {},
   "outputs": [
    {
     "name": "stdout",
     "output_type": "stream",
     "text": [
      "confusion matrix\n",
      "[[2670   77    0]\n",
      " [  85  146    0]\n",
      " [   0    0   48]]\n"
     ]
    }
   ],
   "source": [
    "# confusion matrix\n",
    "rf_confsmat = confusion_matrix(test_Y, y_pred_rf, labels=[0,1,2])\n",
    "\n",
    "print(\"confusion matrix\")\n",
    "print(rf_confsmat)"
   ]
  },
  {
   "cell_type": "code",
   "execution_count": 58,
   "metadata": {},
   "outputs": [
    {
     "name": "stdout",
     "output_type": "stream",
     "text": [
      "classification_report(left: labels):\n",
      "              precision    recall  f1-score   support\n",
      "\n",
      "           0       0.97      0.97      0.97      2747\n",
      "           1       0.65      0.63      0.64       231\n",
      "           2       1.00      1.00      1.00        48\n",
      "\n",
      "    accuracy                           0.95      3026\n",
      "   macro avg       0.87      0.87      0.87      3026\n",
      "weighted avg       0.95      0.95      0.95      3026\n",
      "\n"
     ]
    }
   ],
   "source": [
    "# classification report\n",
    "rf_clsreport = classification_report(test_Y, y_pred_rf)\n",
    "\n",
    "print(\"classification_report(left: labels):\")\n",
    "print(rf_clsreport)"
   ]
  },
  {
   "cell_type": "code",
   "execution_count": 59,
   "metadata": {},
   "outputs": [
    {
     "data": {
      "text/html": [
       "<div>\n",
       "<style scoped>\n",
       "    .dataframe tbody tr th:only-of-type {\n",
       "        vertical-align: middle;\n",
       "    }\n",
       "\n",
       "    .dataframe tbody tr th {\n",
       "        vertical-align: top;\n",
       "    }\n",
       "\n",
       "    .dataframe thead th {\n",
       "        text-align: right;\n",
       "    }\n",
       "</style>\n",
       "<table border=\"1\" class=\"dataframe\">\n",
       "  <thead>\n",
       "    <tr style=\"text-align: right;\">\n",
       "      <th></th>\n",
       "      <th>id_subscriptionMain</th>\n",
       "      <th>churn</th>\n",
       "    </tr>\n",
       "  </thead>\n",
       "  <tbody>\n",
       "    <tr>\n",
       "      <th>0</th>\n",
       "      <td>20992</td>\n",
       "      <td>0</td>\n",
       "    </tr>\n",
       "    <tr>\n",
       "      <th>1</th>\n",
       "      <td>2181</td>\n",
       "      <td>0</td>\n",
       "    </tr>\n",
       "    <tr>\n",
       "      <th>2</th>\n",
       "      <td>22839</td>\n",
       "      <td>0</td>\n",
       "    </tr>\n",
       "    <tr>\n",
       "      <th>3</th>\n",
       "      <td>14010</td>\n",
       "      <td>0</td>\n",
       "    </tr>\n",
       "    <tr>\n",
       "      <th>4</th>\n",
       "      <td>9737</td>\n",
       "      <td>1</td>\n",
       "    </tr>\n",
       "  </tbody>\n",
       "</table>\n",
       "</div>"
      ],
      "text/plain": [
       "   id_subscriptionMain  churn\n",
       "0                20992      0\n",
       "1                 2181      0\n",
       "2                22839      0\n",
       "3                14010      0\n",
       "4                 9737      1"
      ]
     },
     "execution_count": 59,
     "metadata": {},
     "output_type": "execute_result"
    }
   ],
   "source": [
    "result_rf = pd.DataFrame({'id_subscriptionMain':test_id_sub.values, 'churn':y_pred_rf.astype(np.int32)})\n",
    "result_rf.head()"
   ]
  },
  {
   "cell_type": "markdown",
   "metadata": {},
   "source": [
    "**Neural network**"
   ]
  },
  {
   "cell_type": "code",
   "execution_count": 60,
   "metadata": {},
   "outputs": [],
   "source": [
    "#Create feature columns for estimator\n",
    "def make_feature_cols():\n",
    "    input_columns = [tf.feature_column.numeric_column(k) for k in train_features]\n",
    "    return input_columns\n",
    "\n",
    "#Train, eval and predict input functions to read from Pandas Dataframe\n",
    "def train_func(train_x,train_y,batch_size):\n",
    "    dataset = tf.data.Dataset.from_tensor_slices((dict(train_x), train_y))\n",
    "    dataset = dataset.shuffle(1000).repeat().batch(batch_size)\n",
    "    return dataset\n",
    "\n",
    "def eval_input_fn(features, labels, batch_size):\n",
    "    features=dict(features)\n",
    "    if labels is None:\n",
    "        # No labels, use only features.\n",
    "        inputs = features\n",
    "    else:\n",
    "        inputs = (features, labels)\n",
    "    dataset = tf.data.Dataset.from_tensor_slices(inputs)\n",
    " \n",
    "    assert batch_size is not None, \"batch_size must not be None\"\n",
    "    dataset = dataset.batch(batch_size)\n",
    "    return dataset"
   ]
  },
  {
   "cell_type": "code",
   "execution_count": 61,
   "metadata": {
    "scrolled": true
   },
   "outputs": [
    {
     "name": "stdout",
     "output_type": "stream",
     "text": [
      "INFO:tensorflow:Using default config.\n",
      "INFO:tensorflow:Using config: {'_model_dir': 'envouthe_algo', '_tf_random_seed': None, '_save_summary_steps': 100, '_save_checkpoints_steps': None, '_save_checkpoints_secs': 600, '_session_config': allow_soft_placement: true\n",
      "graph_options {\n",
      "  rewrite_options {\n",
      "    meta_optimizer_iterations: ONE\n",
      "  }\n",
      "}\n",
      ", '_keep_checkpoint_max': 5, '_keep_checkpoint_every_n_hours': 10000, '_log_step_count_steps': 100, '_train_distribute': None, '_device_fn': None, '_protocol': None, '_eval_distribute': None, '_experimental_distribute': None, '_service': None, '_cluster_spec': <tensorflow.python.training.server_lib.ClusterSpec object at 0x0000016788985470>, '_task_type': 'worker', '_task_id': 0, '_global_id_in_cluster': 0, '_master': '', '_evaluation_master': '', '_is_chief': True, '_num_ps_replicas': 0, '_num_worker_replicas': 1}\n"
     ]
    }
   ],
   "source": [
    "import shutil\n",
    "\n",
    "OUTDIR = 'envouthe_algo'\n",
    "shutil.rmtree(OUTDIR, ignore_errors = True) # start fresh each time\n",
    "tf.logging.set_verbosity(tf.logging.INFO)\n",
    "\n",
    "# DNN classifier with tf.Estimator framework\n",
    "\n",
    "model = tf.estimator.DNNClassifier(\n",
    "    model_dir = OUTDIR,\n",
    "    feature_columns=make_feature_cols(),\n",
    "    hidden_units=[64, 32], # specify hidden layers\n",
    "    n_classes=3, # classify the output classes\n",
    "    optimizer=lambda: tf.train.AdamOptimizer(\n",
    "        learning_rate=tf.train.exponential_decay(\n",
    "            learning_rate=0.1,\n",
    "            global_step=tf.train.get_global_step(),\n",
    "            decay_steps=10000,\n",
    "            decay_rate=0.96))\n",
    ")"
   ]
  },
  {
   "cell_type": "code",
   "execution_count": 62,
   "metadata": {
    "scrolled": true
   },
   "outputs": [
    {
     "name": "stdout",
     "output_type": "stream",
     "text": [
      "INFO:tensorflow:Calling model_fn.\n",
      "INFO:tensorflow:Done calling model_fn.\n",
      "INFO:tensorflow:Create CheckpointSaverHook.\n",
      "INFO:tensorflow:Graph was finalized.\n",
      "INFO:tensorflow:Running local_init_op.\n",
      "INFO:tensorflow:Done running local_init_op.\n",
      "INFO:tensorflow:Saving checkpoints for 0 into envouthe_algo\\model.ckpt.\n",
      "INFO:tensorflow:loss = 108.46326, step = 1\n",
      "INFO:tensorflow:global_step/sec: 426.555\n",
      "INFO:tensorflow:loss = 17.921932, step = 101 (0.234 sec)\n",
      "INFO:tensorflow:global_step/sec: 409.253\n",
      "INFO:tensorflow:loss = 347.74786, step = 201 (0.244 sec)\n",
      "INFO:tensorflow:global_step/sec: 522.193\n",
      "INFO:tensorflow:loss = 2.5240562, step = 301 (0.193 sec)\n",
      "INFO:tensorflow:global_step/sec: 544.824\n",
      "INFO:tensorflow:loss = 81.60372, step = 401 (0.182 sec)\n",
      "INFO:tensorflow:global_step/sec: 622.688\n",
      "INFO:tensorflow:loss = 5.962652, step = 501 (0.161 sec)\n",
      "INFO:tensorflow:global_step/sec: 563.302\n",
      "INFO:tensorflow:loss = 76.532906, step = 601 (0.179 sec)\n",
      "INFO:tensorflow:global_step/sec: 503.72\n",
      "INFO:tensorflow:loss = 181.43558, step = 701 (0.199 sec)\n",
      "INFO:tensorflow:global_step/sec: 516.844\n",
      "INFO:tensorflow:loss = 65.16877, step = 801 (0.193 sec)\n",
      "INFO:tensorflow:global_step/sec: 565.772\n",
      "INFO:tensorflow:loss = 293.63586, step = 901 (0.176 sec)\n",
      "INFO:tensorflow:Saving checkpoints for 1000 into envouthe_algo\\model.ckpt.\n",
      "INFO:tensorflow:Loss for final step: 42.422363.\n"
     ]
    },
    {
     "data": {
      "text/plain": [
       "<tensorflow.python.estimator.canned.dnn.DNNClassifier at 0x16788985160>"
      ]
     },
     "execution_count": 62,
     "metadata": {},
     "output_type": "execute_result"
    }
   ],
   "source": [
    "# train\n",
    "\n",
    "batch_size = 100\n",
    "train_steps = 1000\n",
    "\n",
    "model.train(\n",
    "    input_fn=lambda:train_func(train_X,train_Y,batch_size),\n",
    "    steps=train_steps\n",
    ")"
   ]
  },
  {
   "cell_type": "code",
   "execution_count": 63,
   "metadata": {},
   "outputs": [
    {
     "name": "stdout",
     "output_type": "stream",
     "text": [
      "INFO:tensorflow:Calling model_fn.\n",
      "INFO:tensorflow:Done calling model_fn.\n",
      "INFO:tensorflow:Starting evaluation at 2019-09-13-12:37:37\n",
      "INFO:tensorflow:Graph was finalized.\n",
      "INFO:tensorflow:Restoring parameters from envouthe_algo\\model.ckpt-1000\n",
      "INFO:tensorflow:Running local_init_op.\n",
      "INFO:tensorflow:Done running local_init_op.\n",
      "INFO:tensorflow:Finished evaluation at 2019-09-13-12:37:37\n",
      "INFO:tensorflow:Saving dict for global step 1000: accuracy = 0.90779907, average_loss = 0.43310738, global_step = 1000, loss = 42.276867\n",
      "INFO:tensorflow:Saving 'checkpoint_path' summary for global step 1000: envouthe_algo\\model.ckpt-1000\n"
     ]
    }
   ],
   "source": [
    "# evaluation\n",
    "batch_size=100\n",
    "\n",
    "eval_result = model.evaluate(\n",
    "    input_fn=lambda:eval_input_fn(test_X, test_Y,batch_size)\n",
    ")"
   ]
  },
  {
   "cell_type": "code",
   "execution_count": 64,
   "metadata": {
    "scrolled": true
   },
   "outputs": [
    {
     "name": "stdout",
     "output_type": "stream",
     "text": [
      "INFO:tensorflow:Calling model_fn.\n",
      "INFO:tensorflow:Done calling model_fn.\n",
      "INFO:tensorflow:Graph was finalized.\n",
      "INFO:tensorflow:Restoring parameters from envouthe_algo\\model.ckpt-1000\n",
      "INFO:tensorflow:Running local_init_op.\n",
      "INFO:tensorflow:Done running local_init_op.\n"
     ]
    }
   ],
   "source": [
    "# prediction\n",
    "\n",
    "y_pred_dnn = model.predict(\n",
    "        input_fn=lambda:eval_input_fn(test_X,labels=None,batch_size=batch_size))\n",
    "\n",
    "predict_arr = []\n",
    "# y_pred_prob_dnn_0 = []\n",
    "# y_pred_prob_dnn_1 = []\n",
    "# y_pred_prob_dnn_2 = []\n",
    "\n",
    "for predict in y_pred_dnn:\n",
    "    predict_arr.append(predict['probabilities'].argmax())\n",
    "#     y_pred_prob_dnn_0.append(predict['probabilities'][0])\n",
    "#     y_pred_prob_dnn_1.append(predict['probabilities'][1])\n",
    "#     y_pred_prob_dnn_2.append(predict['probabilities'][2])"
   ]
  },
  {
   "cell_type": "code",
   "execution_count": 65,
   "metadata": {},
   "outputs": [
    {
     "name": "stdout",
     "output_type": "stream",
     "text": [
      "DNN  Accuracy score = 90.77990746860542\n"
     ]
    }
   ],
   "source": [
    "# accuracy_score\n",
    "DNN_accuracy = accuracy_score(test_Y,predict_arr)*100\n",
    "print (\"DNN  Accuracy score = {}\".format(DNN_accuracy))"
   ]
  },
  {
   "cell_type": "code",
   "execution_count": 66,
   "metadata": {},
   "outputs": [
    {
     "name": "stdout",
     "output_type": "stream",
     "text": [
      "[0 1 2]\n",
      "[0]\n"
     ]
    }
   ],
   "source": [
    "print(np.unique(test_Y))\n",
    "print(np.unique(predict_arr))"
   ]
  },
  {
   "cell_type": "code",
   "execution_count": 67,
   "metadata": {},
   "outputs": [
    {
     "name": "stdout",
     "output_type": "stream",
     "text": [
      "confusion matrix\n",
      "[[2747    0    0]\n",
      " [ 231    0    0]\n",
      " [  48    0    0]]\n"
     ]
    }
   ],
   "source": [
    "# confusion matrix\n",
    "dnn_confsmat = confusion_matrix(test_Y, predict_arr, labels=[0,1,2])\n",
    "print(\"confusion matrix\")\n",
    "print(dnn_confsmat)"
   ]
  },
  {
   "cell_type": "markdown",
   "metadata": {},
   "source": [
    "toutes les valeurs sont classifiees comme la valeur 2"
   ]
  },
  {
   "cell_type": "code",
   "execution_count": 68,
   "metadata": {},
   "outputs": [
    {
     "name": "stdout",
     "output_type": "stream",
     "text": [
      "classification_report(left: labels):\n",
      "              precision    recall  f1-score   support\n",
      "\n",
      "           0       0.91      1.00      0.95      2747\n",
      "           1       0.00      0.00      0.00       231\n",
      "           2       0.00      0.00      0.00        48\n",
      "\n",
      "    accuracy                           0.91      3026\n",
      "   macro avg       0.30      0.33      0.32      3026\n",
      "weighted avg       0.82      0.91      0.86      3026\n",
      "\n"
     ]
    },
    {
     "name": "stderr",
     "output_type": "stream",
     "text": [
      "D:\\ASUS\\Anaconda3\\lib\\site-packages\\sklearn\\metrics\\classification.py:1437: UndefinedMetricWarning: Precision and F-score are ill-defined and being set to 0.0 in labels with no predicted samples.\n",
      "  'precision', 'predicted', average, warn_for)\n",
      "D:\\ASUS\\Anaconda3\\lib\\site-packages\\sklearn\\metrics\\classification.py:1437: UndefinedMetricWarning: Precision and F-score are ill-defined and being set to 0.0 in labels with no predicted samples.\n",
      "  'precision', 'predicted', average, warn_for)\n",
      "D:\\ASUS\\Anaconda3\\lib\\site-packages\\sklearn\\metrics\\classification.py:1437: UndefinedMetricWarning: Precision and F-score are ill-defined and being set to 0.0 in labels with no predicted samples.\n",
      "  'precision', 'predicted', average, warn_for)\n"
     ]
    }
   ],
   "source": [
    "# classification report\n",
    "dnn_clsreport = classification_report(test_Y, predict_arr)\n",
    "print(\"classification_report(left: labels):\")\n",
    "print(dnn_clsreport)"
   ]
  },
  {
   "cell_type": "code",
   "execution_count": 69,
   "metadata": {},
   "outputs": [
    {
     "data": {
      "text/html": [
       "<div>\n",
       "<style scoped>\n",
       "    .dataframe tbody tr th:only-of-type {\n",
       "        vertical-align: middle;\n",
       "    }\n",
       "\n",
       "    .dataframe tbody tr th {\n",
       "        vertical-align: top;\n",
       "    }\n",
       "\n",
       "    .dataframe thead th {\n",
       "        text-align: right;\n",
       "    }\n",
       "</style>\n",
       "<table border=\"1\" class=\"dataframe\">\n",
       "  <thead>\n",
       "    <tr style=\"text-align: right;\">\n",
       "      <th></th>\n",
       "      <th>id_subscriptionMain</th>\n",
       "      <th>churn</th>\n",
       "    </tr>\n",
       "  </thead>\n",
       "  <tbody>\n",
       "    <tr>\n",
       "      <th>0</th>\n",
       "      <td>20992</td>\n",
       "      <td>0</td>\n",
       "    </tr>\n",
       "    <tr>\n",
       "      <th>1</th>\n",
       "      <td>2181</td>\n",
       "      <td>0</td>\n",
       "    </tr>\n",
       "    <tr>\n",
       "      <th>2</th>\n",
       "      <td>22839</td>\n",
       "      <td>0</td>\n",
       "    </tr>\n",
       "    <tr>\n",
       "      <th>3</th>\n",
       "      <td>14010</td>\n",
       "      <td>0</td>\n",
       "    </tr>\n",
       "    <tr>\n",
       "      <th>4</th>\n",
       "      <td>9737</td>\n",
       "      <td>0</td>\n",
       "    </tr>\n",
       "  </tbody>\n",
       "</table>\n",
       "</div>"
      ],
      "text/plain": [
       "   id_subscriptionMain  churn\n",
       "0                20992      0\n",
       "1                 2181      0\n",
       "2                22839      0\n",
       "3                14010      0\n",
       "4                 9737      0"
      ]
     },
     "execution_count": 69,
     "metadata": {},
     "output_type": "execute_result"
    }
   ],
   "source": [
    "result_dnn = pd.DataFrame({'id_subscriptionMain':test_id_sub.values, 'churn':predict_arr})\n",
    "result_dnn.head()"
   ]
  },
  {
   "cell_type": "markdown",
   "metadata": {},
   "source": [
    "**SVM**"
   ]
  },
  {
   "cell_type": "code",
   "execution_count": 70,
   "metadata": {},
   "outputs": [
    {
     "name": "stderr",
     "output_type": "stream",
     "text": [
      "D:\\ASUS\\Anaconda3\\lib\\site-packages\\sklearn\\utils\\validation.py:724: DataConversionWarning: A column-vector y was passed when a 1d array was expected. Please change the shape of y to (n_samples, ), for example using ravel().\n",
      "  y = column_or_1d(y, warn=True)\n"
     ]
    },
    {
     "name": "stdout",
     "output_type": "stream",
     "text": [
      "SVM Accuracy score = 3.9986781229345674\n"
     ]
    }
   ],
   "source": [
    "# C-Support Vector Classification\n",
    "\n",
    "svc = SVC(gamma='auto', probability=True)\n",
    "svc.fit(train_X, train_Y)\n",
    "\n",
    "# prediction\n",
    "\n",
    "y_pred_svc = svc.predict(test_X)\n",
    "y_pred_prob_svc = svc.predict_proba(test_X)\n",
    "\n",
    "# accuracy_score\n",
    "SVM_accuracy = accuracy_score(test_Y,y_pred_svc)*100\n",
    "print (\"SVM Accuracy score = {}\".format(SVM_accuracy))"
   ]
  },
  {
   "cell_type": "code",
   "execution_count": 71,
   "metadata": {},
   "outputs": [],
   "source": [
    "# y_pred_prob_svc_0 = y_pred_prob_svc[:,0]\n",
    "# y_pred_prob_svc_1 = y_pred_prob_svc[:,1]\n",
    "# y_pred_prob_svc_2 = y_pred_prob_svc[:,2]\n",
    "# y_pred_prob_svc_3 = y_pred_prob_svc[:,3]\n",
    "\n",
    "# result_prob_svc = pd.DataFrame({'id_subscriptionMain':test_id_sub.as_matrix(), \\\n",
    "#                                'churn_0':y_pred_prob_svc_0, 'churn_1':y_pred_prob_svc_1,\\\n",
    "#                               'churn_2':y_pred_prob_svc_2, 'churn_3':y_pred_prob_svc_3})\n",
    "# result_prob_svc.head()"
   ]
  },
  {
   "cell_type": "code",
   "execution_count": 72,
   "metadata": {},
   "outputs": [
    {
     "name": "stdout",
     "output_type": "stream",
     "text": [
      "[0 1 2]\n",
      "[0 1 2]\n"
     ]
    }
   ],
   "source": [
    "print(np.unique(test_Y))\n",
    "print(np.unique(y_pred_svc))"
   ]
  },
  {
   "cell_type": "code",
   "execution_count": 73,
   "metadata": {},
   "outputs": [
    {
     "name": "stdout",
     "output_type": "stream",
     "text": [
      "confusion matrix\n",
      "[[  73   15 2659]\n",
      " [   3    0  228]\n",
      " [   0    0   48]]\n"
     ]
    }
   ],
   "source": [
    "# confusion matrix\n",
    "svm_confsmat = confusion_matrix(test_Y, y_pred_svc, labels=[0,1,2])\n",
    "print(\"confusion matrix\")\n",
    "print(svm_confsmat)"
   ]
  },
  {
   "cell_type": "markdown",
   "metadata": {},
   "source": [
    "les valeurs son mal classifiees"
   ]
  },
  {
   "cell_type": "code",
   "execution_count": 74,
   "metadata": {},
   "outputs": [
    {
     "name": "stdout",
     "output_type": "stream",
     "text": [
      "classification_report(left: labels):\n",
      "              precision    recall  f1-score   support\n",
      "\n",
      "           0       0.96      0.03      0.05      2747\n",
      "           1       0.00      0.00      0.00       231\n",
      "           2       0.02      1.00      0.03        48\n",
      "\n",
      "    accuracy                           0.04      3026\n",
      "   macro avg       0.33      0.34      0.03      3026\n",
      "weighted avg       0.87      0.04      0.05      3026\n",
      "\n"
     ]
    }
   ],
   "source": [
    "# classification report\n",
    "svm_clsreport = classification_report(test_Y, y_pred_svc)\n",
    "print(\"classification_report(left: labels):\")\n",
    "print(svm_clsreport)"
   ]
  },
  {
   "cell_type": "code",
   "execution_count": 75,
   "metadata": {},
   "outputs": [
    {
     "data": {
      "text/html": [
       "<div>\n",
       "<style scoped>\n",
       "    .dataframe tbody tr th:only-of-type {\n",
       "        vertical-align: middle;\n",
       "    }\n",
       "\n",
       "    .dataframe tbody tr th {\n",
       "        vertical-align: top;\n",
       "    }\n",
       "\n",
       "    .dataframe thead th {\n",
       "        text-align: right;\n",
       "    }\n",
       "</style>\n",
       "<table border=\"1\" class=\"dataframe\">\n",
       "  <thead>\n",
       "    <tr style=\"text-align: right;\">\n",
       "      <th></th>\n",
       "      <th>id_subscriptionMain</th>\n",
       "      <th>churn</th>\n",
       "    </tr>\n",
       "  </thead>\n",
       "  <tbody>\n",
       "    <tr>\n",
       "      <th>0</th>\n",
       "      <td>20992</td>\n",
       "      <td>2</td>\n",
       "    </tr>\n",
       "    <tr>\n",
       "      <th>1</th>\n",
       "      <td>2181</td>\n",
       "      <td>2</td>\n",
       "    </tr>\n",
       "    <tr>\n",
       "      <th>2</th>\n",
       "      <td>22839</td>\n",
       "      <td>2</td>\n",
       "    </tr>\n",
       "    <tr>\n",
       "      <th>3</th>\n",
       "      <td>14010</td>\n",
       "      <td>2</td>\n",
       "    </tr>\n",
       "    <tr>\n",
       "      <th>4</th>\n",
       "      <td>9737</td>\n",
       "      <td>2</td>\n",
       "    </tr>\n",
       "  </tbody>\n",
       "</table>\n",
       "</div>"
      ],
      "text/plain": [
       "   id_subscriptionMain  churn\n",
       "0                20992      2\n",
       "1                 2181      2\n",
       "2                22839      2\n",
       "3                14010      2\n",
       "4                 9737      2"
      ]
     },
     "execution_count": 75,
     "metadata": {},
     "output_type": "execute_result"
    }
   ],
   "source": [
    "# visualisation le resultat de prediction\n",
    "\n",
    "result_svc = pd.DataFrame({'id_subscriptionMain':test_id_sub.values, 'churn':y_pred_svc.astype(np.int32)})\n",
    "result_svc.head()"
   ]
  },
  {
   "cell_type": "markdown",
   "metadata": {},
   "source": [
    "## comparaison"
   ]
  },
  {
   "cell_type": "code",
   "execution_count": 76,
   "metadata": {},
   "outputs": [
    {
     "name": "stdout",
     "output_type": "stream",
     "text": [
      "('Random Forest', 94.64639788499669)\n",
      "('Decison Tree', 93.95241242564441)\n",
      "('Neural Network', 90.77990746860542)\n",
      "('Logistic Regression', 23.198942498347655)\n",
      "('SVM', 3.9986781229345674)\n"
     ]
    }
   ],
   "source": [
    "# comparation sur score_accuracy\n",
    "\n",
    "acc_models = {'Logistic Regression':LR_accuracy, 'Decison Tree':DT_accuracy, \n",
    "            'Random Forest':RF_accuracy, 'Neural Network':DNN_accuracy, 'SVM':SVM_accuracy}\n",
    "\n",
    "acc_dict=sorted(acc_models.items(), key=lambda x:x[1], reverse=True)\n",
    "for i in acc_dict:\n",
    "    print(i)"
   ]
  },
  {
   "cell_type": "code",
   "execution_count": 77,
   "metadata": {},
   "outputs": [
    {
     "name": "stdout",
     "output_type": "stream",
     "text": [
      "Logistic Regression:\n",
      "\n",
      " [[ 573  554 1620]\n",
      " [  23   92  116]\n",
      " [   2    9   37]] \n",
      "\n",
      "Decison Tree:\n",
      "\n",
      " [[2630  117    0]\n",
      " [  66  165    0]\n",
      " [   0    0   48]] \n",
      "\n",
      "Random Forest:\n",
      "\n",
      " [[2670   77    0]\n",
      " [  85  146    0]\n",
      " [   0    0   48]] \n",
      "\n",
      "Neural Network:\n",
      "\n",
      " [[2747    0    0]\n",
      " [ 231    0    0]\n",
      " [  48    0    0]] \n",
      "\n",
      "SVM:\n",
      "\n",
      " [[  73   15 2659]\n",
      " [   3    0  228]\n",
      " [   0    0   48]]\n"
     ]
    }
   ],
   "source": [
    "# comparaison with confusion matrix\n",
    "\n",
    "print('Logistic Regression:\\n\\n',lr_confsmat,'\\n\\nDecison Tree:\\n\\n', dt_confsmat,'\\n\\nRandom Forest:\\n\\n',\n",
    "      rf_confsmat,'\\n\\nNeural Network:\\n\\n', dnn_confsmat, '\\n\\nSVM:\\n\\n',svm_confsmat)"
   ]
  },
  {
   "cell_type": "code",
   "execution_count": 78,
   "metadata": {},
   "outputs": [
    {
     "name": "stdout",
     "output_type": "stream",
     "text": [
      "Logistic Regression:\n",
      "\n",
      "               precision    recall  f1-score   support\n",
      "\n",
      "           0       0.96      0.21      0.34      2747\n",
      "           1       0.14      0.40      0.21       231\n",
      "           2       0.02      0.77      0.04        48\n",
      "\n",
      "    accuracy                           0.23      3026\n",
      "   macro avg       0.37      0.46      0.20      3026\n",
      "weighted avg       0.88      0.23      0.33      3026\n",
      " \n",
      "\n",
      "Decison Tree:\n",
      "\n",
      "               precision    recall  f1-score   support\n",
      "\n",
      "           0       0.98      0.96      0.97      2747\n",
      "           1       0.59      0.71      0.64       231\n",
      "           2       1.00      1.00      1.00        48\n",
      "\n",
      "    accuracy                           0.94      3026\n",
      "   macro avg       0.85      0.89      0.87      3026\n",
      "weighted avg       0.95      0.94      0.94      3026\n",
      " \n",
      "\n",
      "Random Forest:\n",
      "\n",
      "               precision    recall  f1-score   support\n",
      "\n",
      "           0       0.97      0.97      0.97      2747\n",
      "           1       0.65      0.63      0.64       231\n",
      "           2       1.00      1.00      1.00        48\n",
      "\n",
      "    accuracy                           0.95      3026\n",
      "   macro avg       0.87      0.87      0.87      3026\n",
      "weighted avg       0.95      0.95      0.95      3026\n",
      " \n",
      "\n",
      "Neural Network:\n",
      "\n",
      "               precision    recall  f1-score   support\n",
      "\n",
      "           0       0.91      1.00      0.95      2747\n",
      "           1       0.00      0.00      0.00       231\n",
      "           2       0.00      0.00      0.00        48\n",
      "\n",
      "    accuracy                           0.91      3026\n",
      "   macro avg       0.30      0.33      0.32      3026\n",
      "weighted avg       0.82      0.91      0.86      3026\n",
      " \n",
      "\n",
      "SVM:\n",
      "\n",
      "               precision    recall  f1-score   support\n",
      "\n",
      "           0       0.96      0.03      0.05      2747\n",
      "           1       0.00      0.00      0.00       231\n",
      "           2       0.02      1.00      0.03        48\n",
      "\n",
      "    accuracy                           0.04      3026\n",
      "   macro avg       0.33      0.34      0.03      3026\n",
      "weighted avg       0.87      0.04      0.05      3026\n",
      "\n"
     ]
    }
   ],
   "source": [
    "# comparaison with classification_report\n",
    "\n",
    "print('Logistic Regression:\\n\\n',lr_clsreport,'\\n\\nDecison Tree:\\n\\n', dt_clsreport,'\\n\\nRandom Forest:\\n\\n',\n",
    "      rf_clsreport,'\\n\\nNeural Network:\\n\\n', dnn_clsreport, '\\n\\nSVM:\\n\\n',svm_clsreport)"
   ]
  },
  {
   "cell_type": "markdown",
   "metadata": {},
   "source": [
    "**definir les features**\n",
    "\n",
    "methode 2: choisir les features les plus importants"
   ]
  },
  {
   "cell_type": "code",
   "execution_count": 79,
   "metadata": {},
   "outputs": [],
   "source": [
    "# df5 = copy.deepcopy(df)\n",
    "df = copy.deepcopy(df5)"
   ]
  },
  {
   "cell_type": "code",
   "execution_count": 80,
   "metadata": {},
   "outputs": [],
   "source": [
    "ids = ['id_subscriptionMain', 'id', 'id_order']\n",
    "label = ['churn']\n",
    "\n",
    "features = [i for i in df.columns.values.tolist() if i not in ['id_subscriptionMain', 'id', 'id_order', 'churn']]\n",
    "data = [j for j in df.columns.values.tolist() if j not in ['id_subscriptionMain', 'id', 'id_order']]\n",
    "\n",
    "df_id = df[ids] # id_subscriptionMain, id_order et id\n",
    "df_data = df[data] # features + label\n",
    "df_features = df[features] # tous les champs sauf ids et churn\n",
    "df_label = df[label] # churn"
   ]
  },
  {
   "cell_type": "code",
   "execution_count": 81,
   "metadata": {},
   "outputs": [],
   "source": [
    "# utiliser ExtraTreesClassifier pour calculer l'importance de features\n",
    "from sklearn.ensemble import ExtraTreesClassifier\n",
    "\n",
    "df_imp = df_features\n",
    "\n",
    "clf = ExtraTreesClassifier(n_estimators=200)\n",
    "clf = clf.fit(df_imp, df['churn'])"
   ]
  },
  {
   "cell_type": "code",
   "execution_count": 82,
   "metadata": {},
   "outputs": [
    {
     "data": {
      "text/html": [
       "<div>\n",
       "<style scoped>\n",
       "    .dataframe tbody tr th:only-of-type {\n",
       "        vertical-align: middle;\n",
       "    }\n",
       "\n",
       "    .dataframe tbody tr th {\n",
       "        vertical-align: top;\n",
       "    }\n",
       "\n",
       "    .dataframe thead th {\n",
       "        text-align: right;\n",
       "    }\n",
       "</style>\n",
       "<table border=\"1\" class=\"dataframe\">\n",
       "  <thead>\n",
       "    <tr style=\"text-align: right;\">\n",
       "      <th></th>\n",
       "      <th>subscriptions_type</th>\n",
       "      <th>submain_state</th>\n",
       "      <th>newsletter</th>\n",
       "      <th>age</th>\n",
       "      <th>abonnement_succ</th>\n",
       "      <th>total_sub</th>\n",
       "      <th>abonnement_consec</th>\n",
       "      <th>year_pass</th>\n",
       "      <th>month_pass</th>\n",
       "      <th>begin_year</th>\n",
       "      <th>begin_month</th>\n",
       "      <th>end_year</th>\n",
       "      <th>end_month</th>\n",
       "    </tr>\n",
       "  </thead>\n",
       "  <tbody>\n",
       "    <tr>\n",
       "      <th>0</th>\n",
       "      <td>0.003437</td>\n",
       "      <td>0.0</td>\n",
       "      <td>0.0</td>\n",
       "      <td>0.000000</td>\n",
       "      <td>0.000286</td>\n",
       "      <td>0.000286</td>\n",
       "      <td>0.000286</td>\n",
       "      <td>0.577346</td>\n",
       "      <td>0.000859</td>\n",
       "      <td>0.577346</td>\n",
       "      <td>0.001146</td>\n",
       "      <td>0.577346</td>\n",
       "      <td>0.001432</td>\n",
       "    </tr>\n",
       "    <tr>\n",
       "      <th>1</th>\n",
       "      <td>0.003437</td>\n",
       "      <td>0.0</td>\n",
       "      <td>0.0</td>\n",
       "      <td>0.000000</td>\n",
       "      <td>0.000286</td>\n",
       "      <td>0.000573</td>\n",
       "      <td>0.000573</td>\n",
       "      <td>0.577345</td>\n",
       "      <td>0.001146</td>\n",
       "      <td>0.577345</td>\n",
       "      <td>0.001146</td>\n",
       "      <td>0.577345</td>\n",
       "      <td>0.001432</td>\n",
       "    </tr>\n",
       "    <tr>\n",
       "      <th>2</th>\n",
       "      <td>0.003437</td>\n",
       "      <td>0.0</td>\n",
       "      <td>0.0</td>\n",
       "      <td>0.000000</td>\n",
       "      <td>0.000286</td>\n",
       "      <td>0.000859</td>\n",
       "      <td>0.000859</td>\n",
       "      <td>0.577345</td>\n",
       "      <td>0.001432</td>\n",
       "      <td>0.577345</td>\n",
       "      <td>0.001146</td>\n",
       "      <td>0.577345</td>\n",
       "      <td>0.001432</td>\n",
       "    </tr>\n",
       "    <tr>\n",
       "      <th>3</th>\n",
       "      <td>0.004865</td>\n",
       "      <td>0.0</td>\n",
       "      <td>0.0</td>\n",
       "      <td>0.000286</td>\n",
       "      <td>0.000286</td>\n",
       "      <td>0.000286</td>\n",
       "      <td>0.000286</td>\n",
       "      <td>0.577247</td>\n",
       "      <td>0.000859</td>\n",
       "      <td>0.577247</td>\n",
       "      <td>0.000286</td>\n",
       "      <td>0.577533</td>\n",
       "      <td>0.002003</td>\n",
       "    </tr>\n",
       "    <tr>\n",
       "      <th>4</th>\n",
       "      <td>0.004865</td>\n",
       "      <td>0.0</td>\n",
       "      <td>0.0</td>\n",
       "      <td>0.000286</td>\n",
       "      <td>0.000286</td>\n",
       "      <td>0.000572</td>\n",
       "      <td>0.000572</td>\n",
       "      <td>0.577246</td>\n",
       "      <td>0.001145</td>\n",
       "      <td>0.577246</td>\n",
       "      <td>0.000286</td>\n",
       "      <td>0.577532</td>\n",
       "      <td>0.002003</td>\n",
       "    </tr>\n",
       "  </tbody>\n",
       "</table>\n",
       "</div>"
      ],
      "text/plain": [
       "   subscriptions_type  submain_state  newsletter       age  abonnement_succ  \\\n",
       "0            0.003437            0.0         0.0  0.000000         0.000286   \n",
       "1            0.003437            0.0         0.0  0.000000         0.000286   \n",
       "2            0.003437            0.0         0.0  0.000000         0.000286   \n",
       "3            0.004865            0.0         0.0  0.000286         0.000286   \n",
       "4            0.004865            0.0         0.0  0.000286         0.000286   \n",
       "\n",
       "   total_sub  abonnement_consec  year_pass  month_pass  begin_year  \\\n",
       "0   0.000286           0.000286   0.577346    0.000859    0.577346   \n",
       "1   0.000573           0.000573   0.577345    0.001146    0.577345   \n",
       "2   0.000859           0.000859   0.577345    0.001432    0.577345   \n",
       "3   0.000286           0.000286   0.577247    0.000859    0.577247   \n",
       "4   0.000572           0.000572   0.577246    0.001145    0.577246   \n",
       "\n",
       "   begin_month  end_year  end_month  \n",
       "0     0.001146  0.577346   0.001432  \n",
       "1     0.001146  0.577345   0.001432  \n",
       "2     0.001146  0.577345   0.001432  \n",
       "3     0.000286  0.577533   0.002003  \n",
       "4     0.000286  0.577532   0.002003  "
      ]
     },
     "execution_count": 82,
     "metadata": {},
     "output_type": "execute_result"
    }
   ],
   "source": [
    "df_imp.head()"
   ]
  },
  {
   "cell_type": "code",
   "execution_count": 83,
   "metadata": {},
   "outputs": [],
   "source": [
    "feats = pd.DataFrame()\n",
    "feats['feature'] = df_imp.columns\n",
    "feats['importance'] = clf.feature_importances_"
   ]
  },
  {
   "cell_type": "code",
   "execution_count": 84,
   "metadata": {},
   "outputs": [
    {
     "data": {
      "text/plain": [
       "<matplotlib.axes._subplots.AxesSubplot at 0x167812d72b0>"
      ]
     },
     "execution_count": 84,
     "metadata": {},
     "output_type": "execute_result"
    },
    {
     "data": {
      "image/png": "[encoded data removed]",
      "text/plain": [
       "<Figure size 720x360 with 1 Axes>"
      ]
     },
     "metadata": {
      "needs_background": "light"
     },
     "output_type": "display_data"
    }
   ],
   "source": [
    "feats.sort_values(by=['importance'], ascending=True, inplace=True)\n",
    "feats.set_index('feature', inplace=True)\n",
    "\n",
    "feats.plot(kind='barh', figsize=(10, 5))"
   ]
  },
  {
   "cell_type": "code",
   "execution_count": 85,
   "metadata": {},
   "outputs": [
    {
     "name": "stdout",
     "output_type": "stream",
     "text": [
      "(100864, 5)\n"
     ]
    }
   ],
   "source": [
    "# utiliser SelectFromModel a chosir les features les plus importants\n",
    "from sklearn.feature_selection import SelectFromModel\n",
    "\n",
    "mdl = SelectFromModel(clf, prefit=True)\n",
    "df_imp_new = mdl.transform(df_imp)\n",
    "\n",
    "print(df_imp_new.shape)"
   ]
  },
  {
   "cell_type": "code",
   "execution_count": 86,
   "metadata": {},
   "outputs": [
    {
     "data": {
      "text/html": [
       "<div>\n",
       "<style scoped>\n",
       "    .dataframe tbody tr th:only-of-type {\n",
       "        vertical-align: middle;\n",
       "    }\n",
       "\n",
       "    .dataframe tbody tr th {\n",
       "        vertical-align: top;\n",
       "    }\n",
       "\n",
       "    .dataframe thead th {\n",
       "        text-align: right;\n",
       "    }\n",
       "</style>\n",
       "<table border=\"1\" class=\"dataframe\">\n",
       "  <thead>\n",
       "    <tr style=\"text-align: right;\">\n",
       "      <th></th>\n",
       "      <th>id_subscriptionMain</th>\n",
       "      <th>id_order</th>\n",
       "      <th>id</th>\n",
       "      <th>abonnement_succ</th>\n",
       "      <th>year_pass</th>\n",
       "      <th>month_pass</th>\n",
       "      <th>end_year</th>\n",
       "      <th>end_month</th>\n",
       "      <th>churn</th>\n",
       "    </tr>\n",
       "  </thead>\n",
       "  <tbody>\n",
       "    <tr>\n",
       "      <th>0</th>\n",
       "      <td>3504</td>\n",
       "      <td>25244</td>\n",
       "      <td>22650</td>\n",
       "      <td>0.000286</td>\n",
       "      <td>0.577346</td>\n",
       "      <td>0.000859</td>\n",
       "      <td>0.577346</td>\n",
       "      <td>0.001432</td>\n",
       "      <td>0</td>\n",
       "    </tr>\n",
       "    <tr>\n",
       "      <th>1</th>\n",
       "      <td>3504</td>\n",
       "      <td>25244</td>\n",
       "      <td>22650</td>\n",
       "      <td>0.000286</td>\n",
       "      <td>0.577345</td>\n",
       "      <td>0.001146</td>\n",
       "      <td>0.577345</td>\n",
       "      <td>0.001432</td>\n",
       "      <td>0</td>\n",
       "    </tr>\n",
       "    <tr>\n",
       "      <th>2</th>\n",
       "      <td>3504</td>\n",
       "      <td>25244</td>\n",
       "      <td>22650</td>\n",
       "      <td>0.000286</td>\n",
       "      <td>0.577345</td>\n",
       "      <td>0.001432</td>\n",
       "      <td>0.577345</td>\n",
       "      <td>0.001432</td>\n",
       "      <td>1</td>\n",
       "    </tr>\n",
       "    <tr>\n",
       "      <th>3</th>\n",
       "      <td>19583</td>\n",
       "      <td>38629</td>\n",
       "      <td>24551</td>\n",
       "      <td>0.000286</td>\n",
       "      <td>0.577247</td>\n",
       "      <td>0.000859</td>\n",
       "      <td>0.577533</td>\n",
       "      <td>0.002003</td>\n",
       "      <td>0</td>\n",
       "    </tr>\n",
       "    <tr>\n",
       "      <th>4</th>\n",
       "      <td>19583</td>\n",
       "      <td>38629</td>\n",
       "      <td>24551</td>\n",
       "      <td>0.000286</td>\n",
       "      <td>0.577246</td>\n",
       "      <td>0.001145</td>\n",
       "      <td>0.577532</td>\n",
       "      <td>0.002003</td>\n",
       "      <td>0</td>\n",
       "    </tr>\n",
       "  </tbody>\n",
       "</table>\n",
       "</div>"
      ],
      "text/plain": [
       "   id_subscriptionMain  id_order     id  abonnement_succ  year_pass  \\\n",
       "0                 3504     25244  22650         0.000286   0.577346   \n",
       "1                 3504     25244  22650         0.000286   0.577345   \n",
       "2                 3504     25244  22650         0.000286   0.577345   \n",
       "3                19583     38629  24551         0.000286   0.577247   \n",
       "4                19583     38629  24551         0.000286   0.577246   \n",
       "\n",
       "   month_pass  end_year  end_month  churn  \n",
       "0    0.000859  0.577346   0.001432      0  \n",
       "1    0.001146  0.577345   0.001432      0  \n",
       "2    0.001432  0.577345   0.001432      1  \n",
       "3    0.000859  0.577533   0.002003      0  \n",
       "4    0.001145  0.577532   0.002003      0  "
      ]
     },
     "execution_count": 86,
     "metadata": {},
     "output_type": "execute_result"
    }
   ],
   "source": [
    "indices = mdl.get_support(indices=False)\n",
    "df_new = df_imp.loc[:, indices]\n",
    "df = pd.concat((df.iloc[:, :3], df_new, df['churn']), axis=1)\n",
    "df.head()"
   ]
  },
  {
   "cell_type": "code",
   "execution_count": 87,
   "metadata": {},
   "outputs": [],
   "source": [
    "# train_data = ['id_subscriptionMain','abonnement_succ', 'subscriptions_type', 'abonnement_succ', 'begin_year','churn'] \n",
    "# train_features = ['submain_state', 'subscriptions_type', 'abonnement_succ', 'begin_year']\n",
    "\n",
    "train_data = df.columns.values.tolist()\n",
    "train_features = [i for i in train_data if i not in ['id_subscriptionMain', 'id', 'id_order', 'churn']]\n",
    "\n",
    "df = df[train_data]\n",
    "df_features = df[train_features]"
   ]
  },
  {
   "cell_type": "markdown",
   "metadata": {},
   "source": [
    "**splitting data**"
   ]
  },
  {
   "cell_type": "code",
   "execution_count": 88,
   "metadata": {},
   "outputs": [],
   "source": [
    "df6 = copy.deepcopy(df)\n",
    "# df = copy.deepcopy(df6)"
   ]
  },
  {
   "cell_type": "code",
   "execution_count": 89,
   "metadata": {},
   "outputs": [
    {
     "name": "stdout",
     "output_type": "stream",
     "text": [
      "(100864, 9)\n",
      "(10086, 9)\n"
     ]
    }
   ],
   "source": [
    "# echantilloner au hasard une quantite des données\n",
    "print(df.shape)\n",
    "df = df.sample(frac=0.1, random_state=70, axis=0)\n",
    "\n",
    "print(df.shape)"
   ]
  },
  {
   "cell_type": "code",
   "execution_count": 90,
   "metadata": {},
   "outputs": [
    {
     "name": "stdout",
     "output_type": "stream",
     "text": [
      "0    6412\n",
      "1     548\n",
      "2     100\n",
      "Name: churn, dtype: int64\n"
     ]
    }
   ],
   "source": [
    "train,test = train_test_split(df,test_size = .3 ,random_state = 40)\n",
    "\n",
    "test_id_sub = test['id_subscriptionMain'].astype(int)\n",
    "# test_id_ord = test['id_order'].astype(int)\n",
    "# test_id_cust = test['id'].astype(int)\n",
    "\n",
    "cols = [i for i in df_features.columns.values.tolist()]\n",
    "\n",
    "train_X = train[cols]\n",
    "train_Y = train['churn']\n",
    "test_X  = test[cols]\n",
    "test_Y  = test['churn']\n",
    "\n",
    "X = pd.concat((train_X, test_X), axis=0)\n",
    "y = pd.concat((train_Y, test_Y), axis=0)\n",
    "\n",
    "print(train_Y.value_counts())"
   ]
  },
  {
   "cell_type": "markdown",
   "metadata": {},
   "source": [
    "**equilibrer les donnees**"
   ]
  },
  {
   "cell_type": "code",
   "execution_count": 91,
   "metadata": {},
   "outputs": [],
   "source": [
    "# df_cols = [i for i in df.columns.values.tolist()]\n",
    "# data_cols = [i for i in df_cols if i not in 'churn']\n",
    "\n",
    "data_cols = [i for i in train_X.columns.values.tolist()]\n",
    "\n",
    "# X_sampled = df[data_cols]\n",
    "# y_sampled = df['churn']\n",
    "X_sampled = train_X\n",
    "y_sampled = train_Y"
   ]
  },
  {
   "cell_type": "code",
   "execution_count": 92,
   "metadata": {},
   "outputs": [
    {
     "name": "stdout",
     "output_type": "stream",
     "text": [
      "0    6412\n",
      "1     548\n",
      "2     100\n",
      "Name: churn, dtype: int64\n",
      "2    6412\n",
      "1    6412\n",
      "0    6412\n",
      "dtype: int64\n"
     ]
    }
   ],
   "source": [
    "print(pd.Series(y_sampled).value_counts())\n",
    "\n",
    "# Over Sampling pour resoudre le probleme de desequilibre\n",
    "from imblearn.over_sampling import SMOTE\n",
    "smotte = SMOTE()\n",
    "X_resampled, y_resampled = smotte.fit_sample(X_sampled, y_sampled)\n",
    "\n",
    "print(pd.Series(y_resampled).value_counts())"
   ]
  },
  {
   "cell_type": "code",
   "execution_count": 93,
   "metadata": {},
   "outputs": [],
   "source": [
    "train_X = pd.DataFrame(X_resampled, columns=data_cols)\n",
    "train_Y = pd.DataFrame(y_resampled, columns=['churn'])"
   ]
  },
  {
   "cell_type": "markdown",
   "metadata": {},
   "source": [
    "**logistic regression**"
   ]
  },
  {
   "cell_type": "code",
   "execution_count": 94,
   "metadata": {},
   "outputs": [
    {
     "name": "stdout",
     "output_type": "stream",
     "text": [
      "LR Accuracy score = 44.61335095836087\n"
     ]
    },
    {
     "name": "stderr",
     "output_type": "stream",
     "text": [
      "D:\\ASUS\\Anaconda3\\lib\\site-packages\\sklearn\\utils\\validation.py:724: DataConversionWarning: A column-vector y was passed when a 1d array was expected. Please change the shape of y to (n_samples, ), for example using ravel().\n",
      "  y = column_or_1d(y, warn=True)\n"
     ]
    }
   ],
   "source": [
    "# Logistic Regression classifier\n",
    "LR = LogisticRegression(solver='lbfgs', multi_class='auto')\n",
    "LR.fit(train_X, train_Y)\n",
    "\n",
    "# prediction\n",
    "\n",
    "# 2 prediction type\n",
    "y_pred_lr = LR.predict(test_X) \n",
    "y_pred_prob_lr = LR.predict_proba(test_X) # Predict probabilities\n",
    "\n",
    "# accuracy_score\n",
    "LR_accuracy = accuracy_score(test_Y,y_pred_lr)*100\n",
    "print (\"LR Accuracy score = {}\".format(LR_accuracy))"
   ]
  },
  {
   "cell_type": "code",
   "execution_count": 95,
   "metadata": {},
   "outputs": [],
   "source": [
    "# y_pred_prob_lr_0 = y_pred_prob_lr[:,0]\n",
    "# y_pred_prob_lr_1 = y_pred_prob_lr[:,1]\n",
    "# y_pred_prob_lr_2 = y_pred_prob_lr[:,2]\n",
    "\n",
    "# result_prob_lr = pd.DataFrame({'id_subscriptionMain':test_id_sub.as_matrix(), \\\n",
    "#                                'churn_0':y_pred_prob_lr_0, 'churn_1':y_pred_prob_lr_1,\\\n",
    "#                               'churn_2':y_pred_prob_lr_2})\n",
    "# result_prob_lr.head()"
   ]
  },
  {
   "cell_type": "code",
   "execution_count": 96,
   "metadata": {},
   "outputs": [
    {
     "name": "stdout",
     "output_type": "stream",
     "text": [
      "[0 1 2]\n",
      "[0 1 2]\n"
     ]
    }
   ],
   "source": [
    "print(np.unique(test_Y))\n",
    "print(np.unique(y_pred_lr))"
   ]
  },
  {
   "cell_type": "code",
   "execution_count": 97,
   "metadata": {},
   "outputs": [
    {
     "name": "stdout",
     "output_type": "stream",
     "text": [
      "confusion matrix\n",
      "[[1187 1219  341]\n",
      " [  48  132   51]\n",
      " [   0   17   31]]\n"
     ]
    }
   ],
   "source": [
    "# confusion matrix\n",
    "lr_confsmat = confusion_matrix(test_Y, y_pred_lr, labels=[0,1,2])\n",
    "\n",
    "print(\"confusion matrix\")\n",
    "print(lr_confsmat)"
   ]
  },
  {
   "cell_type": "code",
   "execution_count": 98,
   "metadata": {},
   "outputs": [
    {
     "name": "stdout",
     "output_type": "stream",
     "text": [
      "classification_report(left: labels):\n",
      "              precision    recall  f1-score   support\n",
      "\n",
      "           0       0.96      0.43      0.60      2747\n",
      "           1       0.10      0.57      0.17       231\n",
      "           2       0.07      0.65      0.13        48\n",
      "\n",
      "    accuracy                           0.45      3026\n",
      "   macro avg       0.38      0.55      0.30      3026\n",
      "weighted avg       0.88      0.45      0.56      3026\n",
      "\n"
     ]
    }
   ],
   "source": [
    "# classification report\n",
    "\n",
    "# precision: how many classifications are given correctly\n",
    "# recall: the correctness of this classification. The greater the recall rate, the better the recognition of this class.\n",
    "# f1-socre: 2*precision*recall/(precision+recall)\n",
    "# support: actual number of samples per class\n",
    "\n",
    "lr_clsreport = classification_report(test_Y, y_pred_lr)\n",
    "\n",
    "print(\"classification_report(left: labels):\")\n",
    "print(lr_clsreport)"
   ]
  },
  {
   "cell_type": "code",
   "execution_count": 99,
   "metadata": {},
   "outputs": [
    {
     "data": {
      "text/html": [
       "<div>\n",
       "<style scoped>\n",
       "    .dataframe tbody tr th:only-of-type {\n",
       "        vertical-align: middle;\n",
       "    }\n",
       "\n",
       "    .dataframe tbody tr th {\n",
       "        vertical-align: top;\n",
       "    }\n",
       "\n",
       "    .dataframe thead th {\n",
       "        text-align: right;\n",
       "    }\n",
       "</style>\n",
       "<table border=\"1\" class=\"dataframe\">\n",
       "  <thead>\n",
       "    <tr style=\"text-align: right;\">\n",
       "      <th></th>\n",
       "      <th>id_subscriptionMain</th>\n",
       "      <th>churn</th>\n",
       "    </tr>\n",
       "  </thead>\n",
       "  <tbody>\n",
       "    <tr>\n",
       "      <th>0</th>\n",
       "      <td>20992</td>\n",
       "      <td>0</td>\n",
       "    </tr>\n",
       "    <tr>\n",
       "      <th>1</th>\n",
       "      <td>2181</td>\n",
       "      <td>1</td>\n",
       "    </tr>\n",
       "    <tr>\n",
       "      <th>2</th>\n",
       "      <td>22839</td>\n",
       "      <td>2</td>\n",
       "    </tr>\n",
       "    <tr>\n",
       "      <th>3</th>\n",
       "      <td>14010</td>\n",
       "      <td>0</td>\n",
       "    </tr>\n",
       "    <tr>\n",
       "      <th>4</th>\n",
       "      <td>9737</td>\n",
       "      <td>2</td>\n",
       "    </tr>\n",
       "  </tbody>\n",
       "</table>\n",
       "</div>"
      ],
      "text/plain": [
       "   id_subscriptionMain  churn\n",
       "0                20992      0\n",
       "1                 2181      1\n",
       "2                22839      2\n",
       "3                14010      0\n",
       "4                 9737      2"
      ]
     },
     "execution_count": 99,
     "metadata": {},
     "output_type": "execute_result"
    }
   ],
   "source": [
    "# visualisation le resultat de prediction\n",
    "result_lr = pd.DataFrame({'id_subscriptionMain':test_id_sub.values, 'churn':y_pred_lr.astype(np.int32)})\n",
    "result_lr.head()"
   ]
  },
  {
   "cell_type": "markdown",
   "metadata": {},
   "source": [
    "**Decision Tree**"
   ]
  },
  {
   "cell_type": "code",
   "execution_count": 100,
   "metadata": {},
   "outputs": [
    {
     "name": "stdout",
     "output_type": "stream",
     "text": [
      "DT Accuracy score = 95.47257105089227\n"
     ]
    }
   ],
   "source": [
    "# decision tree classifier\n",
    "\n",
    "DT = DecisionTreeClassifier(random_state=90)\n",
    "\n",
    "DT.fit(train_X, train_Y)\n",
    "\n",
    "# prediction\n",
    "\n",
    "y_pred_dt = DT.predict(test_X)\n",
    "y_pred_prob_dt = DT.predict_proba(test_X)\n",
    "\n",
    "# accuracy score\n",
    "DT_accuracy = accuracy_score(test_Y,y_pred_dt)*100\n",
    "print (\"DT Accuracy score = {}\".format(DT_accuracy))"
   ]
  },
  {
   "cell_type": "code",
   "execution_count": 101,
   "metadata": {},
   "outputs": [],
   "source": [
    "# y_pred_prob_dt_0 = y_pred_prob_dt[:,0]\n",
    "# y_pred_prob_dt_1 = y_pred_prob_dt[:,1]\n",
    "# y_pred_prob_dt_2 = y_pred_prob_dt[:,2]\n",
    "\n",
    "# result_prob_dt = pd.DataFrame({'id_subscriptionMain':test_id_sub.as_matrix(), \\\n",
    "#                                'churn_0':y_pred_prob_dt_0, 'churn_1':y_pred_prob_dt_1,\\\n",
    "#                               'churn_2':y_pred_prob_dt_2})\n",
    "# result_prob_dt.head()"
   ]
  },
  {
   "cell_type": "code",
   "execution_count": 102,
   "metadata": {},
   "outputs": [
    {
     "name": "stdout",
     "output_type": "stream",
     "text": [
      "[0 1 2]\n",
      "[0 1 2]\n"
     ]
    }
   ],
   "source": [
    "print(np.unique(test_Y))\n",
    "print(np.unique(y_pred_dt))"
   ]
  },
  {
   "cell_type": "code",
   "execution_count": 103,
   "metadata": {},
   "outputs": [
    {
     "name": "stdout",
     "output_type": "stream",
     "text": [
      "confusion matrix\n",
      "[[2655   92    0]\n",
      " [  45  186    0]\n",
      " [   0    0   48]]\n"
     ]
    }
   ],
   "source": [
    "# confusion matrix\n",
    "dt_confsmat = confusion_matrix(test_Y, y_pred_dt, labels=[0,1,2])\n",
    "\n",
    "print(\"confusion matrix\")\n",
    "print(dt_confsmat)"
   ]
  },
  {
   "cell_type": "code",
   "execution_count": 104,
   "metadata": {},
   "outputs": [
    {
     "name": "stdout",
     "output_type": "stream",
     "text": [
      "classification_report(left: labels):\n",
      "              precision    recall  f1-score   support\n",
      "\n",
      "           0       0.98      0.97      0.97      2747\n",
      "           1       0.67      0.81      0.73       231\n",
      "           2       1.00      1.00      1.00        48\n",
      "\n",
      "    accuracy                           0.95      3026\n",
      "   macro avg       0.88      0.92      0.90      3026\n",
      "weighted avg       0.96      0.95      0.96      3026\n",
      "\n"
     ]
    }
   ],
   "source": [
    "# classification report\n",
    "dt_clsreport = classification_report(test_Y, y_pred_dt)\n",
    "\n",
    "print(\"classification_report(left: labels):\")\n",
    "print(dt_clsreport)"
   ]
  },
  {
   "cell_type": "code",
   "execution_count": 105,
   "metadata": {},
   "outputs": [
    {
     "data": {
      "text/html": [
       "<div>\n",
       "<style scoped>\n",
       "    .dataframe tbody tr th:only-of-type {\n",
       "        vertical-align: middle;\n",
       "    }\n",
       "\n",
       "    .dataframe tbody tr th {\n",
       "        vertical-align: top;\n",
       "    }\n",
       "\n",
       "    .dataframe thead th {\n",
       "        text-align: right;\n",
       "    }\n",
       "</style>\n",
       "<table border=\"1\" class=\"dataframe\">\n",
       "  <thead>\n",
       "    <tr style=\"text-align: right;\">\n",
       "      <th></th>\n",
       "      <th>id_subscriptionMain</th>\n",
       "      <th>churn</th>\n",
       "    </tr>\n",
       "  </thead>\n",
       "  <tbody>\n",
       "    <tr>\n",
       "      <th>0</th>\n",
       "      <td>20992</td>\n",
       "      <td>0</td>\n",
       "    </tr>\n",
       "    <tr>\n",
       "      <th>1</th>\n",
       "      <td>2181</td>\n",
       "      <td>0</td>\n",
       "    </tr>\n",
       "    <tr>\n",
       "      <th>2</th>\n",
       "      <td>22839</td>\n",
       "      <td>0</td>\n",
       "    </tr>\n",
       "    <tr>\n",
       "      <th>3</th>\n",
       "      <td>14010</td>\n",
       "      <td>0</td>\n",
       "    </tr>\n",
       "    <tr>\n",
       "      <th>4</th>\n",
       "      <td>9737</td>\n",
       "      <td>1</td>\n",
       "    </tr>\n",
       "  </tbody>\n",
       "</table>\n",
       "</div>"
      ],
      "text/plain": [
       "   id_subscriptionMain  churn\n",
       "0                20992      0\n",
       "1                 2181      0\n",
       "2                22839      0\n",
       "3                14010      0\n",
       "4                 9737      1"
      ]
     },
     "execution_count": 105,
     "metadata": {},
     "output_type": "execute_result"
    }
   ],
   "source": [
    "result_dt = pd.DataFrame({'id_subscriptionMain':test_id_sub.values, 'churn':y_pred_dt.astype(np.int32)})\n",
    "result_dt.head()"
   ]
  },
  {
   "cell_type": "markdown",
   "metadata": {},
   "source": [
    "**Random Forest**"
   ]
  },
  {
   "cell_type": "code",
   "execution_count": 106,
   "metadata": {},
   "outputs": [
    {
     "name": "stderr",
     "output_type": "stream",
     "text": [
      "D:\\ASUS\\Anaconda3\\lib\\site-packages\\ipykernel_launcher.py:4: DataConversionWarning: A column-vector y was passed when a 1d array was expected. Please change the shape of y to (n_samples,), for example using ravel().\n",
      "  after removing the cwd from sys.path.\n"
     ]
    },
    {
     "name": "stdout",
     "output_type": "stream",
     "text": [
      "RF Accuracy score = 96.56311962987442\n"
     ]
    }
   ],
   "source": [
    "# random forest classifier\n",
    "\n",
    "RF = RandomForestClassifier(n_estimators=100, random_state=123)\n",
    "RF.fit(train_X, train_Y)\n",
    "\n",
    "# prediction\n",
    "\n",
    "y_pred_rf = RF.predict(test_X)\n",
    "y_pred_prob_rf = RF.predict_proba(test_X)\n",
    "\n",
    "# accuracy_score\n",
    "RF_accuracy = accuracy_score(test_Y,y_pred_rf)*100\n",
    "print (\"RF Accuracy score = {}\".format(RF_accuracy))"
   ]
  },
  {
   "cell_type": "code",
   "execution_count": 107,
   "metadata": {},
   "outputs": [],
   "source": [
    "# y_pred_prob_rf_0 = y_pred_prob_rf[:,0]\n",
    "# y_pred_prob_rf_1 = y_pred_prob_rf[:,1]\n",
    "# y_pred_prob_rf_2 = y_pred_prob_rf[:,2]\n",
    "\n",
    "# result_prob_rf = pd.DataFrame({'id_subscriptionMain':test_id_sub.as_matrix(), \\\n",
    "#                                'churn_0':y_pred_prob_rf_0, 'churn_1':y_pred_prob_rf_1,\\\n",
    "#                               'churn_2':y_pred_prob_rf_2})\n",
    "# result_prob_rf.head()"
   ]
  },
  {
   "cell_type": "code",
   "execution_count": 108,
   "metadata": {},
   "outputs": [
    {
     "name": "stdout",
     "output_type": "stream",
     "text": [
      "[0 1 2]\n",
      "[0 1 2]\n"
     ]
    }
   ],
   "source": [
    "print(np.unique(test_Y))\n",
    "print(np.unique(y_pred_rf))"
   ]
  },
  {
   "cell_type": "code",
   "execution_count": 109,
   "metadata": {},
   "outputs": [
    {
     "name": "stdout",
     "output_type": "stream",
     "text": [
      "confusion matrix\n",
      "[[2689   58    0]\n",
      " [  46  185    0]\n",
      " [   0    0   48]]\n"
     ]
    }
   ],
   "source": [
    "# confusion matrix\n",
    "rf_confsmat = confusion_matrix(test_Y, y_pred_rf, labels=[0,1,2])\n",
    "\n",
    "print(\"confusion matrix\")\n",
    "print(rf_confsmat)"
   ]
  },
  {
   "cell_type": "code",
   "execution_count": 110,
   "metadata": {},
   "outputs": [
    {
     "name": "stdout",
     "output_type": "stream",
     "text": [
      "classification_report(left: labels):\n",
      "              precision    recall  f1-score   support\n",
      "\n",
      "           0       0.98      0.98      0.98      2747\n",
      "           1       0.76      0.80      0.78       231\n",
      "           2       1.00      1.00      1.00        48\n",
      "\n",
      "    accuracy                           0.97      3026\n",
      "   macro avg       0.91      0.93      0.92      3026\n",
      "weighted avg       0.97      0.97      0.97      3026\n",
      "\n"
     ]
    }
   ],
   "source": [
    "# classification report\n",
    "rf_clsreport = classification_report(test_Y, y_pred_rf)\n",
    "\n",
    "print(\"classification_report(left: labels):\")\n",
    "print(rf_clsreport)"
   ]
  },
  {
   "cell_type": "code",
   "execution_count": 111,
   "metadata": {},
   "outputs": [
    {
     "data": {
      "text/html": [
       "<div>\n",
       "<style scoped>\n",
       "    .dataframe tbody tr th:only-of-type {\n",
       "        vertical-align: middle;\n",
       "    }\n",
       "\n",
       "    .dataframe tbody tr th {\n",
       "        vertical-align: top;\n",
       "    }\n",
       "\n",
       "    .dataframe thead th {\n",
       "        text-align: right;\n",
       "    }\n",
       "</style>\n",
       "<table border=\"1\" class=\"dataframe\">\n",
       "  <thead>\n",
       "    <tr style=\"text-align: right;\">\n",
       "      <th></th>\n",
       "      <th>id_subscriptionMain</th>\n",
       "      <th>churn</th>\n",
       "    </tr>\n",
       "  </thead>\n",
       "  <tbody>\n",
       "    <tr>\n",
       "      <th>0</th>\n",
       "      <td>20992</td>\n",
       "      <td>0</td>\n",
       "    </tr>\n",
       "    <tr>\n",
       "      <th>1</th>\n",
       "      <td>2181</td>\n",
       "      <td>0</td>\n",
       "    </tr>\n",
       "    <tr>\n",
       "      <th>2</th>\n",
       "      <td>22839</td>\n",
       "      <td>0</td>\n",
       "    </tr>\n",
       "    <tr>\n",
       "      <th>3</th>\n",
       "      <td>14010</td>\n",
       "      <td>0</td>\n",
       "    </tr>\n",
       "    <tr>\n",
       "      <th>4</th>\n",
       "      <td>9737</td>\n",
       "      <td>1</td>\n",
       "    </tr>\n",
       "  </tbody>\n",
       "</table>\n",
       "</div>"
      ],
      "text/plain": [
       "   id_subscriptionMain  churn\n",
       "0                20992      0\n",
       "1                 2181      0\n",
       "2                22839      0\n",
       "3                14010      0\n",
       "4                 9737      1"
      ]
     },
     "execution_count": 111,
     "metadata": {},
     "output_type": "execute_result"
    }
   ],
   "source": [
    "result_rf = pd.DataFrame({'id_subscriptionMain':test_id_sub.values, 'churn':y_pred_rf.astype(np.int32)})\n",
    "result_rf.head()"
   ]
  },
  {
   "cell_type": "markdown",
   "metadata": {},
   "source": [
    "**Neural network**"
   ]
  },
  {
   "cell_type": "code",
   "execution_count": 112,
   "metadata": {},
   "outputs": [],
   "source": [
    "#Create feature columns for estimator\n",
    "def make_feature_cols():\n",
    "    input_columns = [tf.feature_column.numeric_column(k) for k in train_features]\n",
    "    return input_columns\n",
    "\n",
    "#Train, eval and predict input functions to read from Pandas Dataframe\n",
    "def train_func(train_x,train_y,batch_size):\n",
    "    dataset = tf.data.Dataset.from_tensor_slices((dict(train_x), train_y))\n",
    "    dataset = dataset.shuffle(1000).repeat().batch(batch_size)\n",
    "    return dataset\n",
    "\n",
    "def eval_input_fn(features, labels, batch_size):\n",
    "    features=dict(features)\n",
    "    if labels is None:\n",
    "        # No labels, use only features.\n",
    "        inputs = features\n",
    "    else:\n",
    "        inputs = (features, labels)\n",
    "    dataset = tf.data.Dataset.from_tensor_slices(inputs)\n",
    " \n",
    "    assert batch_size is not None, \"batch_size must not be None\"\n",
    "    dataset = dataset.batch(batch_size)\n",
    "    return dataset"
   ]
  },
  {
   "cell_type": "code",
   "execution_count": 113,
   "metadata": {
    "scrolled": true
   },
   "outputs": [
    {
     "name": "stdout",
     "output_type": "stream",
     "text": [
      "INFO:tensorflow:Using default config.\n",
      "INFO:tensorflow:Using config: {'_model_dir': 'envouthe_algo', '_tf_random_seed': None, '_save_summary_steps': 100, '_save_checkpoints_steps': None, '_save_checkpoints_secs': 600, '_session_config': allow_soft_placement: true\n",
      "graph_options {\n",
      "  rewrite_options {\n",
      "    meta_optimizer_iterations: ONE\n",
      "  }\n",
      "}\n",
      ", '_keep_checkpoint_max': 5, '_keep_checkpoint_every_n_hours': 10000, '_log_step_count_steps': 100, '_train_distribute': None, '_device_fn': None, '_protocol': None, '_eval_distribute': None, '_experimental_distribute': None, '_service': None, '_cluster_spec': <tensorflow.python.training.server_lib.ClusterSpec object at 0x000001678A7379E8>, '_task_type': 'worker', '_task_id': 0, '_global_id_in_cluster': 0, '_master': '', '_evaluation_master': '', '_is_chief': True, '_num_ps_replicas': 0, '_num_worker_replicas': 1}\n"
     ]
    }
   ],
   "source": [
    "import shutil\n",
    "\n",
    "OUTDIR = 'envouthe_algo'\n",
    "shutil.rmtree(OUTDIR, ignore_errors = True) # start fresh each time\n",
    "tf.logging.set_verbosity(tf.logging.INFO)\n",
    "\n",
    "# DNN classifier with tf.Estimator framework\n",
    "\n",
    "model = tf.estimator.DNNClassifier(\n",
    "    model_dir = OUTDIR,\n",
    "    feature_columns=make_feature_cols(),\n",
    "    hidden_units=[64, 32], # specify hidden layers\n",
    "    n_classes=3, # classify the output classes\n",
    "    optimizer=lambda: tf.train.AdamOptimizer(\n",
    "        learning_rate=tf.train.exponential_decay(\n",
    "            learning_rate=0.1,\n",
    "            global_step=tf.train.get_global_step(),\n",
    "            decay_steps=10000,\n",
    "            decay_rate=0.96))\n",
    ")"
   ]
  },
  {
   "cell_type": "code",
   "execution_count": 114,
   "metadata": {
    "scrolled": true
   },
   "outputs": [
    {
     "name": "stdout",
     "output_type": "stream",
     "text": [
      "INFO:tensorflow:Calling model_fn.\n",
      "INFO:tensorflow:Done calling model_fn.\n",
      "INFO:tensorflow:Create CheckpointSaverHook.\n",
      "INFO:tensorflow:Graph was finalized.\n",
      "INFO:tensorflow:Running local_init_op.\n",
      "INFO:tensorflow:Done running local_init_op.\n",
      "INFO:tensorflow:Saving checkpoints for 0 into envouthe_algo\\model.ckpt.\n",
      "INFO:tensorflow:loss = 102.17483, step = 1\n",
      "INFO:tensorflow:global_step/sec: 539.612\n",
      "INFO:tensorflow:loss = 5.6136274, step = 101 (0.189 sec)\n",
      "INFO:tensorflow:global_step/sec: 506.306\n",
      "INFO:tensorflow:loss = 362.23975, step = 201 (0.195 sec)\n",
      "INFO:tensorflow:global_step/sec: 470.841\n",
      "INFO:tensorflow:loss = 6.3021135, step = 301 (0.214 sec)\n",
      "INFO:tensorflow:global_step/sec: 501.331\n",
      "INFO:tensorflow:loss = 59.841255, step = 401 (0.196 sec)\n",
      "INFO:tensorflow:global_step/sec: 656.288\n",
      "INFO:tensorflow:loss = 1.8656491, step = 501 (0.153 sec)\n",
      "INFO:tensorflow:global_step/sec: 655.359\n",
      "INFO:tensorflow:loss = 57.999878, step = 601 (0.152 sec)\n",
      "INFO:tensorflow:global_step/sec: 684.326\n",
      "INFO:tensorflow:loss = 178.2518, step = 701 (0.145 sec)\n",
      "INFO:tensorflow:global_step/sec: 677.624\n",
      "INFO:tensorflow:loss = 43.44332, step = 801 (0.149 sec)\n",
      "INFO:tensorflow:global_step/sec: 691.327\n",
      "INFO:tensorflow:loss = 291.7, step = 901 (0.145 sec)\n",
      "INFO:tensorflow:Saving checkpoints for 1000 into envouthe_algo\\model.ckpt.\n",
      "INFO:tensorflow:Loss for final step: 74.563545.\n"
     ]
    },
    {
     "data": {
      "text/plain": [
       "<tensorflow.python.estimator.canned.dnn.DNNClassifier at 0x1678a7173c8>"
      ]
     },
     "execution_count": 114,
     "metadata": {},
     "output_type": "execute_result"
    }
   ],
   "source": [
    "# train\n",
    "\n",
    "batch_size = 100\n",
    "train_steps = 1000\n",
    "\n",
    "model.train(\n",
    "    input_fn=lambda:train_func(train_X,train_Y,batch_size),\n",
    "    steps=train_steps\n",
    ")"
   ]
  },
  {
   "cell_type": "code",
   "execution_count": 115,
   "metadata": {},
   "outputs": [
    {
     "name": "stdout",
     "output_type": "stream",
     "text": [
      "INFO:tensorflow:Calling model_fn.\n",
      "INFO:tensorflow:Done calling model_fn.\n",
      "INFO:tensorflow:Starting evaluation at 2019-09-13-12:39:28\n",
      "INFO:tensorflow:Graph was finalized.\n",
      "INFO:tensorflow:Restoring parameters from envouthe_algo\\model.ckpt-1000\n",
      "INFO:tensorflow:Running local_init_op.\n",
      "INFO:tensorflow:Done running local_init_op.\n",
      "INFO:tensorflow:Finished evaluation at 2019-09-13-12:39:29\n",
      "INFO:tensorflow:Saving dict for global step 1000: accuracy = 0.90779907, average_loss = 0.43613923, global_step = 1000, loss = 42.57282\n",
      "INFO:tensorflow:Saving 'checkpoint_path' summary for global step 1000: envouthe_algo\\model.ckpt-1000\n"
     ]
    }
   ],
   "source": [
    "# evaluation\n",
    "batch_size=100\n",
    "\n",
    "eval_result = model.evaluate(\n",
    "    input_fn=lambda:eval_input_fn(test_X, test_Y,batch_size)\n",
    ")"
   ]
  },
  {
   "cell_type": "code",
   "execution_count": 116,
   "metadata": {
    "scrolled": true
   },
   "outputs": [
    {
     "name": "stdout",
     "output_type": "stream",
     "text": [
      "INFO:tensorflow:Calling model_fn.\n",
      "INFO:tensorflow:Done calling model_fn.\n",
      "INFO:tensorflow:Graph was finalized.\n",
      "INFO:tensorflow:Restoring parameters from envouthe_algo\\model.ckpt-1000\n",
      "INFO:tensorflow:Running local_init_op.\n",
      "INFO:tensorflow:Done running local_init_op.\n"
     ]
    }
   ],
   "source": [
    "# prediction\n",
    "\n",
    "y_pred_dnn = model.predict(\n",
    "        input_fn=lambda:eval_input_fn(test_X,labels=None,batch_size=batch_size))\n",
    "\n",
    "predict_arr = []\n",
    "# y_pred_prob_dnn_0 = []\n",
    "# y_pred_prob_dnn_1 = []\n",
    "# y_pred_prob_dnn_2 = []\n",
    "\n",
    "for predict in y_pred_dnn:\n",
    "    predict_arr.append(predict['probabilities'].argmax())\n",
    "#     y_pred_prob_dnn_0.append(predict['probabilities'][0])\n",
    "#     y_pred_prob_dnn_1.append(predict['probabilities'][1])\n",
    "#     y_pred_prob_dnn_2.append(predict['probabilities'][2])"
   ]
  },
  {
   "cell_type": "code",
   "execution_count": 117,
   "metadata": {},
   "outputs": [
    {
     "name": "stdout",
     "output_type": "stream",
     "text": [
      "DNN  Accuracy score = 90.77990746860542\n"
     ]
    }
   ],
   "source": [
    "# accuracy_score\n",
    "DNN_accuracy = accuracy_score(test_Y,predict_arr)*100\n",
    "print (\"DNN  Accuracy score = {}\".format(DNN_accuracy))"
   ]
  },
  {
   "cell_type": "code",
   "execution_count": 118,
   "metadata": {},
   "outputs": [
    {
     "name": "stdout",
     "output_type": "stream",
     "text": [
      "[0 1 2]\n",
      "[0]\n"
     ]
    }
   ],
   "source": [
    "print(np.unique(test_Y))\n",
    "print(np.unique(predict_arr))"
   ]
  },
  {
   "cell_type": "code",
   "execution_count": 119,
   "metadata": {},
   "outputs": [
    {
     "name": "stdout",
     "output_type": "stream",
     "text": [
      "confusion matrix\n",
      "[[2747    0    0]\n",
      " [ 231    0    0]\n",
      " [  48    0    0]]\n"
     ]
    }
   ],
   "source": [
    "# confusion matrix\n",
    "dnn_confsmat = confusion_matrix(test_Y, predict_arr, labels=[0,1,2])\n",
    "print(\"confusion matrix\")\n",
    "print(dnn_confsmat)"
   ]
  },
  {
   "cell_type": "code",
   "execution_count": 120,
   "metadata": {},
   "outputs": [
    {
     "name": "stdout",
     "output_type": "stream",
     "text": [
      "classification_report(left: labels):\n",
      "              precision    recall  f1-score   support\n",
      "\n",
      "           0       0.91      1.00      0.95      2747\n",
      "           1       0.00      0.00      0.00       231\n",
      "           2       0.00      0.00      0.00        48\n",
      "\n",
      "    accuracy                           0.91      3026\n",
      "   macro avg       0.30      0.33      0.32      3026\n",
      "weighted avg       0.82      0.91      0.86      3026\n",
      "\n"
     ]
    },
    {
     "name": "stderr",
     "output_type": "stream",
     "text": [
      "D:\\ASUS\\Anaconda3\\lib\\site-packages\\sklearn\\metrics\\classification.py:1437: UndefinedMetricWarning: Precision and F-score are ill-defined and being set to 0.0 in labels with no predicted samples.\n",
      "  'precision', 'predicted', average, warn_for)\n",
      "D:\\ASUS\\Anaconda3\\lib\\site-packages\\sklearn\\metrics\\classification.py:1437: UndefinedMetricWarning: Precision and F-score are ill-defined and being set to 0.0 in labels with no predicted samples.\n",
      "  'precision', 'predicted', average, warn_for)\n",
      "D:\\ASUS\\Anaconda3\\lib\\site-packages\\sklearn\\metrics\\classification.py:1437: UndefinedMetricWarning: Precision and F-score are ill-defined and being set to 0.0 in labels with no predicted samples.\n",
      "  'precision', 'predicted', average, warn_for)\n"
     ]
    }
   ],
   "source": [
    "# classification report\n",
    "dnn_clsreport = classification_report(test_Y, predict_arr)\n",
    "print(\"classification_report(left: labels):\")\n",
    "print(dnn_clsreport)"
   ]
  },
  {
   "cell_type": "code",
   "execution_count": 121,
   "metadata": {},
   "outputs": [
    {
     "data": {
      "text/html": [
       "<div>\n",
       "<style scoped>\n",
       "    .dataframe tbody tr th:only-of-type {\n",
       "        vertical-align: middle;\n",
       "    }\n",
       "\n",
       "    .dataframe tbody tr th {\n",
       "        vertical-align: top;\n",
       "    }\n",
       "\n",
       "    .dataframe thead th {\n",
       "        text-align: right;\n",
       "    }\n",
       "</style>\n",
       "<table border=\"1\" class=\"dataframe\">\n",
       "  <thead>\n",
       "    <tr style=\"text-align: right;\">\n",
       "      <th></th>\n",
       "      <th>id_subscriptionMain</th>\n",
       "      <th>churn</th>\n",
       "    </tr>\n",
       "  </thead>\n",
       "  <tbody>\n",
       "    <tr>\n",
       "      <th>0</th>\n",
       "      <td>20992</td>\n",
       "      <td>0</td>\n",
       "    </tr>\n",
       "    <tr>\n",
       "      <th>1</th>\n",
       "      <td>2181</td>\n",
       "      <td>0</td>\n",
       "    </tr>\n",
       "    <tr>\n",
       "      <th>2</th>\n",
       "      <td>22839</td>\n",
       "      <td>0</td>\n",
       "    </tr>\n",
       "    <tr>\n",
       "      <th>3</th>\n",
       "      <td>14010</td>\n",
       "      <td>0</td>\n",
       "    </tr>\n",
       "    <tr>\n",
       "      <th>4</th>\n",
       "      <td>9737</td>\n",
       "      <td>0</td>\n",
       "    </tr>\n",
       "  </tbody>\n",
       "</table>\n",
       "</div>"
      ],
      "text/plain": [
       "   id_subscriptionMain  churn\n",
       "0                20992      0\n",
       "1                 2181      0\n",
       "2                22839      0\n",
       "3                14010      0\n",
       "4                 9737      0"
      ]
     },
     "execution_count": 121,
     "metadata": {},
     "output_type": "execute_result"
    }
   ],
   "source": [
    "result_dnn = pd.DataFrame({'id_subscriptionMain':test_id_sub.values, 'churn':predict_arr})\n",
    "result_dnn.head()"
   ]
  },
  {
   "cell_type": "markdown",
   "metadata": {},
   "source": [
    "**SVM**"
   ]
  },
  {
   "cell_type": "code",
   "execution_count": 122,
   "metadata": {},
   "outputs": [
    {
     "name": "stderr",
     "output_type": "stream",
     "text": [
      "D:\\ASUS\\Anaconda3\\lib\\site-packages\\sklearn\\utils\\validation.py:724: DataConversionWarning: A column-vector y was passed when a 1d array was expected. Please change the shape of y to (n_samples, ), for example using ravel().\n",
      "  y = column_or_1d(y, warn=True)\n"
     ]
    },
    {
     "name": "stdout",
     "output_type": "stream",
     "text": [
      "SVM Accuracy score = 39.55717118307997\n"
     ]
    }
   ],
   "source": [
    "# C-Support Vector Classification\n",
    "\n",
    "svc = SVC(gamma='auto', probability=True)\n",
    "svc.fit(train_X, train_Y)\n",
    "\n",
    "# prediction\n",
    "\n",
    "y_pred_svc = svc.predict(test_X)\n",
    "y_pred_prob_svc = svc.predict_proba(test_X)\n",
    "\n",
    "# accuracy_score\n",
    "SVM_accuracy = accuracy_score(test_Y,y_pred_svc)*100\n",
    "print (\"SVM Accuracy score = {}\".format(SVM_accuracy))"
   ]
  },
  {
   "cell_type": "code",
   "execution_count": 123,
   "metadata": {},
   "outputs": [],
   "source": [
    "# y_pred_prob_svc_0 = y_pred_prob_svc[:,0]\n",
    "# y_pred_prob_svc_1 = y_pred_prob_svc[:,1]\n",
    "# y_pred_prob_svc_2 = y_pred_prob_svc[:,2]\n",
    "# y_pred_prob_svc_3 = y_pred_prob_svc[:,3]\n",
    "\n",
    "# result_prob_svc = pd.DataFrame({'id_subscriptionMain':test_id_sub.as_matrix(), \\\n",
    "#                                'churn_0':y_pred_prob_svc_0, 'churn_1':y_pred_prob_svc_1,\\\n",
    "#                               'churn_2':y_pred_prob_svc_2, 'churn_3':y_pred_prob_svc_3})\n",
    "# result_prob_svc.head()"
   ]
  },
  {
   "cell_type": "code",
   "execution_count": 124,
   "metadata": {},
   "outputs": [
    {
     "name": "stdout",
     "output_type": "stream",
     "text": [
      "[0 1 2]\n",
      "[0 1 2]\n"
     ]
    }
   ],
   "source": [
    "print(np.unique(test_Y))\n",
    "print(np.unique(y_pred_svc))"
   ]
  },
  {
   "cell_type": "code",
   "execution_count": 125,
   "metadata": {},
   "outputs": [
    {
     "name": "stdout",
     "output_type": "stream",
     "text": [
      "confusion matrix\n",
      "[[1016 1387  344]\n",
      " [  28  152   51]\n",
      " [   0   19   29]]\n"
     ]
    }
   ],
   "source": [
    "# confusion matrix\n",
    "svm_confsmat = confusion_matrix(test_Y, y_pred_svc, labels=[0,1,2])\n",
    "print(\"confusion matrix\")\n",
    "print(svm_confsmat)"
   ]
  },
  {
   "cell_type": "code",
   "execution_count": 126,
   "metadata": {},
   "outputs": [
    {
     "name": "stdout",
     "output_type": "stream",
     "text": [
      "classification_report(left: labels):\n",
      "              precision    recall  f1-score   support\n",
      "\n",
      "           0       0.97      0.37      0.54      2747\n",
      "           1       0.10      0.66      0.17       231\n",
      "           2       0.07      0.60      0.12        48\n",
      "\n",
      "    accuracy                           0.40      3026\n",
      "   macro avg       0.38      0.54      0.28      3026\n",
      "weighted avg       0.89      0.40      0.50      3026\n",
      "\n"
     ]
    }
   ],
   "source": [
    "# classification report\n",
    "svm_clsreport = classification_report(test_Y, y_pred_svc)\n",
    "print(\"classification_report(left: labels):\")\n",
    "print(svm_clsreport)"
   ]
  },
  {
   "cell_type": "code",
   "execution_count": 127,
   "metadata": {},
   "outputs": [
    {
     "data": {
      "text/html": [
       "<div>\n",
       "<style scoped>\n",
       "    .dataframe tbody tr th:only-of-type {\n",
       "        vertical-align: middle;\n",
       "    }\n",
       "\n",
       "    .dataframe tbody tr th {\n",
       "        vertical-align: top;\n",
       "    }\n",
       "\n",
       "    .dataframe thead th {\n",
       "        text-align: right;\n",
       "    }\n",
       "</style>\n",
       "<table border=\"1\" class=\"dataframe\">\n",
       "  <thead>\n",
       "    <tr style=\"text-align: right;\">\n",
       "      <th></th>\n",
       "      <th>id_subscriptionMain</th>\n",
       "      <th>churn</th>\n",
       "    </tr>\n",
       "  </thead>\n",
       "  <tbody>\n",
       "    <tr>\n",
       "      <th>0</th>\n",
       "      <td>20992</td>\n",
       "      <td>0</td>\n",
       "    </tr>\n",
       "    <tr>\n",
       "      <th>1</th>\n",
       "      <td>2181</td>\n",
       "      <td>1</td>\n",
       "    </tr>\n",
       "    <tr>\n",
       "      <th>2</th>\n",
       "      <td>22839</td>\n",
       "      <td>2</td>\n",
       "    </tr>\n",
       "    <tr>\n",
       "      <th>3</th>\n",
       "      <td>14010</td>\n",
       "      <td>0</td>\n",
       "    </tr>\n",
       "    <tr>\n",
       "      <th>4</th>\n",
       "      <td>9737</td>\n",
       "      <td>2</td>\n",
       "    </tr>\n",
       "  </tbody>\n",
       "</table>\n",
       "</div>"
      ],
      "text/plain": [
       "   id_subscriptionMain  churn\n",
       "0                20992      0\n",
       "1                 2181      1\n",
       "2                22839      2\n",
       "3                14010      0\n",
       "4                 9737      2"
      ]
     },
     "execution_count": 127,
     "metadata": {},
     "output_type": "execute_result"
    }
   ],
   "source": [
    "# visualisation le resultat de prediction\n",
    "\n",
    "result_svc = pd.DataFrame({'id_subscriptionMain':test_id_sub.values, 'churn':y_pred_svc.astype(np.int32)})\n",
    "result_svc.head()"
   ]
  },
  {
   "cell_type": "markdown",
   "metadata": {},
   "source": [
    "## comparaison"
   ]
  },
  {
   "cell_type": "code",
   "execution_count": 128,
   "metadata": {},
   "outputs": [
    {
     "name": "stdout",
     "output_type": "stream",
     "text": [
      "('Random Forest', 96.56311962987442)\n",
      "('Decison Tree', 95.47257105089227)\n",
      "('Neural Network', 90.77990746860542)\n",
      "('Logistic Regression', 44.61335095836087)\n",
      "('SVM', 39.55717118307997)\n"
     ]
    }
   ],
   "source": [
    "# comparation sur score_accuracy\n",
    "\n",
    "acc_models = {'Logistic Regression':LR_accuracy, 'Decison Tree':DT_accuracy, \n",
    "            'Random Forest':RF_accuracy, 'Neural Network':DNN_accuracy, 'SVM':SVM_accuracy}\n",
    "\n",
    "acc_dict=sorted(acc_models.items(), key=lambda x:x[1], reverse=True)\n",
    "for i in acc_dict:\n",
    "    print(i)"
   ]
  },
  {
   "cell_type": "code",
   "execution_count": 129,
   "metadata": {},
   "outputs": [
    {
     "name": "stdout",
     "output_type": "stream",
     "text": [
      "Logistic Regression:\n",
      "\n",
      " [[1187 1219  341]\n",
      " [  48  132   51]\n",
      " [   0   17   31]] \n",
      "\n",
      "Decison Tree:\n",
      "\n",
      " [[2655   92    0]\n",
      " [  45  186    0]\n",
      " [   0    0   48]] \n",
      "\n",
      "Random Forest:\n",
      "\n",
      " [[2689   58    0]\n",
      " [  46  185    0]\n",
      " [   0    0   48]] \n",
      "\n",
      "Neural Network:\n",
      "\n",
      " [[2747    0    0]\n",
      " [ 231    0    0]\n",
      " [  48    0    0]] \n",
      "\n",
      "SVM:\n",
      "\n",
      " [[1016 1387  344]\n",
      " [  28  152   51]\n",
      " [   0   19   29]]\n"
     ]
    }
   ],
   "source": [
    "# comparaison with confusion matrix\n",
    "\n",
    "print('Logistic Regression:\\n\\n',lr_confsmat,'\\n\\nDecison Tree:\\n\\n', dt_confsmat,'\\n\\nRandom Forest:\\n\\n',\n",
    "      rf_confsmat,'\\n\\nNeural Network:\\n\\n', dnn_confsmat, '\\n\\nSVM:\\n\\n',svm_confsmat)"
   ]
  },
  {
   "cell_type": "code",
   "execution_count": 130,
   "metadata": {},
   "outputs": [
    {
     "name": "stdout",
     "output_type": "stream",
     "text": [
      "Logistic Regression:\n",
      "\n",
      "               precision    recall  f1-score   support\n",
      "\n",
      "           0       0.96      0.43      0.60      2747\n",
      "           1       0.10      0.57      0.17       231\n",
      "           2       0.07      0.65      0.13        48\n",
      "\n",
      "    accuracy                           0.45      3026\n",
      "   macro avg       0.38      0.55      0.30      3026\n",
      "weighted avg       0.88      0.45      0.56      3026\n",
      " \n",
      "\n",
      "Decison Tree:\n",
      "\n",
      "               precision    recall  f1-score   support\n",
      "\n",
      "           0       0.98      0.97      0.97      2747\n",
      "           1       0.67      0.81      0.73       231\n",
      "           2       1.00      1.00      1.00        48\n",
      "\n",
      "    accuracy                           0.95      3026\n",
      "   macro avg       0.88      0.92      0.90      3026\n",
      "weighted avg       0.96      0.95      0.96      3026\n",
      " \n",
      "\n",
      "Random Forest:\n",
      "\n",
      "               precision    recall  f1-score   support\n",
      "\n",
      "           0       0.98      0.98      0.98      2747\n",
      "           1       0.76      0.80      0.78       231\n",
      "           2       1.00      1.00      1.00        48\n",
      "\n",
      "    accuracy                           0.97      3026\n",
      "   macro avg       0.91      0.93      0.92      3026\n",
      "weighted avg       0.97      0.97      0.97      3026\n",
      " \n",
      "\n",
      "Neural Network:\n",
      "\n",
      "               precision    recall  f1-score   support\n",
      "\n",
      "           0       0.91      1.00      0.95      2747\n",
      "           1       0.00      0.00      0.00       231\n",
      "           2       0.00      0.00      0.00        48\n",
      "\n",
      "    accuracy                           0.91      3026\n",
      "   macro avg       0.30      0.33      0.32      3026\n",
      "weighted avg       0.82      0.91      0.86      3026\n",
      " \n",
      "\n",
      "SVM:\n",
      "\n",
      "               precision    recall  f1-score   support\n",
      "\n",
      "           0       0.97      0.37      0.54      2747\n",
      "           1       0.10      0.66      0.17       231\n",
      "           2       0.07      0.60      0.12        48\n",
      "\n",
      "    accuracy                           0.40      3026\n",
      "   macro avg       0.38      0.54      0.28      3026\n",
      "weighted avg       0.89      0.40      0.50      3026\n",
      "\n"
     ]
    }
   ],
   "source": [
    "# comparaison with classification_report\n",
    "\n",
    "print('Logistic Regression:\\n\\n',lr_clsreport,'\\n\\nDecison Tree:\\n\\n', dt_clsreport,'\\n\\nRandom Forest:\\n\\n',\n",
    "      rf_clsreport,'\\n\\nNeural Network:\\n\\n', dnn_clsreport, '\\n\\nSVM:\\n\\n',svm_clsreport)"
   ]
  }
 ],
 "metadata": {
  "kernelspec": {
   "display_name": "Python 3",
   "language": "python",
   "name": "python3"
  },
  "language_info": {
   "codemirror_mode": {
    "name": "ipython",
    "version": 3
   },
   "file_extension": ".py",
   "mimetype": "text/x-python",
   "name": "python",
   "nbconvert_exporter": "python",
   "pygments_lexer": "ipython3",
   "version": "3.6.8"
  }
 },
 "nbformat": 4,
 "nbformat_minor": 2
}
